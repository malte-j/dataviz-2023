{
 "cells": [
  {
   "cell_type": "code",
   "execution_count": 2,
   "metadata": {},
   "outputs": [
    {
     "name": "stdout",
     "output_type": "stream",
     "text": [
      "The sql extension is already loaded. To reload it, use:\n",
      "  %reload_ext sql\n"
     ]
    }
   ],
   "source": [
    "import duckdb\n",
    "import pandas as pd\n",
    "# No need to import duckdb_engine\n",
    "#  jupysql will auto-detect the driver needed based on the connection string!\n",
    "\n",
    "# Import jupysql Jupyter extension to create SQL cells\n",
    "%reload_ext sql\n",
    "%load_ext sql\n",
    "%config SqlMagic.autopandas = True\n",
    "%config SqlMagic.feedback = False\n",
    "%config SqlMagic.displaycon = False\n",
    "%sql duckdb:///:default:"
   ]
  },
  {
   "cell_type": "code",
   "execution_count": 141,
   "metadata": {},
   "outputs": [
    {
     "name": "stdout",
     "output_type": "stream",
     "text": [
      "      game_id  eventnum  eventmsgtype  eventmsgactiontype  period wctimestring pctimestring                                    homedescription                  neutraldescription                     visitordescription score scoremargin  person1type  player1_id        player1_name  player1_team_id player1_team_city player1_team_nickname player1_team_abbreviation  person2type  player2_id    player2_name  player2_team_id player2_team_city player2_team_nickname player2_team_abbreviation  person3type  player3_id        player3_name  player3_team_id player3_team_city player3_team_nickname player3_team_abbreviation  video_available_flag\n",
      "0  0029600009         2            12                   0       1     11:44 PM        12:00                                                NaN  Start of 1st Period (11:44 PM EST)                                    NaN   NaN         NaN          0.0           0                 NaN              NaN               NaN                   NaN                       NaN          0.0           0             NaN              NaN               NaN                   NaN                       NaN          0.0           0                 NaN              NaN               NaN                   NaN                       NaN                     0\n",
      "1  0029600009         3            10                   0       1     11:45 PM        12:00  Jump Ball Olajuwon vs. Polynice: Tip to Willia...                                 NaN                                    NaN   NaN         NaN          4.0         165     Hakeem Olajuwon     1.610613e+09           Houston               Rockets                       HOU          5.0         178  Olden Polynice     1.610613e+09        Sacramento                 Kings                       SAC          5.0         722  Corliss Williamson     1.610613e+09        Sacramento                 Kings                       SAC                     0\n",
      "2  0029600009         4             5                   4       1     11:46 PM        11:49                                                NaN                                 NaN  Williamson Traveling Turnover (P1.T1)   NaN         NaN          5.0         722  Corliss Williamson     1.610613e+09        Sacramento                 Kings                       SAC          0.0           0             NaN              NaN               NaN                   NaN                       NaN          0.0           0                 NaN              NaN               NaN                   NaN                       NaN                     0\n",
      "3  0029600009         5             2                   1       1     11:46 PM        11:27                        MISS Olajuwon 13' Jump Shot                                 NaN                                    NaN   NaN         NaN          4.0         165     Hakeem Olajuwon     1.610613e+09           Houston               Rockets                       HOU          0.0           0             NaN              NaN               NaN                   NaN                       NaN          0.0           0                 NaN              NaN               NaN                   NaN                       NaN                     0\n",
      "4  0029600009         7             4                   0       1     11:46 PM        11:23                      Drexler REBOUND (Off:1 Def:0)                                 NaN                                    NaN   NaN         NaN          4.0          17       Clyde Drexler     1.610613e+09           Houston               Rockets                       HOU          0.0           0             NaN              NaN               NaN                   NaN                       NaN          0.0           0                 NaN              NaN               NaN                   NaN                       NaN                     0\n"
     ]
    }
   ],
   "source": [
    "import matplotlib.pyplot as plt \n",
    "\n",
    "query2 = '''\n",
    "    SELECT \n",
    "    *\n",
    "    FROM read_csv_auto('C:/Users/Yoric/Uni/dataviz-2023/dataset/csv/play_by_play.csv')\n",
    "    LIMIT 5\n",
    "'''\n",
    "\n",
    "result = con.execute(query2)\n",
    "data = result.fetchdf()\n",
    "pd.set_option('display.max_columns', 54)\n",
    "print(data)"
   ]
  },
  {
   "attachments": {},
   "cell_type": "markdown",
   "metadata": {},
   "source": [
    "%sql top_schools << SELECT school, count(*) as count FROM read_csv_auto('../dataset/csv/common_player_info.csv') AS common_player_info GROUP BY school ORDER BY count DESC LIMIT 40;\n",
    "top_schools"
   ]
  },
  {
   "cell_type": "code",
   "execution_count": 2,
   "metadata": {},
   "outputs": [
    {
     "data": {
      "application/vnd.plotly.v1+json": {
       "config": {
        "plotlyServerURL": "https://plot.ly"
       },
       "data": [
        {
         "hovertemplate": "season=%{x}<br>home_win_percentage=%{y}<extra></extra>",
         "legendgroup": "",
         "line": {
          "color": "#636efa",
          "dash": "solid"
         },
         "marker": {
          "symbol": "circle"
         },
         "mode": "lines",
         "name": "",
         "orientation": "v",
         "showlegend": false,
         "type": "scatter",
         "x": [
          "1946",
          "1947",
          "1948",
          "1949",
          "1950",
          "1951",
          "1952",
          "1953",
          "1954",
          "1955",
          "1956",
          "1957",
          "1958",
          "1959",
          "1960",
          "1961",
          "1962",
          "1963",
          "1964",
          "1965",
          "1966",
          "1967",
          "1968",
          "1969",
          "1970",
          "1971",
          "1972",
          "1973",
          "1974",
          "1975",
          "1976",
          "1977",
          "1978",
          "1979",
          "1980",
          "1981",
          "1982",
          "1983",
          "1984",
          "1985",
          "1986",
          "1987",
          "1989",
          "1990",
          "1991",
          "1992",
          "1993",
          "1994",
          "1995",
          "1996",
          "1997",
          "1998",
          "1999",
          "2000",
          "2001",
          "2002",
          "2003",
          "2004",
          "2005",
          "2006",
          "2007",
          "2008",
          "2009",
          "2010",
          "2011",
          "2012",
          "2013",
          "2014",
          "2015",
          "2016",
          "2018",
          "2019",
          "2020",
          "2021",
          "2022"
         ],
         "xaxis": "x",
         "y": [
          61.63,
          57.22,
          63.33,
          69.63,
          74.86,
          75.45,
          75.21,
          73.37,
          75.35,
          70,
          77.59,
          70.83,
          70.83,
          69,
          71.66,
          68.35,
          68.33,
          63.33,
          63.33,
          74.17,
          64.94,
          60.98,
          61.85,
          63.24,
          61.12,
          58.25,
          58.82,
          62.12,
          64.09,
          65.31,
          68.51,
          67.63,
          66.52,
          65.3,
          62.14,
          59.92,
          62.04,
          67.87,
          63.73,
          65.43,
          66.49,
          67.87,
          64.41,
          65.94,
          63.14,
          61.07,
          61.16,
          59.71,
          60.39,
          57.49,
          59.55,
          62.34,
          61.06,
          59.8,
          59.13,
          62.83,
          61.4,
          60.49,
          60.33,
          59.11,
          60.08,
          60.81,
          59.43,
          60.41,
          58.59,
          61.14,
          58.05,
          57.48,
          58.86,
          58.37,
          59.27,
          55.15,
          54.35,
          54.39,
          58.45
         ],
         "yaxis": "y"
        }
       ],
       "layout": {
        "legend": {
         "tracegroupgap": 0
        },
        "template": {
         "data": {
          "bar": [
           {
            "error_x": {
             "color": "#2a3f5f"
            },
            "error_y": {
             "color": "#2a3f5f"
            },
            "marker": {
             "line": {
              "color": "#E5ECF6",
              "width": 0.5
             },
             "pattern": {
              "fillmode": "overlay",
              "size": 10,
              "solidity": 0.2
             }
            },
            "type": "bar"
           }
          ],
          "barpolar": [
           {
            "marker": {
             "line": {
              "color": "#E5ECF6",
              "width": 0.5
             },
             "pattern": {
              "fillmode": "overlay",
              "size": 10,
              "solidity": 0.2
             }
            },
            "type": "barpolar"
           }
          ],
          "carpet": [
           {
            "aaxis": {
             "endlinecolor": "#2a3f5f",
             "gridcolor": "white",
             "linecolor": "white",
             "minorgridcolor": "white",
             "startlinecolor": "#2a3f5f"
            },
            "baxis": {
             "endlinecolor": "#2a3f5f",
             "gridcolor": "white",
             "linecolor": "white",
             "minorgridcolor": "white",
             "startlinecolor": "#2a3f5f"
            },
            "type": "carpet"
           }
          ],
          "choropleth": [
           {
            "colorbar": {
             "outlinewidth": 0,
             "ticks": ""
            },
            "type": "choropleth"
           }
          ],
          "contour": [
           {
            "colorbar": {
             "outlinewidth": 0,
             "ticks": ""
            },
            "colorscale": [
             [
              0,
              "#0d0887"
             ],
             [
              0.1111111111111111,
              "#46039f"
             ],
             [
              0.2222222222222222,
              "#7201a8"
             ],
             [
              0.3333333333333333,
              "#9c179e"
             ],
             [
              0.4444444444444444,
              "#bd3786"
             ],
             [
              0.5555555555555556,
              "#d8576b"
             ],
             [
              0.6666666666666666,
              "#ed7953"
             ],
             [
              0.7777777777777778,
              "#fb9f3a"
             ],
             [
              0.8888888888888888,
              "#fdca26"
             ],
             [
              1,
              "#f0f921"
             ]
            ],
            "type": "contour"
           }
          ],
          "contourcarpet": [
           {
            "colorbar": {
             "outlinewidth": 0,
             "ticks": ""
            },
            "type": "contourcarpet"
           }
          ],
          "heatmap": [
           {
            "colorbar": {
             "outlinewidth": 0,
             "ticks": ""
            },
            "colorscale": [
             [
              0,
              "#0d0887"
             ],
             [
              0.1111111111111111,
              "#46039f"
             ],
             [
              0.2222222222222222,
              "#7201a8"
             ],
             [
              0.3333333333333333,
              "#9c179e"
             ],
             [
              0.4444444444444444,
              "#bd3786"
             ],
             [
              0.5555555555555556,
              "#d8576b"
             ],
             [
              0.6666666666666666,
              "#ed7953"
             ],
             [
              0.7777777777777778,
              "#fb9f3a"
             ],
             [
              0.8888888888888888,
              "#fdca26"
             ],
             [
              1,
              "#f0f921"
             ]
            ],
            "type": "heatmap"
           }
          ],
          "heatmapgl": [
           {
            "colorbar": {
             "outlinewidth": 0,
             "ticks": ""
            },
            "colorscale": [
             [
              0,
              "#0d0887"
             ],
             [
              0.1111111111111111,
              "#46039f"
             ],
             [
              0.2222222222222222,
              "#7201a8"
             ],
             [
              0.3333333333333333,
              "#9c179e"
             ],
             [
              0.4444444444444444,
              "#bd3786"
             ],
             [
              0.5555555555555556,
              "#d8576b"
             ],
             [
              0.6666666666666666,
              "#ed7953"
             ],
             [
              0.7777777777777778,
              "#fb9f3a"
             ],
             [
              0.8888888888888888,
              "#fdca26"
             ],
             [
              1,
              "#f0f921"
             ]
            ],
            "type": "heatmapgl"
           }
          ],
          "histogram": [
           {
            "marker": {
             "pattern": {
              "fillmode": "overlay",
              "size": 10,
              "solidity": 0.2
             }
            },
            "type": "histogram"
           }
          ],
          "histogram2d": [
           {
            "colorbar": {
             "outlinewidth": 0,
             "ticks": ""
            },
            "colorscale": [
             [
              0,
              "#0d0887"
             ],
             [
              0.1111111111111111,
              "#46039f"
             ],
             [
              0.2222222222222222,
              "#7201a8"
             ],
             [
              0.3333333333333333,
              "#9c179e"
             ],
             [
              0.4444444444444444,
              "#bd3786"
             ],
             [
              0.5555555555555556,
              "#d8576b"
             ],
             [
              0.6666666666666666,
              "#ed7953"
             ],
             [
              0.7777777777777778,
              "#fb9f3a"
             ],
             [
              0.8888888888888888,
              "#fdca26"
             ],
             [
              1,
              "#f0f921"
             ]
            ],
            "type": "histogram2d"
           }
          ],
          "histogram2dcontour": [
           {
            "colorbar": {
             "outlinewidth": 0,
             "ticks": ""
            },
            "colorscale": [
             [
              0,
              "#0d0887"
             ],
             [
              0.1111111111111111,
              "#46039f"
             ],
             [
              0.2222222222222222,
              "#7201a8"
             ],
             [
              0.3333333333333333,
              "#9c179e"
             ],
             [
              0.4444444444444444,
              "#bd3786"
             ],
             [
              0.5555555555555556,
              "#d8576b"
             ],
             [
              0.6666666666666666,
              "#ed7953"
             ],
             [
              0.7777777777777778,
              "#fb9f3a"
             ],
             [
              0.8888888888888888,
              "#fdca26"
             ],
             [
              1,
              "#f0f921"
             ]
            ],
            "type": "histogram2dcontour"
           }
          ],
          "mesh3d": [
           {
            "colorbar": {
             "outlinewidth": 0,
             "ticks": ""
            },
            "type": "mesh3d"
           }
          ],
          "parcoords": [
           {
            "line": {
             "colorbar": {
              "outlinewidth": 0,
              "ticks": ""
             }
            },
            "type": "parcoords"
           }
          ],
          "pie": [
           {
            "automargin": true,
            "type": "pie"
           }
          ],
          "scatter": [
           {
            "fillpattern": {
             "fillmode": "overlay",
             "size": 10,
             "solidity": 0.2
            },
            "type": "scatter"
           }
          ],
          "scatter3d": [
           {
            "line": {
             "colorbar": {
              "outlinewidth": 0,
              "ticks": ""
             }
            },
            "marker": {
             "colorbar": {
              "outlinewidth": 0,
              "ticks": ""
             }
            },
            "type": "scatter3d"
           }
          ],
          "scattercarpet": [
           {
            "marker": {
             "colorbar": {
              "outlinewidth": 0,
              "ticks": ""
             }
            },
            "type": "scattercarpet"
           }
          ],
          "scattergeo": [
           {
            "marker": {
             "colorbar": {
              "outlinewidth": 0,
              "ticks": ""
             }
            },
            "type": "scattergeo"
           }
          ],
          "scattergl": [
           {
            "marker": {
             "colorbar": {
              "outlinewidth": 0,
              "ticks": ""
             }
            },
            "type": "scattergl"
           }
          ],
          "scattermapbox": [
           {
            "marker": {
             "colorbar": {
              "outlinewidth": 0,
              "ticks": ""
             }
            },
            "type": "scattermapbox"
           }
          ],
          "scatterpolar": [
           {
            "marker": {
             "colorbar": {
              "outlinewidth": 0,
              "ticks": ""
             }
            },
            "type": "scatterpolar"
           }
          ],
          "scatterpolargl": [
           {
            "marker": {
             "colorbar": {
              "outlinewidth": 0,
              "ticks": ""
             }
            },
            "type": "scatterpolargl"
           }
          ],
          "scatterternary": [
           {
            "marker": {
             "colorbar": {
              "outlinewidth": 0,
              "ticks": ""
             }
            },
            "type": "scatterternary"
           }
          ],
          "surface": [
           {
            "colorbar": {
             "outlinewidth": 0,
             "ticks": ""
            },
            "colorscale": [
             [
              0,
              "#0d0887"
             ],
             [
              0.1111111111111111,
              "#46039f"
             ],
             [
              0.2222222222222222,
              "#7201a8"
             ],
             [
              0.3333333333333333,
              "#9c179e"
             ],
             [
              0.4444444444444444,
              "#bd3786"
             ],
             [
              0.5555555555555556,
              "#d8576b"
             ],
             [
              0.6666666666666666,
              "#ed7953"
             ],
             [
              0.7777777777777778,
              "#fb9f3a"
             ],
             [
              0.8888888888888888,
              "#fdca26"
             ],
             [
              1,
              "#f0f921"
             ]
            ],
            "type": "surface"
           }
          ],
          "table": [
           {
            "cells": {
             "fill": {
              "color": "#EBF0F8"
             },
             "line": {
              "color": "white"
             }
            },
            "header": {
             "fill": {
              "color": "#C8D4E3"
             },
             "line": {
              "color": "white"
             }
            },
            "type": "table"
           }
          ]
         },
         "layout": {
          "annotationdefaults": {
           "arrowcolor": "#2a3f5f",
           "arrowhead": 0,
           "arrowwidth": 1
          },
          "autotypenumbers": "strict",
          "coloraxis": {
           "colorbar": {
            "outlinewidth": 0,
            "ticks": ""
           }
          },
          "colorscale": {
           "diverging": [
            [
             0,
             "#8e0152"
            ],
            [
             0.1,
             "#c51b7d"
            ],
            [
             0.2,
             "#de77ae"
            ],
            [
             0.3,
             "#f1b6da"
            ],
            [
             0.4,
             "#fde0ef"
            ],
            [
             0.5,
             "#f7f7f7"
            ],
            [
             0.6,
             "#e6f5d0"
            ],
            [
             0.7,
             "#b8e186"
            ],
            [
             0.8,
             "#7fbc41"
            ],
            [
             0.9,
             "#4d9221"
            ],
            [
             1,
             "#276419"
            ]
           ],
           "sequential": [
            [
             0,
             "#0d0887"
            ],
            [
             0.1111111111111111,
             "#46039f"
            ],
            [
             0.2222222222222222,
             "#7201a8"
            ],
            [
             0.3333333333333333,
             "#9c179e"
            ],
            [
             0.4444444444444444,
             "#bd3786"
            ],
            [
             0.5555555555555556,
             "#d8576b"
            ],
            [
             0.6666666666666666,
             "#ed7953"
            ],
            [
             0.7777777777777778,
             "#fb9f3a"
            ],
            [
             0.8888888888888888,
             "#fdca26"
            ],
            [
             1,
             "#f0f921"
            ]
           ],
           "sequentialminus": [
            [
             0,
             "#0d0887"
            ],
            [
             0.1111111111111111,
             "#46039f"
            ],
            [
             0.2222222222222222,
             "#7201a8"
            ],
            [
             0.3333333333333333,
             "#9c179e"
            ],
            [
             0.4444444444444444,
             "#bd3786"
            ],
            [
             0.5555555555555556,
             "#d8576b"
            ],
            [
             0.6666666666666666,
             "#ed7953"
            ],
            [
             0.7777777777777778,
             "#fb9f3a"
            ],
            [
             0.8888888888888888,
             "#fdca26"
            ],
            [
             1,
             "#f0f921"
            ]
           ]
          },
          "colorway": [
           "#636efa",
           "#EF553B",
           "#00cc96",
           "#ab63fa",
           "#FFA15A",
           "#19d3f3",
           "#FF6692",
           "#B6E880",
           "#FF97FF",
           "#FECB52"
          ],
          "font": {
           "color": "#2a3f5f"
          },
          "geo": {
           "bgcolor": "white",
           "lakecolor": "white",
           "landcolor": "#E5ECF6",
           "showlakes": true,
           "showland": true,
           "subunitcolor": "white"
          },
          "hoverlabel": {
           "align": "left"
          },
          "hovermode": "closest",
          "mapbox": {
           "style": "light"
          },
          "paper_bgcolor": "white",
          "plot_bgcolor": "#E5ECF6",
          "polar": {
           "angularaxis": {
            "gridcolor": "white",
            "linecolor": "white",
            "ticks": ""
           },
           "bgcolor": "#E5ECF6",
           "radialaxis": {
            "gridcolor": "white",
            "linecolor": "white",
            "ticks": ""
           }
          },
          "scene": {
           "xaxis": {
            "backgroundcolor": "#E5ECF6",
            "gridcolor": "white",
            "gridwidth": 2,
            "linecolor": "white",
            "showbackground": true,
            "ticks": "",
            "zerolinecolor": "white"
           },
           "yaxis": {
            "backgroundcolor": "#E5ECF6",
            "gridcolor": "white",
            "gridwidth": 2,
            "linecolor": "white",
            "showbackground": true,
            "ticks": "",
            "zerolinecolor": "white"
           },
           "zaxis": {
            "backgroundcolor": "#E5ECF6",
            "gridcolor": "white",
            "gridwidth": 2,
            "linecolor": "white",
            "showbackground": true,
            "ticks": "",
            "zerolinecolor": "white"
           }
          },
          "shapedefaults": {
           "line": {
            "color": "#2a3f5f"
           }
          },
          "ternary": {
           "aaxis": {
            "gridcolor": "white",
            "linecolor": "white",
            "ticks": ""
           },
           "baxis": {
            "gridcolor": "white",
            "linecolor": "white",
            "ticks": ""
           },
           "bgcolor": "#E5ECF6",
           "caxis": {
            "gridcolor": "white",
            "linecolor": "white",
            "ticks": ""
           }
          },
          "title": {
           "x": 0.05
          },
          "xaxis": {
           "automargin": true,
           "gridcolor": "white",
           "linecolor": "white",
           "ticks": "",
           "title": {
            "standoff": 15
           },
           "zerolinecolor": "white",
           "zerolinewidth": 2
          },
          "yaxis": {
           "automargin": true,
           "gridcolor": "white",
           "linecolor": "white",
           "ticks": "",
           "title": {
            "standoff": 15
           },
           "zerolinecolor": "white",
           "zerolinewidth": 2
          }
         }
        },
        "title": {
         "text": "Overall win percentage from 1946-2022"
        },
        "xaxis": {
         "anchor": "y",
         "domain": [
          0,
          1
         ],
         "title": {
          "text": "season"
         }
        },
        "yaxis": {
         "anchor": "x",
         "domain": [
          0,
          1
         ],
         "title": {
          "text": "home_win_percentage"
         }
        }
       }
      }
     },
     "metadata": {},
     "output_type": "display_data"
    }
   ],
   "source": [
    "import sqlite3\n",
    "import pandas as pd\n",
    "import plotly.express as px\n",
    "import duckdb \n",
    "\n",
    "#cnx = sqlite3.connect(r'C:\\Users\\Yoric\\Uni\\dataviz-2023\\dataset\\nba.sqlite')\n",
    "# Connect to DuckDB and specify the folder path containing CSV files\n",
    "con = duckdb.connect(database=':memory:', read_only=False)\n",
    "# Register the CSV files as DuckDB tables\n",
    "#con.execute(\"CREATE EXTERNAL TABLE Game USING csv_auto('C:/Users/Yoric/Uni/dataviz-2023/dataset/csv/game.csv')\")\n",
    "\n",
    "query = '''\n",
    "    SELECT \n",
    "        SEASON_ID AS season,\n",
    "        COUNT(DISTINCT GAME_ID) AS total_game_count,\n",
    "        SUM(CASE WL_HOME \n",
    "                WHEN'W' THEN 1\n",
    "                ELSE 0\n",
    "            END) AS home_win_count\n",
    "    FROM read_csv_auto('C:/Users/Yoric/Uni/dataviz-2023/dataset/csv/game.csv')\n",
    "    GROUP BY SEASON\n",
    "    ORDER BY SEASON\n",
    "'''\n",
    "\n",
    "#df_summary = pd.read_sql_query(query2, cnx)\n",
    "#%sql df_summary << SELECT SEASON_ID AS season, COUNT(DISTINCT GAME_ID) AS total_game_count, SUM(CASE WL_HOME WHEN'W' THEN 1 ELSE 0 END) AS home_win_count FROM read_csv_auto('../dataset/csv/game.csv') GROUP BY SEASON ORDER BY SEASON;\n",
    "result = con.execute(query)\n",
    "df_summary = result.fetchdf()\n",
    "df_summary['home_win_percentage'] = round(100*df_summary['home_win_count'] / df_summary['total_game_count'], 2)\n",
    "df_summary['season'] = df_summary['season'].astype(str).str[1:]\n",
    "\n",
    "df_summary\n",
    "px.line(df_summary, y=\"home_win_percentage\", x=\"season\", title=\"Overall win percentage from 1946-2022\")"
   ]
  },
  {
   "cell_type": "code",
   "execution_count": 4,
   "metadata": {},
   "outputs": [
    {
     "data": {
      "application/vnd.plotly.v1+json": {
       "config": {
        "plotlyServerURL": "https://plot.ly"
       },
       "data": [
        {
         "hovertemplate": "variable=home_win_percentage<br>season=%{x}<br>Win Percentage=%{y}<extra></extra>",
         "legendgroup": "home_win_percentage",
         "line": {
          "color": "#636efa",
          "dash": "solid"
         },
         "marker": {
          "symbol": "circle"
         },
         "mode": "lines",
         "name": "home_win_percentage",
         "orientation": "v",
         "showlegend": true,
         "type": "scatter",
         "x": [
          "1946",
          "1947",
          "1948",
          "1949",
          "1950",
          "1951",
          "1952",
          "1953",
          "1954",
          "1955",
          "1956",
          "1957",
          "1958",
          "1959",
          "1960",
          "1961",
          "1962",
          "1963",
          "1964",
          "1965",
          "1966",
          "1967",
          "1968",
          "1969",
          "1970",
          "1971",
          "1972",
          "1973",
          "1974",
          "1975",
          "1976",
          "1977",
          "1978",
          "1979",
          "1980",
          "1981",
          "1982",
          "1983",
          "1984",
          "1985",
          "1986",
          "1987",
          "1989",
          "1990",
          "1991",
          "1992",
          "1993",
          "1994",
          "1995",
          "1996",
          "1997",
          "1998",
          "1999",
          "2000",
          "2001",
          "2002",
          "2003",
          "2004",
          "2005",
          "2006",
          "2007",
          "2008",
          "2009",
          "2010",
          "2011",
          "2012",
          "2013",
          "2014",
          "2015",
          "2016",
          "2018",
          "2019",
          "2020",
          "2021",
          "2022"
         ],
         "xaxis": "x",
         "y": [
          61.63,
          57.22,
          63.33,
          69.63,
          74.86,
          75.45,
          75.21,
          73.37,
          75.35,
          70,
          77.59,
          70.83,
          70.83,
          69,
          71.66,
          68.35,
          68.33,
          63.33,
          63.33,
          74.17,
          64.94,
          60.98,
          61.85,
          63.24,
          61.12,
          58.25,
          58.82,
          62.12,
          64.09,
          65.31,
          68.51,
          67.63,
          66.52,
          65.3,
          62.14,
          59.92,
          62.04,
          67.87,
          63.73,
          65.43,
          66.49,
          67.87,
          64.41,
          65.94,
          63.14,
          61.07,
          61.16,
          59.71,
          60.39,
          57.49,
          59.55,
          62.34,
          61.06,
          59.8,
          59.13,
          62.83,
          61.4,
          60.49,
          60.33,
          59.11,
          60.08,
          60.81,
          59.43,
          60.41,
          58.59,
          61.14,
          58.05,
          57.48,
          58.86,
          58.37,
          59.27,
          55.15,
          54.35,
          54.39,
          58.45
         ],
         "yaxis": "y"
        },
        {
         "hovertemplate": "variable=away_win_percentage<br>season=%{x}<br>Win Percentage=%{y}<extra></extra>",
         "legendgroup": "away_win_percentage",
         "line": {
          "color": "#EF553B",
          "dash": "solid"
         },
         "marker": {
          "symbol": "circle"
         },
         "mode": "lines",
         "name": "away_win_percentage",
         "orientation": "v",
         "showlegend": true,
         "type": "scatter",
         "x": [
          "1946",
          "1947",
          "1948",
          "1949",
          "1950",
          "1951",
          "1952",
          "1953",
          "1954",
          "1955",
          "1956",
          "1957",
          "1958",
          "1959",
          "1960",
          "1961",
          "1962",
          "1963",
          "1964",
          "1965",
          "1966",
          "1967",
          "1968",
          "1969",
          "1970",
          "1971",
          "1972",
          "1973",
          "1974",
          "1975",
          "1976",
          "1977",
          "1978",
          "1979",
          "1980",
          "1981",
          "1982",
          "1983",
          "1984",
          "1985",
          "1986",
          "1987",
          "1989",
          "1990",
          "1991",
          "1992",
          "1993",
          "1994",
          "1995",
          "1996",
          "1997",
          "1998",
          "1999",
          "2000",
          "2001",
          "2002",
          "2003",
          "2004",
          "2005",
          "2006",
          "2007",
          "2008",
          "2009",
          "2010",
          "2011",
          "2012",
          "2013",
          "2014",
          "2015",
          "2016",
          "2018",
          "2019",
          "2020",
          "2021",
          "2022"
         ],
         "xaxis": "x",
         "y": [
          38.37,
          42.78,
          36.67,
          30.37,
          25.14,
          24.55,
          24.79,
          26.63,
          24.65,
          30,
          22.41,
          29.17,
          29.17,
          31,
          28.34,
          31.65,
          31.67,
          36.67,
          36.67,
          25.83,
          35.06,
          39.02,
          38.15,
          36.76,
          38.88,
          41.75,
          41.18,
          37.88,
          35.91,
          34.69,
          31.49,
          32.37,
          33.48,
          34.7,
          37.86,
          40.08,
          37.96,
          32.13,
          36.27,
          34.57,
          33.51,
          32.13,
          35.59,
          34.06,
          36.86,
          38.93,
          38.84,
          40.29,
          39.61,
          42.51,
          40.45,
          37.66,
          38.94,
          40.2,
          40.87,
          37.17,
          38.6,
          39.51,
          39.67,
          40.89,
          39.92,
          39.19,
          40.57,
          39.59,
          41.41,
          38.78,
          41.95,
          42.52,
          41.14,
          41.63,
          40.73,
          44.85,
          45.65,
          45.61,
          40.96
         ],
         "yaxis": "y"
        }
       ],
       "layout": {
        "legend": {
         "title": {
          "text": "variable"
         },
         "tracegroupgap": 0
        },
        "template": {
         "data": {
          "bar": [
           {
            "error_x": {
             "color": "#2a3f5f"
            },
            "error_y": {
             "color": "#2a3f5f"
            },
            "marker": {
             "line": {
              "color": "#E5ECF6",
              "width": 0.5
             },
             "pattern": {
              "fillmode": "overlay",
              "size": 10,
              "solidity": 0.2
             }
            },
            "type": "bar"
           }
          ],
          "barpolar": [
           {
            "marker": {
             "line": {
              "color": "#E5ECF6",
              "width": 0.5
             },
             "pattern": {
              "fillmode": "overlay",
              "size": 10,
              "solidity": 0.2
             }
            },
            "type": "barpolar"
           }
          ],
          "carpet": [
           {
            "aaxis": {
             "endlinecolor": "#2a3f5f",
             "gridcolor": "white",
             "linecolor": "white",
             "minorgridcolor": "white",
             "startlinecolor": "#2a3f5f"
            },
            "baxis": {
             "endlinecolor": "#2a3f5f",
             "gridcolor": "white",
             "linecolor": "white",
             "minorgridcolor": "white",
             "startlinecolor": "#2a3f5f"
            },
            "type": "carpet"
           }
          ],
          "choropleth": [
           {
            "colorbar": {
             "outlinewidth": 0,
             "ticks": ""
            },
            "type": "choropleth"
           }
          ],
          "contour": [
           {
            "colorbar": {
             "outlinewidth": 0,
             "ticks": ""
            },
            "colorscale": [
             [
              0,
              "#0d0887"
             ],
             [
              0.1111111111111111,
              "#46039f"
             ],
             [
              0.2222222222222222,
              "#7201a8"
             ],
             [
              0.3333333333333333,
              "#9c179e"
             ],
             [
              0.4444444444444444,
              "#bd3786"
             ],
             [
              0.5555555555555556,
              "#d8576b"
             ],
             [
              0.6666666666666666,
              "#ed7953"
             ],
             [
              0.7777777777777778,
              "#fb9f3a"
             ],
             [
              0.8888888888888888,
              "#fdca26"
             ],
             [
              1,
              "#f0f921"
             ]
            ],
            "type": "contour"
           }
          ],
          "contourcarpet": [
           {
            "colorbar": {
             "outlinewidth": 0,
             "ticks": ""
            },
            "type": "contourcarpet"
           }
          ],
          "heatmap": [
           {
            "colorbar": {
             "outlinewidth": 0,
             "ticks": ""
            },
            "colorscale": [
             [
              0,
              "#0d0887"
             ],
             [
              0.1111111111111111,
              "#46039f"
             ],
             [
              0.2222222222222222,
              "#7201a8"
             ],
             [
              0.3333333333333333,
              "#9c179e"
             ],
             [
              0.4444444444444444,
              "#bd3786"
             ],
             [
              0.5555555555555556,
              "#d8576b"
             ],
             [
              0.6666666666666666,
              "#ed7953"
             ],
             [
              0.7777777777777778,
              "#fb9f3a"
             ],
             [
              0.8888888888888888,
              "#fdca26"
             ],
             [
              1,
              "#f0f921"
             ]
            ],
            "type": "heatmap"
           }
          ],
          "heatmapgl": [
           {
            "colorbar": {
             "outlinewidth": 0,
             "ticks": ""
            },
            "colorscale": [
             [
              0,
              "#0d0887"
             ],
             [
              0.1111111111111111,
              "#46039f"
             ],
             [
              0.2222222222222222,
              "#7201a8"
             ],
             [
              0.3333333333333333,
              "#9c179e"
             ],
             [
              0.4444444444444444,
              "#bd3786"
             ],
             [
              0.5555555555555556,
              "#d8576b"
             ],
             [
              0.6666666666666666,
              "#ed7953"
             ],
             [
              0.7777777777777778,
              "#fb9f3a"
             ],
             [
              0.8888888888888888,
              "#fdca26"
             ],
             [
              1,
              "#f0f921"
             ]
            ],
            "type": "heatmapgl"
           }
          ],
          "histogram": [
           {
            "marker": {
             "pattern": {
              "fillmode": "overlay",
              "size": 10,
              "solidity": 0.2
             }
            },
            "type": "histogram"
           }
          ],
          "histogram2d": [
           {
            "colorbar": {
             "outlinewidth": 0,
             "ticks": ""
            },
            "colorscale": [
             [
              0,
              "#0d0887"
             ],
             [
              0.1111111111111111,
              "#46039f"
             ],
             [
              0.2222222222222222,
              "#7201a8"
             ],
             [
              0.3333333333333333,
              "#9c179e"
             ],
             [
              0.4444444444444444,
              "#bd3786"
             ],
             [
              0.5555555555555556,
              "#d8576b"
             ],
             [
              0.6666666666666666,
              "#ed7953"
             ],
             [
              0.7777777777777778,
              "#fb9f3a"
             ],
             [
              0.8888888888888888,
              "#fdca26"
             ],
             [
              1,
              "#f0f921"
             ]
            ],
            "type": "histogram2d"
           }
          ],
          "histogram2dcontour": [
           {
            "colorbar": {
             "outlinewidth": 0,
             "ticks": ""
            },
            "colorscale": [
             [
              0,
              "#0d0887"
             ],
             [
              0.1111111111111111,
              "#46039f"
             ],
             [
              0.2222222222222222,
              "#7201a8"
             ],
             [
              0.3333333333333333,
              "#9c179e"
             ],
             [
              0.4444444444444444,
              "#bd3786"
             ],
             [
              0.5555555555555556,
              "#d8576b"
             ],
             [
              0.6666666666666666,
              "#ed7953"
             ],
             [
              0.7777777777777778,
              "#fb9f3a"
             ],
             [
              0.8888888888888888,
              "#fdca26"
             ],
             [
              1,
              "#f0f921"
             ]
            ],
            "type": "histogram2dcontour"
           }
          ],
          "mesh3d": [
           {
            "colorbar": {
             "outlinewidth": 0,
             "ticks": ""
            },
            "type": "mesh3d"
           }
          ],
          "parcoords": [
           {
            "line": {
             "colorbar": {
              "outlinewidth": 0,
              "ticks": ""
             }
            },
            "type": "parcoords"
           }
          ],
          "pie": [
           {
            "automargin": true,
            "type": "pie"
           }
          ],
          "scatter": [
           {
            "fillpattern": {
             "fillmode": "overlay",
             "size": 10,
             "solidity": 0.2
            },
            "type": "scatter"
           }
          ],
          "scatter3d": [
           {
            "line": {
             "colorbar": {
              "outlinewidth": 0,
              "ticks": ""
             }
            },
            "marker": {
             "colorbar": {
              "outlinewidth": 0,
              "ticks": ""
             }
            },
            "type": "scatter3d"
           }
          ],
          "scattercarpet": [
           {
            "marker": {
             "colorbar": {
              "outlinewidth": 0,
              "ticks": ""
             }
            },
            "type": "scattercarpet"
           }
          ],
          "scattergeo": [
           {
            "marker": {
             "colorbar": {
              "outlinewidth": 0,
              "ticks": ""
             }
            },
            "type": "scattergeo"
           }
          ],
          "scattergl": [
           {
            "marker": {
             "colorbar": {
              "outlinewidth": 0,
              "ticks": ""
             }
            },
            "type": "scattergl"
           }
          ],
          "scattermapbox": [
           {
            "marker": {
             "colorbar": {
              "outlinewidth": 0,
              "ticks": ""
             }
            },
            "type": "scattermapbox"
           }
          ],
          "scatterpolar": [
           {
            "marker": {
             "colorbar": {
              "outlinewidth": 0,
              "ticks": ""
             }
            },
            "type": "scatterpolar"
           }
          ],
          "scatterpolargl": [
           {
            "marker": {
             "colorbar": {
              "outlinewidth": 0,
              "ticks": ""
             }
            },
            "type": "scatterpolargl"
           }
          ],
          "scatterternary": [
           {
            "marker": {
             "colorbar": {
              "outlinewidth": 0,
              "ticks": ""
             }
            },
            "type": "scatterternary"
           }
          ],
          "surface": [
           {
            "colorbar": {
             "outlinewidth": 0,
             "ticks": ""
            },
            "colorscale": [
             [
              0,
              "#0d0887"
             ],
             [
              0.1111111111111111,
              "#46039f"
             ],
             [
              0.2222222222222222,
              "#7201a8"
             ],
             [
              0.3333333333333333,
              "#9c179e"
             ],
             [
              0.4444444444444444,
              "#bd3786"
             ],
             [
              0.5555555555555556,
              "#d8576b"
             ],
             [
              0.6666666666666666,
              "#ed7953"
             ],
             [
              0.7777777777777778,
              "#fb9f3a"
             ],
             [
              0.8888888888888888,
              "#fdca26"
             ],
             [
              1,
              "#f0f921"
             ]
            ],
            "type": "surface"
           }
          ],
          "table": [
           {
            "cells": {
             "fill": {
              "color": "#EBF0F8"
             },
             "line": {
              "color": "white"
             }
            },
            "header": {
             "fill": {
              "color": "#C8D4E3"
             },
             "line": {
              "color": "white"
             }
            },
            "type": "table"
           }
          ]
         },
         "layout": {
          "annotationdefaults": {
           "arrowcolor": "#2a3f5f",
           "arrowhead": 0,
           "arrowwidth": 1
          },
          "autotypenumbers": "strict",
          "coloraxis": {
           "colorbar": {
            "outlinewidth": 0,
            "ticks": ""
           }
          },
          "colorscale": {
           "diverging": [
            [
             0,
             "#8e0152"
            ],
            [
             0.1,
             "#c51b7d"
            ],
            [
             0.2,
             "#de77ae"
            ],
            [
             0.3,
             "#f1b6da"
            ],
            [
             0.4,
             "#fde0ef"
            ],
            [
             0.5,
             "#f7f7f7"
            ],
            [
             0.6,
             "#e6f5d0"
            ],
            [
             0.7,
             "#b8e186"
            ],
            [
             0.8,
             "#7fbc41"
            ],
            [
             0.9,
             "#4d9221"
            ],
            [
             1,
             "#276419"
            ]
           ],
           "sequential": [
            [
             0,
             "#0d0887"
            ],
            [
             0.1111111111111111,
             "#46039f"
            ],
            [
             0.2222222222222222,
             "#7201a8"
            ],
            [
             0.3333333333333333,
             "#9c179e"
            ],
            [
             0.4444444444444444,
             "#bd3786"
            ],
            [
             0.5555555555555556,
             "#d8576b"
            ],
            [
             0.6666666666666666,
             "#ed7953"
            ],
            [
             0.7777777777777778,
             "#fb9f3a"
            ],
            [
             0.8888888888888888,
             "#fdca26"
            ],
            [
             1,
             "#f0f921"
            ]
           ],
           "sequentialminus": [
            [
             0,
             "#0d0887"
            ],
            [
             0.1111111111111111,
             "#46039f"
            ],
            [
             0.2222222222222222,
             "#7201a8"
            ],
            [
             0.3333333333333333,
             "#9c179e"
            ],
            [
             0.4444444444444444,
             "#bd3786"
            ],
            [
             0.5555555555555556,
             "#d8576b"
            ],
            [
             0.6666666666666666,
             "#ed7953"
            ],
            [
             0.7777777777777778,
             "#fb9f3a"
            ],
            [
             0.8888888888888888,
             "#fdca26"
            ],
            [
             1,
             "#f0f921"
            ]
           ]
          },
          "colorway": [
           "#636efa",
           "#EF553B",
           "#00cc96",
           "#ab63fa",
           "#FFA15A",
           "#19d3f3",
           "#FF6692",
           "#B6E880",
           "#FF97FF",
           "#FECB52"
          ],
          "font": {
           "color": "#2a3f5f"
          },
          "geo": {
           "bgcolor": "white",
           "lakecolor": "white",
           "landcolor": "#E5ECF6",
           "showlakes": true,
           "showland": true,
           "subunitcolor": "white"
          },
          "hoverlabel": {
           "align": "left"
          },
          "hovermode": "closest",
          "mapbox": {
           "style": "light"
          },
          "paper_bgcolor": "white",
          "plot_bgcolor": "#E5ECF6",
          "polar": {
           "angularaxis": {
            "gridcolor": "white",
            "linecolor": "white",
            "ticks": ""
           },
           "bgcolor": "#E5ECF6",
           "radialaxis": {
            "gridcolor": "white",
            "linecolor": "white",
            "ticks": ""
           }
          },
          "scene": {
           "xaxis": {
            "backgroundcolor": "#E5ECF6",
            "gridcolor": "white",
            "gridwidth": 2,
            "linecolor": "white",
            "showbackground": true,
            "ticks": "",
            "zerolinecolor": "white"
           },
           "yaxis": {
            "backgroundcolor": "#E5ECF6",
            "gridcolor": "white",
            "gridwidth": 2,
            "linecolor": "white",
            "showbackground": true,
            "ticks": "",
            "zerolinecolor": "white"
           },
           "zaxis": {
            "backgroundcolor": "#E5ECF6",
            "gridcolor": "white",
            "gridwidth": 2,
            "linecolor": "white",
            "showbackground": true,
            "ticks": "",
            "zerolinecolor": "white"
           }
          },
          "shapedefaults": {
           "line": {
            "color": "#2a3f5f"
           }
          },
          "ternary": {
           "aaxis": {
            "gridcolor": "white",
            "linecolor": "white",
            "ticks": ""
           },
           "baxis": {
            "gridcolor": "white",
            "linecolor": "white",
            "ticks": ""
           },
           "bgcolor": "#E5ECF6",
           "caxis": {
            "gridcolor": "white",
            "linecolor": "white",
            "ticks": ""
           }
          },
          "title": {
           "x": 0.05
          },
          "xaxis": {
           "automargin": true,
           "gridcolor": "white",
           "linecolor": "white",
           "ticks": "",
           "title": {
            "standoff": 15
           },
           "zerolinecolor": "white",
           "zerolinewidth": 2
          },
          "yaxis": {
           "automargin": true,
           "gridcolor": "white",
           "linecolor": "white",
           "ticks": "",
           "title": {
            "standoff": 15
           },
           "zerolinecolor": "white",
           "zerolinewidth": 2
          }
         }
        },
        "title": {
         "text": "Overall Win Percentage from 1946-2022"
        },
        "xaxis": {
         "anchor": "y",
         "domain": [
          0,
          1
         ],
         "title": {
          "text": "season"
         }
        },
        "yaxis": {
         "anchor": "x",
         "domain": [
          0,
          1
         ],
         "title": {
          "text": "Win Percentage"
         }
        }
       }
      }
     },
     "metadata": {},
     "output_type": "display_data"
    }
   ],
   "source": [
    "import pandas as pd\n",
    "import plotly.express as px\n",
    "import duckdb \n",
    "\n",
    "# Connect to DuckDB and specify the folder path containing CSV files\n",
    "con = duckdb.connect(database=':memory:', read_only=False)\n",
    "\n",
    "query = '''\n",
    "    SELECT \n",
    "        SEASON_ID AS season,\n",
    "        COUNT(DISTINCT GAME_ID) AS total_game_count,\n",
    "        SUM(CASE WL_HOME \n",
    "                WHEN 'W' THEN 1\n",
    "                ELSE 0\n",
    "            END) AS home_win_count,\n",
    "        SUM(CASE WL_HOME \n",
    "                WHEN 'L' THEN 1\n",
    "                ELSE 0\n",
    "            END) AS away_win_count\n",
    "    FROM read_csv_auto('C:/Users/Yoric/Uni/dataviz-2023/dataset/csv/game.csv')\n",
    "    GROUP BY SEASON\n",
    "    ORDER BY SEASON\n",
    "'''\n",
    "\n",
    "result = con.execute(query)\n",
    "df_summary = result.fetchdf()\n",
    "df_summary['home_win_percentage'] = round(100 * df_summary['home_win_count'] / df_summary['total_game_count'], 2)\n",
    "df_summary['away_win_percentage'] = round(100 * df_summary['away_win_count'] / df_summary['total_game_count'], 2)\n",
    "df_summary['season'] = df_summary['season'].astype(str).str[1:]\n",
    "\n",
    "# Create the line plot with Plotly Express\n",
    "fig = px.line(df_summary, x='season', y=['home_win_percentage', 'away_win_percentage'],\n",
    "              labels={'value': 'Win Percentage'},\n",
    "              title='Overall Win Percentage from 1946-2022')\n",
    "\n",
    "# Display the plot\n",
    "fig.show()\n"
   ]
  },
  {
   "cell_type": "code",
   "execution_count": 25,
   "metadata": {},
   "outputs": [
    {
     "data": {
      "image/png": "[encoded data removed]",
      "text/plain": [
       "<Figure size 1200x600 with 1 Axes>"
      ]
     },
     "metadata": {},
     "output_type": "display_data"
    }
   ],
   "source": [
    "import matplotlib.pyplot as plt \n",
    "\n",
    "query2 = '''\n",
    "    SELECT \n",
    "    *\n",
    "    FROM read_csv_auto('C:/Users/Yoric/Uni/dataviz-2023/dataset/csv/game.csv')\n",
    "'''\n",
    "\n",
    "result = con.execute(query2)\n",
    "data = result.fetchdf()\n",
    "\n",
    "# Get unique team IDs\n",
    "unique_team_ids = set(data['team_id_home'].unique()).union(set(data['team_id_away'].unique()))\n",
    "\n",
    "# Define the expected number of games in a season (adjust according to your data)\n",
    "expected_games_per_season = 82\n",
    "\n",
    "# Create dictionaries to store missing game counts per team and year\n",
    "missing_games_per_team = {}\n",
    "missing_games_per_year = {}\n",
    "\n",
    "# Iterate over each team ID\n",
    "for team_id in unique_team_ids:\n",
    "    # Retrieve unique season IDs for the specified team (both home and away games)\n",
    "    team_season_ids_home = data.loc[data['team_id_home'] == team_id, 'season_id'].unique()\n",
    "    team_season_ids_away = data.loc[data['team_id_away'] == team_id, 'season_id'].unique()\n",
    "    team_season_ids = set(team_season_ids_home).union(set(team_season_ids_away))\n",
    "\n",
    "    # Iterate through each season ID for the specified team\n",
    "    for season_id in team_season_ids:\n",
    "        # Retrieve unique game IDs for the current team and season (both home and away games)\n",
    "        team_season_games_home = data.loc[(data['team_id_home'] == team_id) & (data['season_id'] == season_id), 'game_id'].unique()\n",
    "        team_season_games_away = data.loc[(data['team_id_away'] == team_id) & (data['season_id'] == season_id), 'game_id'].unique()\n",
    "        team_season_games = set(team_season_games_home).union(set(team_season_games_away))\n",
    "\n",
    "        # Check if the count of unique game IDs is less than the expected number of games\n",
    "        if len(team_season_games) < expected_games_per_season:\n",
    "            missing_games = expected_games_per_season - len(team_season_games)\n",
    "\n",
    "            # Update missing game count per team\n",
    "            if team_id in missing_games_per_team:\n",
    "                missing_games_per_team[team_id] += missing_games\n",
    "            else:\n",
    "                missing_games_per_team[team_id] = missing_games\n",
    "\n",
    "            # Update missing game count per year\n",
    "            if season_id in missing_games_per_year:\n",
    "                missing_games_per_year[season_id] += missing_games\n",
    "            else:\n",
    "                missing_games_per_year[season_id] = missing_games\n",
    "\n",
    "# Create lists for season IDs and missing game counts\n",
    "season_ids = list(missing_games_per_year.keys())\n",
    "missing_game_counts_per_year = list(missing_games_per_year.values())\n",
    "\n",
    "# Plot the amount of missing games per year\n",
    "plt.figure(figsize=(12, 6))\n",
    "plt.bar(season_ids, missing_game_counts_per_year)\n",
    "plt.xlabel('Season ID')\n",
    "plt.ylabel('Missing Game Count')\n",
    "plt.title('Missing Games per Year')\n",
    "plt.xticks(rotation=90)\n",
    "plt.tight_layout()\n",
    "plt.show()"
   ]
  },
  {
   "cell_type": "code",
   "execution_count": 49,
   "metadata": {},
   "outputs": [
    {
     "data": {
      "image/png": "[encoded data removed]",
      "text/plain": [
       "<Figure size 1200x600 with 1 Axes>"
      ]
     },
     "metadata": {},
     "output_type": "display_data"
    }
   ],
   "source": [
    "import matplotlib.pyplot as plt\n",
    "\n",
    "query2 = '''\n",
    "    SELECT \n",
    "    *\n",
    "    FROM read_csv_auto('C:/Users/Yoric/Uni/dataviz-2023/dataset/csv/game.csv')\n",
    "'''\n",
    "\n",
    "result = con.execute(query2)\n",
    "data = result.fetchdf()\n",
    "\n",
    "# Get unique team IDs\n",
    "unique_team_ids = set(data['team_id_home'].unique()).union(set(data['team_id_away'].unique()))\n",
    "\n",
    "# Define the expected number of games in a season (adjust according to your data)\n",
    "expected_games_per_season = 82\n",
    "\n",
    "# Create dictionaries to store missing game counts per team and year\n",
    "missing_games_per_team = {}\n",
    "missing_games_per_year = {}\n",
    "\n",
    "# Iterate over each team ID\n",
    "for team_id in unique_team_ids:\n",
    "    # Retrieve unique season IDs for the specified team (both home and away games)\n",
    "    team_season_ids_home = data.loc[data['team_id_home'] == team_id, 'season_id'].unique()\n",
    "    team_season_ids_away = data.loc[data['team_id_away'] == team_id, 'season_id'].unique()\n",
    "    team_season_ids = set(team_season_ids_home).union(set(team_season_ids_away))\n",
    "\n",
    "    # Iterate through each season ID for the specified team\n",
    "    for season_id in team_season_ids:\n",
    "        # Retrieve unique game IDs for the current team and season (both home and away games)\n",
    "        team_season_games_home = data.loc[(data['team_id_home'] == team_id) & (data['season_id'] == season_id), 'game_id'].unique()\n",
    "        team_season_games_away = data.loc[(data['team_id_away'] == team_id) & (data['season_id'] == season_id), 'game_id'].unique()\n",
    "        team_season_games = set(team_season_games_home).union(set(team_season_games_away))\n",
    "\n",
    "        # Check if the count of unique game IDs is less than the expected number of games\n",
    "        if len(team_season_games) < expected_games_per_season:\n",
    "            missing_games = expected_games_per_season - len(team_season_games)\n",
    "\n",
    "            # Update missing game count per team\n",
    "            if team_id in missing_games_per_team:\n",
    "                missing_games_per_team[team_id] += missing_games\n",
    "            else:\n",
    "                missing_games_per_team[team_id] = missing_games\n",
    "\n",
    "            # Update missing game count per year\n",
    "            if season_id in missing_games_per_year:\n",
    "                missing_games_per_year[season_id] += missing_games\n",
    "            else:\n",
    "                missing_games_per_year[season_id] = missing_games\n",
    "\n",
    "# Create lists for team IDs and missing game counts\n",
    "team_ids = list(missing_games_per_team.keys())\n",
    "missing_game_counts = list(missing_games_per_team.values())\n",
    "\n",
    "plt.figure(figsize=(12, 6))\n",
    "plt.bar(range(len(team_ids)), missing_game_counts)\n",
    "plt.xlabel('Team ID')\n",
    "plt.ylabel('Missing Game Count')\n",
    "plt.title('Missing Games per Team')\n",
    "plt.xticks(range(len(team_ids)), team_ids, rotation=90)\n",
    "plt.tight_layout()\n",
    "plt.show()\n",
    "\n",
    "#Probably all the oldest team have more \"missing\" games because in the beginnign in 1940s there were no fixed amount of games"
   ]
  },
  {
   "cell_type": "code",
   "execution_count": 85,
   "metadata": {},
   "outputs": [
    {
     "data": {
      "image/png": "[encoded data removed]",
      "text/plain": [
       "<Figure size 1200x600 with 1 Axes>"
      ]
     },
     "metadata": {},
     "output_type": "display_data"
    }
   ],
   "source": [
    "import pandas as pd\n",
    "import matplotlib.pyplot as plt\n",
    "\n",
    "query2 = '''\n",
    "    SELECT \n",
    "    *\n",
    "    FROM read_csv_auto('C:/Users/Yoric/Uni/dataviz-2023/dataset/csv/game.csv')\n",
    "'''\n",
    "\n",
    "result = con.execute(query2)\n",
    "data = result.fetchdf()\n",
    "\n",
    "# Define the team ID for which you want to plot the games\n",
    "team_id = 1610612763  # Replace with the desired team ID\n",
    "\n",
    "# Filter the data for the specified team\n",
    "team_data = data[(data['team_id_home'] == team_id) | (data['team_id_away'] == team_id)]\n",
    "\n",
    "# Get unique season IDs for the specified team\n",
    "team_season_ids = team_data['season_id'].unique()\n",
    "\n",
    "# Count the number of games played by the team in each season\n",
    "games_per_season = team_data['season_id'].value_counts()\n",
    "\n",
    "# Create a bar plot for the games per season\n",
    "plt.figure(figsize=(12, 6))\n",
    "plt.bar(games_per_season.index, games_per_season.values)\n",
    "plt.xlabel('Season ID')\n",
    "plt.ylabel('Number of Games')\n",
    "plt.title(f'Number of Games per Season - Team ID: {team_id}')\n",
    "plt.xticks(team_season_ids, rotation=90)\n",
    "plt.tight_layout()\n",
    "plt.show()"
   ]
  },
  {
   "cell_type": "code",
   "execution_count": 77,
   "metadata": {},
   "outputs": [
    {
     "name": "stdout",
     "output_type": "stream",
     "text": [
      "           team_name_home          team_name_away  plus_minus_away  game_date\n",
      "0          Boston Celtics         Detroit Pistons               -7 2003-04-16\n",
      "1     Cleveland Cavaliers         Toronto Raptors              -10 2003-04-16\n",
      "2     New Orleans Hornets           Atlanta Hawks              -15 2003-04-16\n",
      "3     Seattle SuperSonics            Phoenix Suns              -14 2003-04-16\n",
      "4          Denver Nuggets         Houston Rockets                5 2003-04-16\n",
      "5       Memphis Grizzlies  Minnesota Timberwolves                8 2003-04-16\n",
      "6       San Antonio Spurs        Dallas Mavericks               21 2003-04-16\n",
      "7        Sacramento Kings               Utah Jazz              -11 2003-04-16\n",
      "8          Indiana Pacers         New Jersey Nets               -7 2003-04-16\n",
      "9      Philadelphia 76ers      Washington Wizards              -20 2003-04-16\n",
      "10   Los Angeles Clippers  Portland Trail Blazers              -14 2003-04-16\n",
      "11  Golden State Warriors      Los Angeles Lakers                6 2003-04-16\n",
      "12        Milwaukee Bucks           Orlando Magic               -6 2003-04-16\n"
     ]
    }
   ],
   "source": [
    "import pandas as pd\n",
    "import matplotlib.pyplot as plt\n",
    "\n",
    "con = duckdb.connect(database=':memory:', read_only=False)\n",
    "# Load your table into a DataFrame (assuming it's named 'data')\n",
    "query2 = '''\n",
    "    SELECT\n",
    "    team_name_home,\n",
    "    team_name_away,\n",
    "    plus_minus_away,\n",
    "    game_date\n",
    "    FROM read_csv_auto('C:/Users/Yoric/Uni/dataviz-2023/dataset/csv/game.csv')\n",
    "    WHERE game_date='2003-04-16'\n",
    "'''\n",
    "    \n",
    "result = con.execute(query2)\n",
    "data = result.fetchdf()\n",
    "\n",
    "print(data)\n"
   ]
  },
  {
   "cell_type": "code",
   "execution_count": 20,
   "metadata": {},
   "outputs": [
    {
     "data": {
      "image/png": "[encoded data removed]",
      "text/plain": [
       "<Figure size 1200x600 with 1 Axes>"
      ]
     },
     "metadata": {},
     "output_type": "display_data"
    },
    {
     "data": {
      "image/png": "[encoded data removed]",
      "text/plain": [
       "<Figure size 1200x600 with 1 Axes>"
      ]
     },
     "metadata": {},
     "output_type": "display_data"
    }
   ],
   "source": [
    "import pandas as pd\n",
    "import matplotlib.pyplot as plt\n",
    "import random\n",
    "\n",
    "con = duckdb.connect(database=':memory:', read_only=False)\n",
    "# Load your table into a DataFrame (assuming it's named 'data')\n",
    "query2 = '''\n",
    "   SELECT \n",
    "        SEASON_ID AS season,\n",
    "        TEAM_ID_HOME AS team_id,\n",
    "        TEAM_NAME_HOME AS team_name,\n",
    "        FG3m_HOME AS made_threepointers,\n",
    "        FG3a_HOME AS attempted_threepointers,\n",
    "        FG3_PCT_HOME AS three_point_percentage,\n",
    "        COUNT(TEAM_ID_HOME) AS team_game_count,\n",
    "    FROM read_csv_auto('C:/Users/Yoric/Uni/dataviz-2023/dataset/csv/game.csv')\n",
    "    GROUP BY SEASON_ID, TEAM_ID_HOME, TEAM_NAME_HOME, FG3_PCT_HOME, FG3m_HOME, FG3a_HOME\n",
    "    \n",
    "    UNION\n",
    "    \n",
    "    SELECT \n",
    "        SEASON_ID AS season,\n",
    "        TEAM_ID_AWAY AS team_id,\n",
    "        TEAM_NAME_AWAY AS team_name,        \n",
    "        FG3m_AWAY AS made_threepointers,\n",
    "        FG3a_AWAY AS attempted_threepointers,\n",
    "        FG3_PCT_AWAY AS three_point_percentage,\n",
    "        COUNT(TEAM_ID_AWAY) AS team_game_count,\n",
    "    FROM read_csv_auto('C:/Users/Yoric/Uni/dataviz-2023/dataset/csv/game.csv')\n",
    "    GROUP BY SEASON_ID, TEAM_ID_AWAY, TEAM_NAME_AWAY, FG3_PCT_AWAY, FG3m_AWAY, FG3a_AWAY\n",
    "'''\n",
    "    \n",
    "result = con.execute(query2)\n",
    "data = result.fetchdf()\n",
    "\n",
    "team_ids = list(set(data['team_id']))\n",
    "# Select one random team ID\n",
    "random_team_id = random.choice(team_ids)\n",
    "\n",
    "# Filter the DataFrame for the selected team\n",
    "random_team = data[data['team_id'] == random_team_id]\n",
    "\n",
    "# Group by season and sum the made and attempted threepointers\n",
    "grouped_df1 = random_team.groupby('season').agg({'attempted_threepointers': 'sum', 'made_threepointers': 'sum'}).reset_index()\n",
    "grouped_df2 = random_team.groupby('season').agg({'three_point_percentage': 'mean'}).reset_index()\n",
    "\n",
    "# Plot stacked bar plot for made and attempted threepointers per season\n",
    "plt.figure(figsize=(12, 6))\n",
    "plt.bar(grouped_df1['season'], grouped_df1['attempted_threepointers'], label='Attempted Threepointers')\n",
    "plt.bar(grouped_df1['season'], grouped_df1['made_threepointers'], label='Made Threepointers')\n",
    "plt.xlabel('Season')\n",
    "plt.ylabel('Count')\n",
    "plt.title('Threepointers per Season - Team: {}'.format(random_team['team_name'].values[0]))\n",
    "plt.legend()\n",
    "plt.xticks(rotation=90)\n",
    "\n",
    "# Line plot for three_point_percentage\n",
    "plt.figure(figsize=(12, 6))\n",
    "plt.plot(grouped_df2['season'], grouped_df2['three_point_percentage'], marker='o', label='Three-point Percentage')\n",
    "plt.xlabel('Season')\n",
    "plt.ylabel('Percentage')\n",
    "plt.title('Three-point Percentage per Season - Team: {}'.format(random_team['team_name'].values[0]))\n",
    "plt.legend()\n",
    "plt.xticks(rotation=90)\n",
    "\n",
    "\n",
    "# Adjust layout and display the plot\n",
    "plt.tight_layout()\n",
    "plt.show()\n"
   ]
  },
  {
   "cell_type": "code",
   "execution_count": 120,
   "metadata": {},
   "outputs": [
    {
     "data": {
      "image/png": "[encoded data removed]",
      "text/plain": [
       "<Figure size 1200x600 with 1 Axes>"
      ]
     },
     "metadata": {},
     "output_type": "display_data"
    }
   ],
   "source": [
    "# Your code to fetch the data and select a random team\n",
    "import pandas as pd\n",
    "import matplotlib.pyplot as plt\n",
    "import random\n",
    "\n",
    "con = duckdb.connect(database=':memory:', read_only=False)\n",
    "# Load your table into a DataFrame (assuming it's named 'data')\n",
    "query2 = '''\n",
    "   SELECT \n",
    "        SEASON_ID AS season,\n",
    "        TEAM_ID_HOME AS team_id,\n",
    "        TEAM_NAME_HOME AS team_name,\n",
    "        FG3m_HOME AS made_threepointers,\n",
    "        FG3a_HOME AS attempted_threepointers,\n",
    "        FG3_PCT_HOME AS three_point_percentage,\n",
    "        COUNT(TEAM_ID_HOME) AS team_game_count,\n",
    "    FROM read_csv_auto('C:/Users/Yoric/Uni/dataviz-2023/dataset/csv/game.csv')\n",
    "    GROUP BY SEASON_ID, TEAM_ID_HOME, TEAM_NAME_HOME, FG3_PCT_HOME, FG3m_HOME, FG3a_HOME\n",
    "    \n",
    "    UNION\n",
    "    \n",
    "    SELECT \n",
    "        SEASON_ID AS season,\n",
    "        TEAM_ID_AWAY AS team_id,\n",
    "        TEAM_NAME_AWAY AS team_name,        \n",
    "        FG3m_AWAY AS made_threepointers,\n",
    "        FG3a_AWAY AS attempted_threepointers,\n",
    "        FG3_PCT_AWAY AS three_point_percentage,\n",
    "        COUNT(TEAM_ID_AWAY) AS team_game_count,\n",
    "    FROM read_csv_auto('C:/Users/Yoric/Uni/dataviz-2023/dataset/csv/game.csv')\n",
    "    GROUP BY SEASON_ID, TEAM_ID_AWAY, TEAM_NAME_AWAY, FG3_PCT_AWAY, FG3m_AWAY, FG3a_AWAY\n",
    "'''\n",
    "    \n",
    "result = con.execute(query2)\n",
    "data = result.fetchdf()\n",
    "\n",
    "team_ids = list(set(data['team_id']))\n",
    "# Select one random team ID\n",
    "random_team_id = random.choice(team_ids)\n",
    "\n",
    "\n",
    "# Filter the DataFrame for the selected team\n",
    "random_team = data[data['team_id'] == random_team_id]\n",
    "\n",
    "# Group the data by season and calculate the sum of attempted and made 3-pointers\n",
    "season_data = random_team.groupby('season').agg({'attempted_threepointers': 'sum', 'made_threepointers': 'sum'}).reset_index()\n",
    "\n",
    "# Plotting the stacked bar chart\n",
    "plt.figure(figsize=(12, 6))\n",
    "\n",
    "# Plot the background bar for attempted 3-pointers\n",
    "plt.bar(season_data['season'], season_data['attempted_threepointers'], color='lightgray', label='Attempted 3-Pointers')\n",
    "\n",
    "# Plot the foreground bar for made 3-pointers on top\n",
    "plt.bar(season_data['season'], season_data['made_threepointers'], color='blue', label='Made 3-Pointers')\n",
    "\n",
    "plt.xlabel('Season')\n",
    "plt.ylabel('Number of 3-Pointers')\n",
    "plt.title('3-Pointers Attempted vs Made - Season Development - Team: {}'.format(random_team['team_name'].values[0]))\n",
    "plt.legend()\n",
    "plt.xticks(rotation=90)\n",
    "plt.tight_layout()\n",
    "plt.show()\n"
   ]
  },
  {
   "cell_type": "code",
   "execution_count": 3,
   "metadata": {},
   "outputs": [
    {
     "data": {
      "image/png": "[encoded data removed]",
      "text/plain": [
       "<Figure size 1200x600 with 1 Axes>"
      ]
     },
     "metadata": {},
     "output_type": "display_data"
    },
    {
     "data": {
      "image/png": "[encoded data removed]",
      "text/plain": [
       "<Figure size 1200x600 with 1 Axes>"
      ]
     },
     "metadata": {},
     "output_type": "display_data"
    }
   ],
   "source": [
    "import pandas as pd\n",
    "import matplotlib.pyplot as plt\n",
    "import seaborn as sns\n",
    "import random\n",
    "\n",
    "con = duckdb.connect(database=':memory:', read_only=False)\n",
    "# Load your table into a DataFrame (assuming it's named 'data')\n",
    "query2 = '''\n",
    "   SELECT \n",
    "        SEASON_ID AS season,\n",
    "        TEAM_ID_HOME AS team_id,\n",
    "        TEAM_NAME_HOME AS team_name,\n",
    "        FG3m_HOME AS made_threepointers,\n",
    "        FG3a_HOME AS attempted_threepointers,\n",
    "        FG3_PCT_HOME AS three_point_percentage,\n",
    "        COUNT(TEAM_ID_HOME) AS team_game_count,\n",
    "    FROM read_csv_auto('C:/Users/Yoric/Uni/dataviz-2023/dataset/csv/game.csv')\n",
    "    GROUP BY SEASON_ID, TEAM_ID_HOME, TEAM_NAME_HOME, FG3_PCT_HOME, FG3m_HOME, FG3a_HOME\n",
    "    \n",
    "    UNION\n",
    "    \n",
    "    SELECT \n",
    "        SEASON_ID AS season,\n",
    "        TEAM_ID_AWAY AS team_id,\n",
    "        TEAM_NAME_AWAY AS team_name,        \n",
    "        FG3m_AWAY AS made_threepointers,\n",
    "        FG3a_AWAY AS attempted_threepointers,\n",
    "        FG3_PCT_AWAY AS three_point_percentage,\n",
    "        COUNT(TEAM_ID_AWAY) AS team_game_count,\n",
    "    FROM read_csv_auto('C:/Users/Yoric/Uni/dataviz-2023/dataset/csv/game.csv')\n",
    "    GROUP BY SEASON_ID, TEAM_ID_AWAY, TEAM_NAME_AWAY, FG3_PCT_AWAY, FG3m_AWAY, FG3a_AWAY\n",
    "'''\n",
    "    \n",
    "result = con.execute(query2)\n",
    "data = result.fetchdf()\n",
    "\n",
    "# Group by season and sum the made and attempted threepointers for all teams\n",
    "grouped_df1 = data.groupby('season').agg({'attempted_threepointers': 'sum', 'made_threepointers': 'sum'}).reset_index()\n",
    "grouped_df2 = data.groupby('season').agg({'three_point_percentage': 'mean'}).reset_index()\n",
    "\n",
    "# Set the Seaborn style\n",
    "sns.set(style='whitegrid')\n",
    "\n",
    "# Plot stacked bar plot for made and attempted threepointers per season\n",
    "plt.figure(figsize=(12, 6))\n",
    "sns.barplot(data=grouped_df1, x='season', y='attempted_threepointers', color='blue', label='Attempted Threepointers')\n",
    "sns.barplot(data=grouped_df1, x='season', y='made_threepointers', color='orange', label='Made Threepointers')\n",
    "plt.xlabel('Season')\n",
    "plt.ylabel('Count')\n",
    "plt.title('Threepointers per Season - All Teams')\n",
    "plt.legend()\n",
    "plt.xticks(rotation=90)\n",
    "\n",
    "# Line plot for three_point_percentage\n",
    "plt.figure(figsize=(12, 6))\n",
    "sns.lineplot(data=grouped_df2, x='season', y='three_point_percentage', marker='o', color='green', label='Three-point Percentage')\n",
    "plt.xlabel('Season')\n",
    "plt.ylabel('Percentage')\n",
    "plt.title('Three-point Percentage per Season - All Teams')\n",
    "plt.legend()\n",
    "plt.xticks(rotation=90)\n",
    "\n",
    "# Adjust layout and display the plot\n",
    "plt.tight_layout()\n",
    "plt.show()\n"
   ]
  },
  {
   "cell_type": "code",
   "execution_count": 68,
   "metadata": {},
   "outputs": [
    {
     "data": {
      "image/png": "[encoded data removed]",
      "text/plain": [
       "<Figure size 1600x600 with 1 Axes>"
      ]
     },
     "metadata": {},
     "output_type": "display_data"
    }
   ],
   "source": [
    "import pandas as pd\n",
    "import matplotlib.pyplot as plt\n",
    "import seaborn as sns\n",
    "import random\n",
    "\n",
    "con = duckdb.connect(database=':memory:', read_only=False)\n",
    "\n",
    "query = '''\n",
    "    SELECT season_id, pts_home, pts_away\n",
    "    FROM read_csv_auto('C:/Users/Yoric/Uni/dataviz-2023/dataset/csv/game.csv')\n",
    "'''\n",
    "\n",
    "result = con.execute(query)\n",
    "data = result.fetchdf()\n",
    "\n",
    "\n",
    "# Calculate average points per game\n",
    "data['avg_points'] = (data['pts_home'] + data['pts_away'])\n",
    "\n",
    "# Group by season_id and calculate the mean average points\n",
    "season_avg_points = data.groupby('season_id')['avg_points'].median().reset_index()\n",
    "\n",
    "# Create the bar plot using seaborn\n",
    "plt.figure(figsize=(16, 6))\n",
    "sns.barplot(x='season_id', y='avg_points', data=season_avg_points)\n",
    "plt.xlabel('Season')\n",
    "plt.ylabel('Average Points per Game')\n",
    "plt.title('Average Points per Game in Each Season')\n",
    "plt.xticks(rotation=45)\n",
    "plt.show()\n"
   ]
  },
  {
   "cell_type": "code",
   "execution_count": 48,
   "metadata": {},
   "outputs": [
    {
     "name": "stdout",
     "output_type": "stream",
     "text": [
      "season_id     21986.000000\n",
      "pts_home      112.519618  \n",
      "pts_away      107.351007  \n",
      "avg_points    219.870626  \n",
      "dtype: float64\n"
     ]
    }
   ],
   "source": [
    "print(data[data['season_id'] == 21986].mean())"
   ]
  },
  {
   "cell_type": "code",
   "execution_count": 139,
   "metadata": {},
   "outputs": [
    {
     "name": "stdout",
     "output_type": "stream",
     "text": [
      "      game_id  season     team_id               team_name  made_threepointers  attempted_threepointers  three_point_percentage  team_game_count  calculated_percentage  comparison\n",
      "0  0021500018   22015  1610612754          Indiana Pacers                12.0                     30.0                   0.400                1                  0.400        True\n",
      "1  0021500003   22015  1610612744   Golden State Warriors                 9.0                     30.0                   0.300                1                  0.300        True\n",
      "2  0020000006   22000  1610612741           Chicago Bulls                 6.0                      8.0                   0.750                1                  0.750        True\n",
      "3  0021500003   22015  1610612740    New Orleans Pelicans                 6.0                     18.0                   0.333                1                  0.333        True\n",
      "4  0028100002   21981  1610612757  Portland Trail Blazers                 0.0                      NaN                     NaN                1                    NaN       False\n",
      "5  0020000006   22000  1610612758        Sacramento Kings                 5.0                     13.0                   0.385                1                  0.385        True\n",
      "6  0021500018   22015  1610612763       Memphis Grizzlies                 7.0                     16.0                   0.438                1                  0.438        True\n",
      "7  0028100002   21981  1610612756            Phoenix Suns                 2.0                      NaN                     NaN                1                    NaN       False\n"
     ]
    },
    {
     "name": "stderr",
     "output_type": "stream",
     "text": [
      "C:\\Users\\Yoric\\AppData\\Local\\Temp\\ipykernel_20112\\3605342974.py:44: SettingWithCopyWarning:\n",
      "\n",
      "\n",
      "A value is trying to be set on a copy of a slice from a DataFrame.\n",
      "Try using .loc[row_indexer,col_indexer] = value instead\n",
      "\n",
      "See the caveats in the documentation: https://pandas.pydata.org/pandas-docs/stable/user_guide/indexing.html#returning-a-view-versus-a-copy\n",
      "\n",
      "C:\\Users\\Yoric\\AppData\\Local\\Temp\\ipykernel_20112\\3605342974.py:47: SettingWithCopyWarning:\n",
      "\n",
      "\n",
      "A value is trying to be set on a copy of a slice from a DataFrame.\n",
      "Try using .loc[row_indexer,col_indexer] = value instead\n",
      "\n",
      "See the caveats in the documentation: https://pandas.pydata.org/pandas-docs/stable/user_guide/indexing.html#returning-a-view-versus-a-copy\n",
      "\n"
     ]
    }
   ],
   "source": [
    "#Exploration\n",
    "import pandas as pd\n",
    "import matplotlib.pyplot as plt\n",
    "import random\n",
    "\n",
    "con = duckdb.connect(database=':memory:', read_only=False)\n",
    "\n",
    "query2 = '''\n",
    "   SELECT \n",
    "        GAME_ID as game_id,\n",
    "        SEASON_ID AS season,\n",
    "        TEAM_ID_HOME AS team_id,\n",
    "        TEAM_NAME_HOME AS team_name,\n",
    "        FG3m_HOME AS made_threepointers,\n",
    "        FG3a_HOME AS attempted_threepointers,\n",
    "        FG3_PCT_HOME AS three_point_percentage,\n",
    "        COUNT(TEAM_ID_HOME) AS team_game_count,\n",
    "    FROM read_csv_auto('C:/Users/Yoric/Uni/dataviz-2023/dataset/csv/game.csv')\n",
    "    GROUP BY GAME_ID, SEASON_ID, TEAM_ID_HOME, TEAM_NAME_HOME, FG3_PCT_HOME, FG3m_HOME, FG3a_HOME, \n",
    "    \n",
    "    UNION\n",
    "    \n",
    "    SELECT\n",
    "        GAME_ID AS game_id,\n",
    "        SEASON_ID AS season,\n",
    "        TEAM_ID_AWAY AS team_id,\n",
    "        TEAM_NAME_AWAY AS team_name,        \n",
    "        FG3m_AWAY AS made_threepointers,\n",
    "        FG3a_AWAY AS attempted_threepointers,\n",
    "        FG3_PCT_AWAY AS three_point_percentage,\n",
    "        COUNT(TEAM_ID_AWAY) AS team_game_count,\n",
    "    FROM read_csv_auto('C:/Users/Yoric/Uni/dataviz-2023/dataset/csv/game.csv')\n",
    "    GROUP BY GAME_ID, SEASON_ID, TEAM_ID_AWAY, TEAM_NAME_AWAY, FG3_PCT_AWAY, FG3m_AWAY, FG3a_AWAY\n",
    "'''\n",
    "    \n",
    "result = con.execute(query2)\n",
    "data = result.fetchdf()\n",
    "\n",
    "data['game_id'] = data['game_id'].astype(str)\n",
    "# Filter the data for the desired games\n",
    "game_ids = ['0028100002', '0020000006', '0021500018', '0021500003' ]\n",
    "filtered_data = data[data['game_id'].isin(game_ids)]\n",
    "\n",
    "# Calculate the three-point percentage for each game\n",
    "filtered_data['calculated_percentage'] = (filtered_data['made_threepointers'] / filtered_data['attempted_threepointers']).round(decimals=3)\n",
    "\n",
    "# Compare the calculated percentage with the inbuilt percentage\n",
    "filtered_data['comparison'] = filtered_data['calculated_percentage'] == filtered_data['three_point_percentage']\n",
    "\n",
    "# Reset the index to have a flat DataFrame\n",
    "filtered_data = filtered_data.reset_index(drop=True)\n",
    "\n",
    "# Print the data to analyze the comparison\n",
    "with pd.option_context('mode.chained_assignment', None):  # Disable the warning\n",
    "    filtered_data.loc[:, 'comparison'] = filtered_data['comparison'].astype(bool)\n",
    "\n",
    "    # Adjust cell output settings to display all columns\n",
    "    pd.set_option('display.max_columns', None)\n",
    "    pd.set_option('display.expand_frame_repr', False)\n",
    "\n",
    "    print(filtered_data)"
   ]
  },
  {
   "cell_type": "code",
   "execution_count": 82,
   "metadata": {},
   "outputs": [
    {
     "name": "stdout",
     "output_type": "stream",
     "text": [
      "     player1_id  season_id_x  game_id  level_1  attempt   made  \\\n",
      "0    201933      2010         75       2010     389      296.0   \n",
      "1    201933      2011         61       2011     313      257.0   \n",
      "2    201933      2012         73       2012     303      257.0   \n",
      "3    201933      2013         73       2013     358      294.0   \n",
      "4    201933      2014         65       2014     233      175.0   \n",
      "5    201933      2015         33       2015     124      101.0   \n",
      "6    201933      2016         59       2016     268      201.0   \n",
      "7    201933      2018         72       2018     380      242.0   \n",
      "8    201933      2019         16       2019     51       30.0    \n",
      "9    201933      2020         40       2020     106      68.0    \n",
      "10   201933      2021         43       2021     99       58.0    \n",
      "11   201933      2022         16       2022     38       28.0    \n",
      "12   201934      2009         27       2009     46       36.0    \n",
      "13   201934      2010         16       2010     18       11.0    \n",
      "14   201934      2011         6        2011     8        7.0     \n",
      "15   201934      2012         34       2012     46       36.0    \n",
      "16   201934      2013         3        2013     4        2.0     \n",
      "17   201935      2009         48       2009     84       59.0    \n",
      "18   201935      2010         61       2010     127      99.0    \n",
      "19   201935      2011         50       2011     137      115.0   \n",
      "20   201935      2012         71       2012     290      204.0   \n",
      "21   201935      2013         65       2013     237      176.0   \n",
      "22   201935      2014         79       2014     356      242.0   \n",
      "23   201935      2015         77       2015     354      240.0   \n",
      "24   201935      2016         78       2016     362      250.0   \n",
      "25   201935      2018         74       2018     474      272.0   \n",
      "26   201935      2019         65       2019     374      227.0   \n",
      "27   201935      2020         39       2020     192      112.0   \n",
      "28   201935      2021         56       2021     236      119.0   \n",
      "29   201935      2022         48       2022     152      86.0    \n",
      "30   201936      2009         63       2009     296      225.0   \n",
      "31   201936      2010         46       2010     176      124.0   \n",
      "32   201936      2011         58       2011     237      172.0   \n",
      "33   201936      2012         58       2012     210      166.0   \n",
      "34   201936      2013         61       2013     243      180.0   \n",
      "35   201936      2014         75       2014     300      230.0   \n",
      "36   201936      2015         23       2015     108      75.0    \n",
      "37   201936      2016         29       2016     86       58.0    \n",
      "38   201936      2018         68       2018     263      120.0   \n",
      "39   201937      2011         29       2011     68       39.0    \n",
      "40   201937      2012         39       2012     100      60.0    \n",
      "41   201937      2013         70       2013     187      112.0   \n",
      "42   201937      2014         17       2014     26       8.0     \n",
      "43   201937      2015         56       2015     96       58.0    \n",
      "44   201937      2016         49       2016     96       58.0    \n",
      "45   201937      2018         59       2018     170      97.0    \n",
      "46   201937      2019         58       2019     188      92.0    \n",
      "47   201937      2020         59       2020     130      66.0    \n",
      "48   201937      2021         30       2021     98       41.0    \n",
      "49   201937      2022         11       2022     16       5.0     \n",
      "50   201938      2009         61       2009     163      117.0   \n",
      "51   201938      2010         14       2010     23       15.0    \n",
      "52   201938      2011         10       2011     11       7.0     \n",
      "53   201939      2009         57       2009     112      88.0    \n",
      "54   201939      2010         52       2010     112      86.0    \n",
      "55   201939      2011         15       2011     23       16.0    \n",
      "56   201939      2012         46       2012     91       66.0    \n",
      "57   201939      2013         65       2013     146      106.0   \n",
      "58   201939      2014         67       2014     170      134.0   \n",
      "59   201939      2015         74       2015     282      225.0   \n",
      "60   201939      2016         74       2016     240      178.0   \n",
      "61   201939      2018         60       2018     225      141.0   \n",
      "62   201939      2019         5        2019     18       10.0    \n",
      "63   201939      2020         59       2020     283      179.0   \n",
      "64   201939      2021         57       2021     250      139.0   \n",
      "65   201939      2022         39       2022     188      126.0   \n",
      "66   201941      2009         21       2009     43       34.0    \n",
      "67   201941      2010         45       2010     87       55.0    \n",
      "68   201941      2011         16       2011     25       21.0    \n",
      "69   201941      2012         22       2012     50       35.0    \n",
      "70   201941      2013         57       2013     150      110.0   \n",
      "71   201941      2014         57       2014     130      93.0    \n",
      "72   201941      2015         57       2015     123      89.0    \n",
      "73   201941      2016         3        2016     4        2.0     \n",
      "74   201942      2009         55       2009     149      98.0    \n",
      "75   201942      2010         72       2010     248      163.0   \n",
      "76   201942      2011         54       2011     161      109.0   \n",
      "77   201942      2012         75       2012     204      139.0   \n",
      "78   201942      2013         68       2013     173      140.0   \n",
      "79   201942      2014         46       2014     141      91.0    \n",
      "80   201942      2015         72       2015     246      165.0   \n",
      "81   201942      2016         65       2016     217      154.0   \n",
      "82   201942      2018         73       2018     302      204.0   \n",
      "83   201942      2019         62       2019     288      197.0   \n",
      "84   201942      2020         54       2020     197      125.0   \n",
      "85   201942      2021         73       2021     258      161.0   \n",
      "86   201942      2022         56       2022     207      139.0   \n",
      "87   201943      2009         50       2009     92       60.0    \n",
      "88   201943      2010         46       2010     102      77.0    \n",
      "89   201943      2011         46       2011     107      68.0    \n",
      "90   201943      2012         44       2012     99       66.0    \n",
      "91   201943      2013         51       2013     117      81.0    \n",
      "92   201943      2014         29       2014     67       48.0    \n",
      "93   201943      2015         23       2015     29       21.0    \n",
      "94   201943      2016         42       2016     75       46.0    \n",
      "95   201944      2009         58       2009     159      101.0   \n",
      "96   201944      2010         10       2010     19       11.0    \n",
      "97   201944      2011         18       2011     30       20.0    \n",
      "98   201944      2012         15       2012     25       19.0    \n",
      "99   201945      2009         12       2009     21       15.0    \n",
      "100  201945      2010         45       2010     91       65.0    \n",
      "101  201945      2011         48       2011     106      85.0    \n",
      "102  201945      2012         51       2012     121      87.0    \n",
      "103  201945      2013         50       2013     95       79.0    \n",
      "104  201945      2014         48       2014     104      84.0    \n",
      "105  201945      2015         43       2015     64       50.0    \n",
      "106  201945      2016         49       2016     83       59.0    \n",
      "107  201946      2009         18       2009     31       17.0    \n",
      "108  201946      2010         42       2010     75       52.0    \n",
      "109  201946      2011         33       2011     42       34.0    \n",
      "110  201946      2012         45       2012     71       45.0    \n",
      "111  201946      2013         33       2013     61       37.0    \n",
      "112  201946      2014         41       2014     64       41.0    \n",
      "113  201946      2015         16       2015     22       14.0    \n",
      "114  201947      2009         11       2009     16       10.0    \n",
      "115  201947      2010         25       2010     44       31.0    \n",
      "116  201947      2011         17       2011     27       18.0    \n",
      "117  201947      2012         31       2012     67       55.0    \n",
      "118  201947      2013         25       2013     28       17.0    \n",
      "119  201947      2014         2        2014     2        1.0     \n",
      "120  201948      2009         21       2009     30       23.0    \n",
      "121  201948      2010         31       2010     41       19.0    \n",
      "122  201948      2011         4        2011     4        3.0     \n",
      "123  201948      2012         11       2012     12       8.0     \n",
      "124  201948      2013         3        2013     4        3.0     \n",
      "125  201948      2014         4        2014     4        2.0     \n",
      "126  201949      2009         35       2009     59       47.0    \n",
      "127  201949      2010         25       2010     69       50.0    \n",
      "128  201949      2011         45       2011     141      92.0    \n",
      "129  201949      2012         34       2012     61       45.0    \n",
      "130  201949      2013         40       2013     94       67.0    \n",
      "131  201949      2014         55       2014     174      127.0   \n",
      "132  201949      2015         46       2015     96       67.0    \n",
      "133  201949      2016         66       2016     194      136.0   \n",
      "134  201949      2018         46       2018     118      73.0    \n",
      "135  201949      2019         23       2019     78       49.0    \n",
      "136  201949      2020         36       2020     104      64.0    \n",
      "137  201949      2021         47       2021     147      89.0    \n",
      "138  201949      2022         6        2022     12       6.0     \n",
      "139  201950      2009         45       2009     78       59.0    \n",
      "140  201950      2010         59       2010     138      103.0   \n",
      "141  201950      2011         50       2011     100      80.0    \n",
      "142  201950      2012         66       2012     170      142.0   \n",
      "143  201950      2013         23       2013     53       40.0    \n",
      "144  201950      2014         32       2014     64       51.0    \n",
      "145  201950      2015         55       2015     194      145.0   \n",
      "146  201950      2016         55       2016     148      113.0   \n",
      "147  201950      2018         65       2018     331      225.0   \n",
      "148  201950      2019         57       2019     339      204.0   \n",
      "149  201950      2020         58       2020     244      157.0   \n",
      "150  201950      2021         62       2021     283      163.0   \n",
      "151  201950      2022         51       2022     218      123.0   \n",
      "152  201951      2009         40       2009     93       66.0    \n",
      "153  201951      2010         65       2010     181      131.0   \n",
      "154  201951      2011         51       2011     141      107.0   \n",
      "155  201951      2012         61       2012     185      130.0   \n",
      "156  201951      2013         56       2013     140      104.0   \n",
      "157  201951      2014         60       2014     131      95.0    \n",
      "158  201951      2015         37       2015     69       49.0    \n",
      "159  201951      2016         49       2016     104      80.0    \n",
      "160  201952      2009         34       2009     65       44.0    \n",
      "161  201952      2010         37       2010     73       45.0    \n",
      "162  201952      2011         57       2011     215      150.0   \n",
      "163  201952      2012         70       2012     233      153.0   \n",
      "164  201952      2013         67       2013     251      166.0   \n",
      "165  201952      2014         64       2014     232      159.0   \n",
      "166  201952      2015         73       2015     292      174.0   \n",
      "167  201952      2016         62       2016     169      99.0    \n",
      "168  201952      2018         35       2018     107      58.0    \n",
      "169  201952      2019         50       2019     154      85.0    \n",
      "170  201952      2020         33       2020     80       38.0    \n",
      "171  201953      2009         25       2009     35       20.0    \n",
      "172  201953      2010         19       2010     19       12.0    \n",
      "173  201953      2012         19       2012     23       13.0    \n",
      "174  201953      2013         4        2013     5        4.0     \n",
      "175  201954      2009         51       2009     97       82.0    \n",
      "176  201954      2010         56       2010     103      82.0    \n",
      "177  201954      2011         38       2011     66       50.0    \n",
      "178  201954      2012         64       2012     165      119.0   \n",
      "179  201954      2013         57       2013     113      95.0    \n",
      "180  201954      2014         40       2014     95       76.0    \n",
      "181  201954      2015         63       2015     149      112.0   \n",
      "182  201954      2016         59       2016     149      94.0    \n",
      "183  201954      2018         62       2018     152      88.0    \n",
      "184  201954      2021         1        2021     1        1.0     \n",
      "185  201956      2009         47       2009     92       67.0    \n",
      "186  201956      2010         33       2010     53       41.0    \n",
      "187  201956      2011         32       2011     51       35.0    \n",
      "188  201956      2012         13       2012     15       10.0    \n",
      "189  201956      2013         32       2013     51       31.0    \n",
      "190  201956      2014         47       2014     94       80.0    \n",
      "191  201956      2015         60       2015     138      103.0   \n",
      "192  201956      2016         26       2016     50       37.0    \n",
      "193  201956      2018         29       2018     74       51.0    \n",
      "194  201957      2009         2        2009     3        3.0     \n",
      "195  201957      2010         6        2010     10       5.0     \n",
      "196  201957      2011         47       2011     93       68.0    \n",
      "197  201957      2012         36       2012     64       46.0    \n",
      "198  201957      2013         13       2013     20       14.0    \n",
      "199  201958      2009         34       2009     76       59.0    \n",
      "200  201958      2010         14       2010     33       24.0    \n",
      "201  201958      2011         31       2011     84       52.0    \n",
      "202  201958      2012         17       2012     27       17.0    \n",
      "203  201959      2009         69       2009     152      100.0   \n",
      "204  201959      2010         59       2010     103      81.0    \n",
      "205  201959      2011         42       2011     84       68.0    \n",
      "206  201959      2012         46       2012     104      75.0    \n",
      "207  201959      2013         68       2013     147      117.0   \n",
      "208  201959      2014         49       2014     131      93.0    \n",
      "209  201959      2015         64       2015     161      116.0   \n",
      "210  201959      2016         66       2016     187      129.0   \n",
      "211  201959      2018         60       2018     174      123.0   \n",
      "212  201959      2019         47       2019     110      72.0    \n",
      "213  201959      2020         31       2020     62       48.0    \n",
      "214  201959      2021         27       2021     46       32.0    \n",
      "215  201959      2022         21       2022     36       27.0    \n",
      "216  201960      2009         13       2009     16       9.0     \n",
      "217  201960      2010         1        2010     1       NaN      \n",
      "218  201960      2011         6        2011     8        5.0     \n",
      "219  201960      2012         25       2012     30       26.0    \n",
      "220  201960      2013         49       2013     93       63.0    \n",
      "221  201960      2014         46       2014     76       57.0    \n",
      "222  201960      2015         19       2015     41       25.0    \n",
      "223  201960      2016         43       2016     67       42.0    \n",
      "224  201960      2018         53       2018     110      56.0    \n",
      "225  201960      2019         11       2019     15       7.0     \n",
      "226  201961      2009         30       2009     41       35.0    \n",
      "227  201961      2010         21       2010     32       24.0    \n",
      "228  201961      2011         17       2011     22       20.0    \n",
      "229  201961      2012         25       2012     34       27.0    \n",
      "230  201961      2013         8        2013     9        9.0     \n",
      "231  201961      2014         34       2014     55       40.0    \n",
      "232  201961      2015         35       2015     52       37.0    \n",
      "233  201961      2016         19       2016     21       20.0    \n",
      "234  201961      2018         26       2018     42       24.0    \n",
      "235  201961      2019         7        2019     7        3.0     \n",
      "236  201961      2020         17       2020     24       18.0    \n",
      "237  201961      2021         5        2021     7        6.0     \n",
      "238  201962      2009         27       2009     44       38.0    \n",
      "239  201962      2010         41       2010     87       65.0    \n",
      "240  201962      2011         16       2011     26       19.0    \n",
      "241  201962      2012         25       2012     45       26.0    \n",
      "242  201962      2013         14       2013     21       15.0    \n",
      "243  201962      2014         4        2014     7        7.0     \n",
      "244  201962      2015         33       2015     55       41.0    \n",
      "245  201962      2016         11       2016     18       10.0    \n",
      "246  201963      2010         29       2010     54       39.0    \n",
      "247  201963      2011         4        2011     5        3.0     \n",
      "248  201964      2012         23       2012     33       20.0    \n",
      "249  201964      2013         3        2013     4        3.0     \n",
      "250  201964      2014         3        2014     3        1.0     \n",
      "251  201965      2009         12       2009     23       21.0    \n",
      "252  201965      2011         6        2011     10       8.0     \n",
      "253  201965      2012         14       2012     18       12.0    \n",
      "254  201965      2013         36       2013     52       42.0    \n",
      "255  201965      2014         22       2014     32       23.0    \n",
      "256  201965      2015         2        2015     3        2.0     \n",
      "257  201966      2009         15       2009     23       16.0    \n",
      "258  201966      2010         22       2010     51       38.0    \n",
      "259  201967      2009         17       2009     21       16.0    \n",
      "260  201967      2010         33       2010     50       35.0    \n",
      "261  201967      2011         33       2011     52       41.0    \n",
      "262  201967      2012         54       2012     87       71.0    \n",
      "263  201967      2013         32       2013     48       42.0    \n",
      "264  201967      2014         19       2014     27       19.0    \n",
      "265  201967      2015         47       2015     83       67.0    \n",
      "266  201967      2016         35       2016     55       51.0    \n",
      "267  201967      2018         27       2018     37       23.0    \n",
      "268  201969      2009         11       2009     14       11.0    \n",
      "269  201969      2010         3        2010     3        1.0     \n",
      "270  201969      2011         5        2011     7        2.0     \n",
      "271  201970      2009         51       2009     114      78.0    \n",
      "272  201970      2010         38       2010     67       59.0    \n",
      "273  201970      2011         11       2011     14       11.0    \n",
      "274  201970      2012         15       2012     21       14.0    \n",
      "275  201971      2009         53       2009     114      81.0    \n",
      "276  201971      2010         49       2010     98       59.0    \n",
      "277  201971      2011         34       2011     58       38.0    \n",
      "278  201971      2012         19       2012     29       22.0    \n",
      "279  201971      2013         45       2013     77       46.0    \n",
      "280  201971      2014         8        2014     13       7.0     \n",
      "281  201971      2015         6        2015     7        6.0     \n",
      "282  201972      2009         16       2009     24       13.0    \n",
      "283  201972      2010         9        2010     11       10.0    \n",
      "284  201972      2011         3        2011     3        2.0     \n",
      "285  201973      2009         55       2009     118      76.0    \n",
      "286  201973      2011         41       2011     78       58.0    \n",
      "287  201973      2012         30       2012     71       46.0    \n",
      "288  201973      2013         20       2013     26       22.0    \n",
      "289  201973      2014         36       2014     67       37.0    \n",
      "290  201973      2015         42       2015     61       39.0    \n",
      "291  201973      2016         35       2016     53       36.0    \n",
      "292  201973      2018         38       2018     74       47.0    \n",
      "293  201974      2009         26       2009     48       38.0    \n",
      "294  201974      2010         31       2010     55       49.0    \n",
      "295  201974      2011         49       2011     88       74.0    \n",
      "296  201975      2009         16       2009     24       21.0    \n",
      "297  201975      2010         28       2010     42       35.0    \n",
      "298  201975      2011         22       2011     31       25.0    \n",
      "299  201975      2012         41       2012     57       36.0    \n",
      "300  201975      2013         54       2013     126      103.0   \n",
      "301  201975      2014         23       2014     37       24.0    \n",
      "302  201975      2015         1        2015     1        1.0     \n",
      "303  201975      2016         19       2016     27       16.0    \n",
      "304  201975      2018         5        2018     8        5.0     \n",
      "305  201976      2012         19       2012     27       17.0    \n",
      "306  201976      2013         32       2013     58       35.0    \n",
      "307  201976      2014         28       2014     45       27.0    \n",
      "308  201976      2015         50       2015     87       54.0    \n",
      "309  201976      2016         50       2016     112      67.0    \n",
      "310  201976      2018         56       2018     89       43.0    \n",
      "311  201976      2019         37       2019     67       37.0    \n",
      "312  201976      2020         27       2020     41       21.0    \n",
      "313  201976      2021         44       2021     86       42.0    \n",
      "314  201976      2022         30       2022     46       29.0    \n",
      "315  201977      2009         41       2009     100      72.0    \n",
      "316  201977      2010         43       2010     87       62.0    \n",
      "317  201977      2011         39       2011     69       51.0    \n",
      "318  201977      2012         32       2012     52       42.0    \n",
      "319  201977      2013         36       2013     63       38.0    \n",
      "320  201977      2014         21       2014     32       20.0    \n",
      "321  201977      2015         38       2015     73       49.0    \n",
      "322  201977      2016         15       2016     21       18.0    \n",
      "323  201978      2009         46       2009     70       53.0    \n",
      "324  201978      2010         43       2010     78       62.0    \n",
      "325  201978      2011         33       2011     53       38.0    \n",
      "326  201978      2012         14       2012     25       23.0    \n",
      "327  201978      2013         15       2013     25       22.0    \n",
      "328  201978      2014         27       2014     56       36.0    \n",
      "329  201978      2015         34       2015     56       39.0    \n",
      "330  201979      2013         29       2013     42       30.0    \n",
      "331  201979      2014         19       2014     34       20.0    \n",
      "332  201980      2009         1        2009     1        1.0     \n",
      "333  201980      2010         1        2010     2        2.0     \n",
      "334  201980      2011         26       2011     48       27.0    \n",
      "335  201980      2012         30       2012     40       22.0    \n",
      "336  201980      2013         18       2013     26       18.0    \n",
      "337  201980      2014         31       2014     44       31.0    \n",
      "338  201980      2015         43       2015     65       42.0    \n",
      "339  201980      2016         31       2016     40       24.0    \n",
      "340  201980      2018         41       2018     66       38.0    \n",
      "341  201980      2019         34       2019     49       28.0    \n",
      "342  201980      2020         26       2020     33       14.0    \n",
      "343  201980      2021         14       2021     19       9.0     \n",
      "344  201981      2009         2        2009     2        2.0     \n",
      "345  201985      2009         25       2009     31       25.0    \n",
      "346  201985      2010         9        2010     9        7.0     \n",
      "347  201985      2011         5        2011     5        3.0     \n",
      "348  201985      2012         11       2012     15       11.0    \n",
      "349  201985      2013         2        2013     2        2.0     \n",
      "350  201985      2014         2        2014     2        1.0     \n",
      "351  201986      2012         14       2012     19       13.0    \n",
      "352  201986      2013         16       2013     23       13.0    \n",
      "353  201988      2009         4        2009     6        2.0     \n",
      "354  201988      2010         26       2010     38       25.0    \n",
      "355  201988      2011         4        2011     6        6.0     \n",
      "356  201988      2012         14       2012     21       15.0    \n",
      "357  201988      2013         22       2013     34       22.0    \n",
      "358  201988      2014         15       2014     19       10.0    \n",
      "359  201988      2015         40       2015     64       43.0    \n",
      "360  201988      2016         44       2016     73       54.0    \n",
      "361  201988      2018         57       2018     97       65.0    \n",
      "362  201988      2019         42       2019     74       46.0    \n",
      "363  201988      2020         42       2020     68       41.0    \n",
      "364  201988      2021         36       2021     56       32.0    \n",
      "365  201988      2022         11       2022     18       12.0    \n",
      "366  201991      2009         4        2009     5        5.0     \n",
      "367  201991      2010         1        2010     1        1.0     \n",
      "368  201991      2011         10       2011     24       17.0    \n",
      "369  201991      2014         2        2014     2        2.0     \n",
      "\n",
      "     shot_percentage  person_id  season_id        player_name first_name  \\\n",
      "0    0.760925         201933     2009       Blake Griffin      Blake       \n",
      "1    0.821086         201933     2009       Blake Griffin      Blake       \n",
      "2    0.848185         201933     2009       Blake Griffin      Blake       \n",
      "3    0.821229         201933     2009       Blake Griffin      Blake       \n",
      "4    0.751073         201933     2009       Blake Griffin      Blake       \n",
      "5    0.814516         201933     2009       Blake Griffin      Blake       \n",
      "6    0.750000         201933     2009       Blake Griffin      Blake       \n",
      "7    0.636842         201933     2009       Blake Griffin      Blake       \n",
      "8    0.588235         201933     2009       Blake Griffin      Blake       \n",
      "9    0.641509         201933     2009       Blake Griffin      Blake       \n",
      "10   0.585859         201933     2009       Blake Griffin      Blake       \n",
      "11   0.736842         201933     2009       Blake Griffin      Blake       \n",
      "12   0.782609         201934     2009       Hasheem Thabeet    Hasheem     \n",
      "13   0.611111         201934     2009       Hasheem Thabeet    Hasheem     \n",
      "14   0.875000         201934     2009       Hasheem Thabeet    Hasheem     \n",
      "15   0.782609         201934     2009       Hasheem Thabeet    Hasheem     \n",
      "16   0.500000         201934     2009       Hasheem Thabeet    Hasheem     \n",
      "17   0.702381         201935     2009       James Harden       James       \n",
      "18   0.779528         201935     2009       James Harden       James       \n",
      "19   0.839416         201935     2009       James Harden       James       \n",
      "20   0.703448         201935     2009       James Harden       James       \n",
      "21   0.742616         201935     2009       James Harden       James       \n",
      "22   0.679775         201935     2009       James Harden       James       \n",
      "23   0.677966         201935     2009       James Harden       James       \n",
      "24   0.690608         201935     2009       James Harden       James       \n",
      "25   0.573840         201935     2009       James Harden       James       \n",
      "26   0.606952         201935     2009       James Harden       James       \n",
      "27   0.583333         201935     2009       James Harden       James       \n",
      "28   0.504237         201935     2009       James Harden       James       \n",
      "29   0.565789         201935     2009       James Harden       James       \n",
      "30   0.760135         201936     2009       Tyreke Evans       NaN         \n",
      "31   0.704545         201936     2009       Tyreke Evans       NaN         \n",
      "32   0.725738         201936     2009       Tyreke Evans       NaN         \n",
      "33   0.790476         201936     2009       Tyreke Evans       NaN         \n",
      "34   0.740741         201936     2009       Tyreke Evans       NaN         \n",
      "35   0.766667         201936     2009       Tyreke Evans       NaN         \n",
      "36   0.694444         201936     2009       Tyreke Evans       NaN         \n",
      "37   0.674419         201936     2009       Tyreke Evans       NaN         \n",
      "38   0.456274         201936     2009       Tyreke Evans       NaN         \n",
      "39   0.573529         201937     2009       Ricky Rubio        NaN         \n",
      "40   0.600000         201937     2009       Ricky Rubio        NaN         \n",
      "41   0.598930         201937     2009       Ricky Rubio        NaN         \n",
      "42   0.307692         201937     2009       Ricky Rubio        NaN         \n",
      "43   0.604167         201937     2009       Ricky Rubio        NaN         \n",
      "44   0.604167         201937     2009       Ricky Rubio        NaN         \n",
      "45   0.570588         201937     2009       Ricky Rubio        NaN         \n",
      "46   0.489362         201937     2009       Ricky Rubio        NaN         \n",
      "47   0.507692         201937     2009       Ricky Rubio        NaN         \n",
      "48   0.418367         201937     2009       Ricky Rubio        NaN         \n",
      "49   0.312500         201937     2009       Ricky Rubio        NaN         \n",
      "50   0.717791         201938     2009       Jonny Flynn        Jonny       \n",
      "51   0.652174         201938     2009       Jonny Flynn        Jonny       \n",
      "52   0.636364         201938     2009       Jonny Flynn        Jonny       \n",
      "53   0.785714         201939     2009       Stephen Curry      NaN         \n",
      "54   0.767857         201939     2009       Stephen Curry      NaN         \n",
      "55   0.695652         201939     2009       Stephen Curry      NaN         \n",
      "56   0.725275         201939     2009       Stephen Curry      NaN         \n",
      "57   0.726027         201939     2009       Stephen Curry      NaN         \n",
      "58   0.788235         201939     2009       Stephen Curry      NaN         \n",
      "59   0.797872         201939     2009       Stephen Curry      NaN         \n",
      "60   0.741667         201939     2009       Stephen Curry      NaN         \n",
      "61   0.626667         201939     2009       Stephen Curry      NaN         \n",
      "62   0.555556         201939     2009       Stephen Curry      NaN         \n",
      "63   0.632509         201939     2009       Stephen Curry      NaN         \n",
      "64   0.556000         201939     2009       Stephen Curry      NaN         \n",
      "65   0.670213         201939     2009       Stephen Curry      NaN         \n",
      "66   0.790698         201941     2009       Jordan Hill        NaN         \n",
      "67   0.632184         201941     2009       Jordan Hill        NaN         \n",
      "68   0.840000         201941     2009       Jordan Hill        NaN         \n",
      "69   0.700000         201941     2009       Jordan Hill        NaN         \n",
      "70   0.733333         201941     2009       Jordan Hill        NaN         \n",
      "71   0.715385         201941     2009       Jordan Hill        NaN         \n",
      "72   0.723577         201941     2009       Jordan Hill        NaN         \n",
      "73   0.500000         201941     2009       Jordan Hill        NaN         \n",
      "74   0.657718         201942     2009       DeMar DeRozan      NaN         \n",
      "75   0.657258         201942     2009       DeMar DeRozan      NaN         \n",
      "76   0.677019         201942     2009       DeMar DeRozan      NaN         \n",
      "77   0.681373         201942     2009       DeMar DeRozan      NaN         \n",
      "78   0.809249         201942     2009       DeMar DeRozan      NaN         \n",
      "79   0.645390         201942     2009       DeMar DeRozan      NaN         \n",
      "80   0.670732         201942     2009       DeMar DeRozan      NaN         \n",
      "81   0.709677         201942     2009       DeMar DeRozan      NaN         \n",
      "82   0.675497         201942     2009       DeMar DeRozan      NaN         \n",
      "83   0.684028         201942     2009       DeMar DeRozan      NaN         \n",
      "84   0.634518         201942     2009       DeMar DeRozan      NaN         \n",
      "85   0.624031         201942     2009       DeMar DeRozan      NaN         \n",
      "86   0.671498         201942     2009       DeMar DeRozan      NaN         \n",
      "87   0.652174         201943     2009       Brandon Jennings   Brandon     \n",
      "88   0.754902         201943     2009       Brandon Jennings   Brandon     \n",
      "89   0.635514         201943     2009       Brandon Jennings   Brandon     \n",
      "90   0.666667         201943     2009       Brandon Jennings   Brandon     \n",
      "91   0.692308         201943     2009       Brandon Jennings   Brandon     \n",
      "92   0.716418         201943     2009       Brandon Jennings   Brandon     \n",
      "93   0.724138         201943     2009       Brandon Jennings   Brandon     \n",
      "94   0.613333         201943     2009       Brandon Jennings   Brandon     \n",
      "95   0.635220         201944     2009       Terrence Williams  Terrence    \n",
      "96   0.578947         201944     2009       Terrence Williams  Terrence    \n",
      "97   0.666667         201944     2009       Terrence Williams  Terrence    \n",
      "98   0.760000         201944     2009       Terrence Williams  Terrence    \n",
      "99   0.714286         201945     2009       Gerald Henderson   Gerald      \n",
      "100  0.714286         201945     2009       Gerald Henderson   Gerald      \n",
      "101  0.801887         201945     2009       Gerald Henderson   Gerald      \n",
      "102  0.719008         201945     2009       Gerald Henderson   Gerald      \n",
      "103  0.831579         201945     2009       Gerald Henderson   Gerald      \n",
      "104  0.807692         201945     2009       Gerald Henderson   Gerald      \n",
      "105  0.781250         201945     2009       Gerald Henderson   Gerald      \n",
      "106  0.710843         201945     2009       Gerald Henderson   Gerald      \n",
      "107  0.548387         201946     2009       Tyler Hansbrough   NaN         \n",
      "108  0.693333         201946     2009       Tyler Hansbrough   NaN         \n",
      "109  0.809524         201946     2009       Tyler Hansbrough   NaN         \n",
      "110  0.633803         201946     2009       Tyler Hansbrough   NaN         \n",
      "111  0.606557         201946     2009       Tyler Hansbrough   NaN         \n",
      "112  0.640625         201946     2009       Tyler Hansbrough   NaN         \n",
      "113  0.636364         201946     2009       Tyler Hansbrough   NaN         \n",
      "114  0.625000         201947     2009       Earl Clark         NaN         \n",
      "115  0.704545         201947     2009       Earl Clark         NaN         \n",
      "116  0.666667         201947     2009       Earl Clark         NaN         \n",
      "117  0.820896         201947     2009       Earl Clark         NaN         \n",
      "118  0.607143         201947     2009       Earl Clark         NaN         \n",
      "119  0.500000         201947     2009       Earl Clark         NaN         \n",
      "120  0.766667         201948     2009       Austin Daye        NaN         \n",
      "121  0.463415         201948     2009       Austin Daye        NaN         \n",
      "122  0.750000         201948     2009       Austin Daye        NaN         \n",
      "123  0.666667         201948     2009       Austin Daye        NaN         \n",
      "124  0.750000         201948     2009       Austin Daye        NaN         \n",
      "125  0.500000         201948     2009       Austin Daye        NaN         \n",
      "126  0.796610         201949     2009       James Johnson      James       \n",
      "127  0.724638         201949     2009       James Johnson      James       \n",
      "128  0.652482         201949     2009       James Johnson      James       \n",
      "129  0.737705         201949     2009       James Johnson      James       \n",
      "130  0.712766         201949     2009       James Johnson      James       \n",
      "131  0.729885         201949     2009       James Johnson      James       \n",
      "132  0.697917         201949     2009       James Johnson      James       \n",
      "133  0.701031         201949     2009       James Johnson      James       \n",
      "134  0.618644         201949     2009       James Johnson      James       \n",
      "135  0.628205         201949     2009       James Johnson      James       \n",
      "136  0.615385         201949     2009       James Johnson      James       \n",
      "137  0.605442         201949     2009       James Johnson      James       \n",
      "138  0.500000         201949     2009       James Johnson      James       \n",
      "139  0.756410         201950     2009       Jrue Holiday       NaN         \n",
      "140  0.746377         201950     2009       Jrue Holiday       NaN         \n",
      "141  0.800000         201950     2009       Jrue Holiday       NaN         \n",
      "142  0.835294         201950     2009       Jrue Holiday       NaN         \n",
      "143  0.754717         201950     2009       Jrue Holiday       NaN         \n",
      "144  0.796875         201950     2009       Jrue Holiday       NaN         \n",
      "145  0.747423         201950     2009       Jrue Holiday       NaN         \n",
      "146  0.763514         201950     2009       Jrue Holiday       NaN         \n",
      "147  0.679758         201950     2009       Jrue Holiday       NaN         \n",
      "148  0.601770         201950     2009       Jrue Holiday       NaN         \n",
      "149  0.643443         201950     2009       Jrue Holiday       NaN         \n",
      "150  0.575972         201950     2009       Jrue Holiday       NaN         \n",
      "151  0.564220         201950     2009       Jrue Holiday       NaN         \n",
      "152  0.709677         201951     2009       Ty Lawson          Ty          \n",
      "153  0.723757         201951     2009       Ty Lawson          Ty          \n",
      "154  0.758865         201951     2009       Ty Lawson          Ty          \n",
      "155  0.702703         201951     2009       Ty Lawson          Ty          \n",
      "156  0.742857         201951     2009       Ty Lawson          Ty          \n",
      "157  0.725191         201951     2009       Ty Lawson          Ty          \n",
      "158  0.710145         201951     2009       Ty Lawson          Ty          \n",
      "159  0.769231         201951     2009       Ty Lawson          Ty          \n",
      "160  0.676923         201952     2009       Jeff Teague        Jeff        \n",
      "161  0.616438         201952     2009       Jeff Teague        Jeff        \n",
      "162  0.697674         201952     2009       Jeff Teague        Jeff        \n",
      "163  0.656652         201952     2009       Jeff Teague        Jeff        \n",
      "164  0.661355         201952     2009       Jeff Teague        Jeff        \n",
      "165  0.685345         201952     2009       Jeff Teague        Jeff        \n",
      "166  0.595890         201952     2009       Jeff Teague        Jeff        \n",
      "167  0.585799         201952     2009       Jeff Teague        Jeff        \n",
      "168  0.542056         201952     2009       Jeff Teague        Jeff        \n",
      "169  0.551948         201952     2009       Jeff Teague        Jeff        \n",
      "170  0.475000         201952     2009       Jeff Teague        Jeff        \n",
      "171  0.571429         201953     2009       Eric Maynor        Eric        \n",
      "172  0.631579         201953     2009       Eric Maynor        Eric        \n",
      "173  0.565217         201953     2009       Eric Maynor        Eric        \n",
      "174  0.800000         201953     2009       Eric Maynor        Eric        \n",
      "175  0.845361         201954     2009       Darren Collison    NaN         \n",
      "176  0.796117         201954     2009       Darren Collison    NaN         \n",
      "177  0.757576         201954     2009       Darren Collison    NaN         \n",
      "178  0.721212         201954     2009       Darren Collison    NaN         \n",
      "179  0.840708         201954     2009       Darren Collison    NaN         \n",
      "180  0.800000         201954     2009       Darren Collison    NaN         \n",
      "181  0.751678         201954     2009       Darren Collison    NaN         \n",
      "182  0.630872         201954     2009       Darren Collison    NaN         \n",
      "183  0.578947         201954     2009       Darren Collison    NaN         \n",
      "184  1.000000         201954     2009       Darren Collison    NaN         \n",
      "185  0.728261         201956     2009       Omri Casspi        NaN         \n",
      "186  0.773585         201956     2009       Omri Casspi        NaN         \n",
      "187  0.686275         201956     2009       Omri Casspi        NaN         \n",
      "188  0.666667         201956     2009       Omri Casspi        NaN         \n",
      "189  0.607843         201956     2009       Omri Casspi        NaN         \n",
      "190  0.851064         201956     2009       Omri Casspi        NaN         \n",
      "191  0.746377         201956     2009       Omri Casspi        NaN         \n",
      "192  0.740000         201956     2009       Omri Casspi        NaN         \n",
      "193  0.689189         201956     2009       Omri Casspi        NaN         \n",
      "194  1.000000         201957     2009       Byron Mullens      NaN         \n",
      "195  0.500000         201957     2009       Byron Mullens      NaN         \n",
      "196  0.731183         201957     2009       Byron Mullens      NaN         \n",
      "197  0.718750         201957     2009       Byron Mullens      NaN         \n",
      "198  0.700000         201957     2009       Byron Mullens      NaN         \n",
      "199  0.776316         201958     2009       Rodrigue Beaubois  NaN         \n",
      "200  0.727273         201958     2009       Rodrigue Beaubois  NaN         \n",
      "201  0.619048         201958     2009       Rodrigue Beaubois  NaN         \n",
      "202  0.629630         201958     2009       Rodrigue Beaubois  NaN         \n",
      "203  0.657895         201959     2009       Taj Gibson         NaN         \n",
      "204  0.786408         201959     2009       Taj Gibson         NaN         \n",
      "205  0.809524         201959     2009       Taj Gibson         NaN         \n",
      "206  0.721154         201959     2009       Taj Gibson         NaN         \n",
      "207  0.795918         201959     2009       Taj Gibson         NaN         \n",
      "208  0.709924         201959     2009       Taj Gibson         NaN         \n",
      "209  0.720497         201959     2009       Taj Gibson         NaN         \n",
      "210  0.689840         201959     2009       Taj Gibson         NaN         \n",
      "211  0.706897         201959     2009       Taj Gibson         NaN         \n",
      "212  0.654545         201959     2009       Taj Gibson         NaN         \n",
      "213  0.774194         201959     2009       Taj Gibson         NaN         \n",
      "214  0.695652         201959     2009       Taj Gibson         NaN         \n",
      "215  0.750000         201959     2009       Taj Gibson         NaN         \n",
      "216  0.562500         201960     2009       DeMarre Carroll    NaN         \n",
      "217 NaN               201960     2009       DeMarre Carroll    NaN         \n",
      "218  0.625000         201960     2009       DeMarre Carroll    NaN         \n",
      "219  0.866667         201960     2009       DeMarre Carroll    NaN         \n",
      "220  0.677419         201960     2009       DeMarre Carroll    NaN         \n",
      "221  0.750000         201960     2009       DeMarre Carroll    NaN         \n",
      "222  0.609756         201960     2009       DeMarre Carroll    NaN         \n",
      "223  0.626866         201960     2009       DeMarre Carroll    NaN         \n",
      "224  0.509091         201960     2009       DeMarre Carroll    NaN         \n",
      "225  0.466667         201960     2009       DeMarre Carroll    NaN         \n",
      "226  0.853659         201961     2009       Wayne Ellington    Wayne       \n",
      "227  0.750000         201961     2009       Wayne Ellington    Wayne       \n",
      "228  0.909091         201961     2009       Wayne Ellington    Wayne       \n",
      "229  0.794118         201961     2009       Wayne Ellington    Wayne       \n",
      "230  1.000000         201961     2009       Wayne Ellington    Wayne       \n",
      "231  0.727273         201961     2009       Wayne Ellington    Wayne       \n",
      "232  0.711538         201961     2009       Wayne Ellington    Wayne       \n",
      "233  0.952381         201961     2009       Wayne Ellington    Wayne       \n",
      "234  0.571429         201961     2009       Wayne Ellington    Wayne       \n",
      "235  0.428571         201961     2009       Wayne Ellington    Wayne       \n",
      "236  0.750000         201961     2009       Wayne Ellington    Wayne       \n",
      "237  0.857143         201961     2009       Wayne Ellington    Wayne       \n",
      "238  0.863636         201962     2009       Toney Douglas      NaN         \n",
      "239  0.747126         201962     2009       Toney Douglas      NaN         \n",
      "240  0.730769         201962     2009       Toney Douglas      NaN         \n",
      "241  0.577778         201962     2009       Toney Douglas      NaN         \n",
      "242  0.714286         201962     2009       Toney Douglas      NaN         \n",
      "243  1.000000         201962     2009       Toney Douglas      NaN         \n",
      "244  0.745455         201962     2009       Toney Douglas      NaN         \n",
      "245  0.555556         201962     2009       Toney Douglas      NaN         \n",
      "246  0.722222         201963     2009       Christian Eyenga   NaN         \n",
      "247  0.600000         201963     2009       Christian Eyenga   NaN         \n",
      "248  0.606061         201964     2009       Victor Claver      NaN         \n",
      "249  0.750000         201964     2009       Victor Claver      NaN         \n",
      "250  0.333333         201964     2009       Victor Claver      NaN         \n",
      "251  0.913043         201965     2009       Jeff Ayres         NaN         \n",
      "252  0.800000         201965     2009       Jeff Ayres         NaN         \n",
      "253  0.666667         201965     2009       Jeff Ayres         NaN         \n",
      "254  0.807692         201965     2009       Jeff Ayres         NaN         \n",
      "255  0.718750         201965     2009       Jeff Ayres         NaN         \n",
      "256  0.666667         201965     2009       Jeff Ayres         NaN         \n",
      "257  0.695652         201966     2009       Jermaine Taylor    Jermaine    \n",
      "258  0.745098         201966     2009       Jermaine Taylor    Jermaine    \n",
      "259  0.761905         201967     2009       Dante Cunningham   NaN         \n",
      "260  0.700000         201967     2009       Dante Cunningham   NaN         \n",
      "261  0.788462         201967     2009       Dante Cunningham   NaN         \n",
      "262  0.816092         201967     2009       Dante Cunningham   NaN         \n",
      "263  0.875000         201967     2009       Dante Cunningham   NaN         \n",
      "264  0.703704         201967     2009       Dante Cunningham   NaN         \n",
      "265  0.807229         201967     2009       Dante Cunningham   NaN         \n",
      "266  0.927273         201967     2009       Dante Cunningham   NaN         \n",
      "267  0.621622         201967     2009       Dante Cunningham   NaN         \n",
      "268  0.785714         201969     2009       DaJuan Summers     DaJuan      \n",
      "269  0.333333         201969     2009       DaJuan Summers     DaJuan      \n",
      "270  0.285714         201969     2009       DaJuan Summers     DaJuan      \n",
      "271  0.684211         201970     2009       Sam Young          Sam         \n",
      "272  0.880597         201970     2009       Sam Young          Sam         \n",
      "273  0.785714         201970     2009       Sam Young          Sam         \n",
      "274  0.666667         201970     2009       Sam Young          Sam         \n",
      "275  0.710526         201971     2009       DeJuan Blair       NaN         \n",
      "276  0.602041         201971     2009       DeJuan Blair       NaN         \n",
      "277  0.655172         201971     2009       DeJuan Blair       NaN         \n",
      "278  0.758621         201971     2009       DeJuan Blair       NaN         \n",
      "279  0.597403         201971     2009       DeJuan Blair       NaN         \n",
      "280  0.538462         201971     2009       DeJuan Blair       NaN         \n",
      "281  0.857143         201971     2009       DeJuan Blair       NaN         \n",
      "282  0.541667         201972     2009       Jon Brockman       NaN         \n",
      "283  0.909091         201972     2009       Jon Brockman       NaN         \n",
      "284  0.666667         201972     2009       Jon Brockman       NaN         \n",
      "285  0.644068         201973     2009       Jonas Jerebko      Jonas       \n",
      "286  0.743590         201973     2009       Jonas Jerebko      Jonas       \n",
      "287  0.647887         201973     2009       Jonas Jerebko      Jonas       \n",
      "288  0.846154         201973     2009       Jonas Jerebko      Jonas       \n",
      "289  0.552239         201973     2009       Jonas Jerebko      Jonas       \n",
      "290  0.639344         201973     2009       Jonas Jerebko      Jonas       \n",
      "291  0.679245         201973     2009       Jonas Jerebko      Jonas       \n",
      "292  0.635135         201973     2009       Jonas Jerebko      Jonas       \n",
      "293  0.791667         201974     2009       Derrick Brown      NaN         \n",
      "294  0.890909         201974     2009       Derrick Brown      NaN         \n",
      "295  0.840909         201974     2009       Derrick Brown      NaN         \n",
      "296  0.875000         201975     2009       Jodie Meeks        Jodie       \n",
      "297  0.833333         201975     2009       Jodie Meeks        Jodie       \n",
      "298  0.806452         201975     2009       Jodie Meeks        Jodie       \n",
      "299  0.631579         201975     2009       Jodie Meeks        Jodie       \n",
      "300  0.817460         201975     2009       Jodie Meeks        Jodie       \n",
      "301  0.648649         201975     2009       Jodie Meeks        Jodie       \n",
      "302  1.000000         201975     2009       Jodie Meeks        Jodie       \n",
      "303  0.592593         201975     2009       Jodie Meeks        Jodie       \n",
      "304  0.625000         201975     2009       Jodie Meeks        Jodie       \n",
      "305  0.629630         201976     2009       Patrick Beverley   NaN         \n",
      "306  0.603448         201976     2009       Patrick Beverley   NaN         \n",
      "307  0.600000         201976     2009       Patrick Beverley   NaN         \n",
      "308  0.620690         201976     2009       Patrick Beverley   NaN         \n",
      "309  0.598214         201976     2009       Patrick Beverley   NaN         \n",
      "310  0.483146         201976     2009       Patrick Beverley   NaN         \n",
      "311  0.552239         201976     2009       Patrick Beverley   NaN         \n",
      "312  0.512195         201976     2009       Patrick Beverley   NaN         \n",
      "313  0.488372         201976     2009       Patrick Beverley   NaN         \n",
      "314  0.630435         201976     2009       Patrick Beverley   NaN         \n",
      "315  0.720000         201977     2009       Marcus Thornton    Marcus      \n",
      "316  0.712644         201977     2009       Marcus Thornton    Marcus      \n",
      "317  0.739130         201977     2009       Marcus Thornton    Marcus      \n",
      "318  0.807692         201977     2009       Marcus Thornton    Marcus      \n",
      "319  0.603175         201977     2009       Marcus Thornton    Marcus      \n",
      "320  0.625000         201977     2009       Marcus Thornton    Marcus      \n",
      "321  0.671233         201977     2009       Marcus Thornton    Marcus      \n",
      "322  0.857143         201977     2009       Marcus Thornton    Marcus      \n",
      "323  0.757143         201978     2009       Chase Budinger     NaN         \n",
      "324  0.794872         201978     2009       Chase Budinger     NaN         \n",
      "325  0.716981         201978     2009       Chase Budinger     NaN         \n",
      "326  0.920000         201978     2009       Chase Budinger     NaN         \n",
      "327  0.880000         201978     2009       Chase Budinger     NaN         \n",
      "328  0.642857         201978     2009       Chase Budinger     NaN         \n",
      "329  0.696429         201978     2009       Chase Budinger     NaN         \n",
      "330  0.714286         201979     2009       Nick Calathes      NaN         \n",
      "331  0.588235         201979     2009       Nick Calathes      NaN         \n",
      "332  1.000000         201980     2009       Danny Green        Danny       \n",
      "333  1.000000         201980     2009       Danny Green        Danny       \n",
      "334  0.562500         201980     2009       Danny Green        Danny       \n",
      "335  0.550000         201980     2009       Danny Green        Danny       \n",
      "336  0.692308         201980     2009       Danny Green        Danny       \n",
      "337  0.704545         201980     2009       Danny Green        Danny       \n",
      "338  0.646154         201980     2009       Danny Green        Danny       \n",
      "339  0.600000         201980     2009       Danny Green        Danny       \n",
      "340  0.575758         201980     2009       Danny Green        Danny       \n",
      "341  0.571429         201980     2009       Danny Green        Danny       \n",
      "342  0.424242         201980     2009       Danny Green        Danny       \n",
      "343  0.473684         201980     2009       Danny Green        Danny       \n",
      "344  1.000000         201981     2009       Taylor Griffin     NaN         \n",
      "345  0.806452         201985     2009       AJ Price           AJ          \n",
      "346  0.777778         201985     2009       AJ Price           AJ          \n",
      "347  0.600000         201985     2009       AJ Price           AJ          \n",
      "348  0.733333         201985     2009       AJ Price           AJ          \n",
      "349  1.000000         201985     2009       AJ Price           AJ          \n",
      "350  0.500000         201985     2009       AJ Price           AJ          \n",
      "351  0.684211         201986     2009       Nando De Colo      NaN         \n",
      "352  0.565217         201986     2009       Nando De Colo      NaN         \n",
      "353  0.333333         201988     2009       Patty Mills        Patty       \n",
      "354  0.657895         201988     2009       Patty Mills        Patty       \n",
      "355  1.000000         201988     2009       Patty Mills        Patty       \n",
      "356  0.714286         201988     2009       Patty Mills        Patty       \n",
      "357  0.647059         201988     2009       Patty Mills        Patty       \n",
      "358  0.526316         201988     2009       Patty Mills        Patty       \n",
      "359  0.671875         201988     2009       Patty Mills        Patty       \n",
      "360  0.739726         201988     2009       Patty Mills        Patty       \n",
      "361  0.670103         201988     2009       Patty Mills        Patty       \n",
      "362  0.621622         201988     2009       Patty Mills        Patty       \n",
      "363  0.602941         201988     2009       Patty Mills        Patty       \n",
      "364  0.571429         201988     2009       Patty Mills        Patty       \n",
      "365  0.666667         201988     2009       Patty Mills        Patty       \n",
      "366  1.000000         201991     2009       Lester Hudson      Lester      \n",
      "367  1.000000         201991     2009       Lester Hudson      Lester      \n",
      "368  0.708333         201991     2009       Lester Hudson      Lester      \n",
      "369  1.000000         201991     2009       Lester Hudson      Lester      \n",
      "\n",
      "     last_name draft_round draft_number draft_year  \n",
      "0    Griffin    1           1            2009       \n",
      "1    Griffin    1           1            2009       \n",
      "2    Griffin    1           1            2009       \n",
      "3    Griffin    1           1            2009       \n",
      "4    Griffin    1           1            2009       \n",
      "5    Griffin    1           1            2009       \n",
      "6    Griffin    1           1            2009       \n",
      "7    Griffin    1           1            2009       \n",
      "8    Griffin    1           1            2009       \n",
      "9    Griffin    1           1            2009       \n",
      "10   Griffin    1           1            2009       \n",
      "11   Griffin    1           1            2009       \n",
      "12   Thabeet    1           2            2009       \n",
      "13   Thabeet    1           2            2009       \n",
      "14   Thabeet    1           2            2009       \n",
      "15   Thabeet    1           2            2009       \n",
      "16   Thabeet    1           2            2009       \n",
      "17   Harden     1           3            2009       \n",
      "18   Harden     1           3            2009       \n",
      "19   Harden     1           3            2009       \n",
      "20   Harden     1           3            2009       \n",
      "21   Harden     1           3            2009       \n",
      "22   Harden     1           3            2009       \n",
      "23   Harden     1           3            2009       \n",
      "24   Harden     1           3            2009       \n",
      "25   Harden     1           3            2009       \n",
      "26   Harden     1           3            2009       \n",
      "27   Harden     1           3            2009       \n",
      "28   Harden     1           3            2009       \n",
      "29   Harden     1           3            2009       \n",
      "30   NaN        NaN         NaN          NaN        \n",
      "31   NaN        NaN         NaN          NaN        \n",
      "32   NaN        NaN         NaN          NaN        \n",
      "33   NaN        NaN         NaN          NaN        \n",
      "34   NaN        NaN         NaN          NaN        \n",
      "35   NaN        NaN         NaN          NaN        \n",
      "36   NaN        NaN         NaN          NaN        \n",
      "37   NaN        NaN         NaN          NaN        \n",
      "38   NaN        NaN         NaN          NaN        \n",
      "39   NaN        NaN         NaN          NaN        \n",
      "40   NaN        NaN         NaN          NaN        \n",
      "41   NaN        NaN         NaN          NaN        \n",
      "42   NaN        NaN         NaN          NaN        \n",
      "43   NaN        NaN         NaN          NaN        \n",
      "44   NaN        NaN         NaN          NaN        \n",
      "45   NaN        NaN         NaN          NaN        \n",
      "46   NaN        NaN         NaN          NaN        \n",
      "47   NaN        NaN         NaN          NaN        \n",
      "48   NaN        NaN         NaN          NaN        \n",
      "49   NaN        NaN         NaN          NaN        \n",
      "50   Flynn      1           6            2009       \n",
      "51   Flynn      1           6            2009       \n",
      "52   Flynn      1           6            2009       \n",
      "53   NaN        NaN         NaN          NaN        \n",
      "54   NaN        NaN         NaN          NaN        \n",
      "55   NaN        NaN         NaN          NaN        \n",
      "56   NaN        NaN         NaN          NaN        \n",
      "57   NaN        NaN         NaN          NaN        \n",
      "58   NaN        NaN         NaN          NaN        \n",
      "59   NaN        NaN         NaN          NaN        \n",
      "60   NaN        NaN         NaN          NaN        \n",
      "61   NaN        NaN         NaN          NaN        \n",
      "62   NaN        NaN         NaN          NaN        \n",
      "63   NaN        NaN         NaN          NaN        \n",
      "64   NaN        NaN         NaN          NaN        \n",
      "65   NaN        NaN         NaN          NaN        \n",
      "66   NaN        NaN         NaN          NaN        \n",
      "67   NaN        NaN         NaN          NaN        \n",
      "68   NaN        NaN         NaN          NaN        \n",
      "69   NaN        NaN         NaN          NaN        \n",
      "70   NaN        NaN         NaN          NaN        \n",
      "71   NaN        NaN         NaN          NaN        \n",
      "72   NaN        NaN         NaN          NaN        \n",
      "73   NaN        NaN         NaN          NaN        \n",
      "74   NaN        NaN         NaN          NaN        \n",
      "75   NaN        NaN         NaN          NaN        \n",
      "76   NaN        NaN         NaN          NaN        \n",
      "77   NaN        NaN         NaN          NaN        \n",
      "78   NaN        NaN         NaN          NaN        \n",
      "79   NaN        NaN         NaN          NaN        \n",
      "80   NaN        NaN         NaN          NaN        \n",
      "81   NaN        NaN         NaN          NaN        \n",
      "82   NaN        NaN         NaN          NaN        \n",
      "83   NaN        NaN         NaN          NaN        \n",
      "84   NaN        NaN         NaN          NaN        \n",
      "85   NaN        NaN         NaN          NaN        \n",
      "86   NaN        NaN         NaN          NaN        \n",
      "87   Jennings   1           10           2009       \n",
      "88   Jennings   1           10           2009       \n",
      "89   Jennings   1           10           2009       \n",
      "90   Jennings   1           10           2009       \n",
      "91   Jennings   1           10           2009       \n",
      "92   Jennings   1           10           2009       \n",
      "93   Jennings   1           10           2009       \n",
      "94   Jennings   1           10           2009       \n",
      "95   Williams   1           11           2009       \n",
      "96   Williams   1           11           2009       \n",
      "97   Williams   1           11           2009       \n",
      "98   Williams   1           11           2009       \n",
      "99   Henderson  1           12           2009       \n",
      "100  Henderson  1           12           2009       \n",
      "101  Henderson  1           12           2009       \n",
      "102  Henderson  1           12           2009       \n",
      "103  Henderson  1           12           2009       \n",
      "104  Henderson  1           12           2009       \n",
      "105  Henderson  1           12           2009       \n",
      "106  Henderson  1           12           2009       \n",
      "107  NaN        NaN         NaN          NaN        \n",
      "108  NaN        NaN         NaN          NaN        \n",
      "109  NaN        NaN         NaN          NaN        \n",
      "110  NaN        NaN         NaN          NaN        \n",
      "111  NaN        NaN         NaN          NaN        \n",
      "112  NaN        NaN         NaN          NaN        \n",
      "113  NaN        NaN         NaN          NaN        \n",
      "114  NaN        NaN         NaN          NaN        \n",
      "115  NaN        NaN         NaN          NaN        \n",
      "116  NaN        NaN         NaN          NaN        \n",
      "117  NaN        NaN         NaN          NaN        \n",
      "118  NaN        NaN         NaN          NaN        \n",
      "119  NaN        NaN         NaN          NaN        \n",
      "120  NaN        NaN         NaN          NaN        \n",
      "121  NaN        NaN         NaN          NaN        \n",
      "122  NaN        NaN         NaN          NaN        \n",
      "123  NaN        NaN         NaN          NaN        \n",
      "124  NaN        NaN         NaN          NaN        \n",
      "125  NaN        NaN         NaN          NaN        \n",
      "126  Johnson    1           16           2009       \n",
      "127  Johnson    1           16           2009       \n",
      "128  Johnson    1           16           2009       \n",
      "129  Johnson    1           16           2009       \n",
      "130  Johnson    1           16           2009       \n",
      "131  Johnson    1           16           2009       \n",
      "132  Johnson    1           16           2009       \n",
      "133  Johnson    1           16           2009       \n",
      "134  Johnson    1           16           2009       \n",
      "135  Johnson    1           16           2009       \n",
      "136  Johnson    1           16           2009       \n",
      "137  Johnson    1           16           2009       \n",
      "138  Johnson    1           16           2009       \n",
      "139  NaN        NaN         NaN          NaN        \n",
      "140  NaN        NaN         NaN          NaN        \n",
      "141  NaN        NaN         NaN          NaN        \n",
      "142  NaN        NaN         NaN          NaN        \n",
      "143  NaN        NaN         NaN          NaN        \n",
      "144  NaN        NaN         NaN          NaN        \n",
      "145  NaN        NaN         NaN          NaN        \n",
      "146  NaN        NaN         NaN          NaN        \n",
      "147  NaN        NaN         NaN          NaN        \n",
      "148  NaN        NaN         NaN          NaN        \n",
      "149  NaN        NaN         NaN          NaN        \n",
      "150  NaN        NaN         NaN          NaN        \n",
      "151  NaN        NaN         NaN          NaN        \n",
      "152  Lawson     1           18           2009       \n",
      "153  Lawson     1           18           2009       \n",
      "154  Lawson     1           18           2009       \n",
      "155  Lawson     1           18           2009       \n",
      "156  Lawson     1           18           2009       \n",
      "157  Lawson     1           18           2009       \n",
      "158  Lawson     1           18           2009       \n",
      "159  Lawson     1           18           2009       \n",
      "160  Teague     1           19           2009       \n",
      "161  Teague     1           19           2009       \n",
      "162  Teague     1           19           2009       \n",
      "163  Teague     1           19           2009       \n",
      "164  Teague     1           19           2009       \n",
      "165  Teague     1           19           2009       \n",
      "166  Teague     1           19           2009       \n",
      "167  Teague     1           19           2009       \n",
      "168  Teague     1           19           2009       \n",
      "169  Teague     1           19           2009       \n",
      "170  Teague     1           19           2009       \n",
      "171  Maynor     1           20           2009       \n",
      "172  Maynor     1           20           2009       \n",
      "173  Maynor     1           20           2009       \n",
      "174  Maynor     1           20           2009       \n",
      "175  NaN        NaN         NaN          NaN        \n",
      "176  NaN        NaN         NaN          NaN        \n",
      "177  NaN        NaN         NaN          NaN        \n",
      "178  NaN        NaN         NaN          NaN        \n",
      "179  NaN        NaN         NaN          NaN        \n",
      "180  NaN        NaN         NaN          NaN        \n",
      "181  NaN        NaN         NaN          NaN        \n",
      "182  NaN        NaN         NaN          NaN        \n",
      "183  NaN        NaN         NaN          NaN        \n",
      "184  NaN        NaN         NaN          NaN        \n",
      "185  NaN        NaN         NaN          NaN        \n",
      "186  NaN        NaN         NaN          NaN        \n",
      "187  NaN        NaN         NaN          NaN        \n",
      "188  NaN        NaN         NaN          NaN        \n",
      "189  NaN        NaN         NaN          NaN        \n",
      "190  NaN        NaN         NaN          NaN        \n",
      "191  NaN        NaN         NaN          NaN        \n",
      "192  NaN        NaN         NaN          NaN        \n",
      "193  NaN        NaN         NaN          NaN        \n",
      "194  NaN        NaN         NaN          NaN        \n",
      "195  NaN        NaN         NaN          NaN        \n",
      "196  NaN        NaN         NaN          NaN        \n",
      "197  NaN        NaN         NaN          NaN        \n",
      "198  NaN        NaN         NaN          NaN        \n",
      "199  NaN        NaN         NaN          NaN        \n",
      "200  NaN        NaN         NaN          NaN        \n",
      "201  NaN        NaN         NaN          NaN        \n",
      "202  NaN        NaN         NaN          NaN        \n",
      "203  NaN        NaN         NaN          NaN        \n",
      "204  NaN        NaN         NaN          NaN        \n",
      "205  NaN        NaN         NaN          NaN        \n",
      "206  NaN        NaN         NaN          NaN        \n",
      "207  NaN        NaN         NaN          NaN        \n",
      "208  NaN        NaN         NaN          NaN        \n",
      "209  NaN        NaN         NaN          NaN        \n",
      "210  NaN        NaN         NaN          NaN        \n",
      "211  NaN        NaN         NaN          NaN        \n",
      "212  NaN        NaN         NaN          NaN        \n",
      "213  NaN        NaN         NaN          NaN        \n",
      "214  NaN        NaN         NaN          NaN        \n",
      "215  NaN        NaN         NaN          NaN        \n",
      "216  NaN        NaN         NaN          NaN        \n",
      "217  NaN        NaN         NaN          NaN        \n",
      "218  NaN        NaN         NaN          NaN        \n",
      "219  NaN        NaN         NaN          NaN        \n",
      "220  NaN        NaN         NaN          NaN        \n",
      "221  NaN        NaN         NaN          NaN        \n",
      "222  NaN        NaN         NaN          NaN        \n",
      "223  NaN        NaN         NaN          NaN        \n",
      "224  NaN        NaN         NaN          NaN        \n",
      "225  NaN        NaN         NaN          NaN        \n",
      "226  Ellington  1           28           2009       \n",
      "227  Ellington  1           28           2009       \n",
      "228  Ellington  1           28           2009       \n",
      "229  Ellington  1           28           2009       \n",
      "230  Ellington  1           28           2009       \n",
      "231  Ellington  1           28           2009       \n",
      "232  Ellington  1           28           2009       \n",
      "233  Ellington  1           28           2009       \n",
      "234  Ellington  1           28           2009       \n",
      "235  Ellington  1           28           2009       \n",
      "236  Ellington  1           28           2009       \n",
      "237  Ellington  1           28           2009       \n",
      "238  NaN        NaN         NaN          NaN        \n",
      "239  NaN        NaN         NaN          NaN        \n",
      "240  NaN        NaN         NaN          NaN        \n",
      "241  NaN        NaN         NaN          NaN        \n",
      "242  NaN        NaN         NaN          NaN        \n",
      "243  NaN        NaN         NaN          NaN        \n",
      "244  NaN        NaN         NaN          NaN        \n",
      "245  NaN        NaN         NaN          NaN        \n",
      "246  NaN        NaN         NaN          NaN        \n",
      "247  NaN        NaN         NaN          NaN        \n",
      "248  NaN        NaN         NaN          NaN        \n",
      "249  NaN        NaN         NaN          NaN        \n",
      "250  NaN        NaN         NaN          NaN        \n",
      "251  NaN        NaN         NaN          NaN        \n",
      "252  NaN        NaN         NaN          NaN        \n",
      "253  NaN        NaN         NaN          NaN        \n",
      "254  NaN        NaN         NaN          NaN        \n",
      "255  NaN        NaN         NaN          NaN        \n",
      "256  NaN        NaN         NaN          NaN        \n",
      "257  Taylor     2           32           2009       \n",
      "258  Taylor     2           32           2009       \n",
      "259  NaN        NaN         NaN          NaN        \n",
      "260  NaN        NaN         NaN          NaN        \n",
      "261  NaN        NaN         NaN          NaN        \n",
      "262  NaN        NaN         NaN          NaN        \n",
      "263  NaN        NaN         NaN          NaN        \n",
      "264  NaN        NaN         NaN          NaN        \n",
      "265  NaN        NaN         NaN          NaN        \n",
      "266  NaN        NaN         NaN          NaN        \n",
      "267  NaN        NaN         NaN          NaN        \n",
      "268  Summers    2           35           2009       \n",
      "269  Summers    2           35           2009       \n",
      "270  Summers    2           35           2009       \n",
      "271  Young      2           36           2009       \n",
      "272  Young      2           36           2009       \n",
      "273  Young      2           36           2009       \n",
      "274  Young      2           36           2009       \n",
      "275  NaN        NaN         NaN          NaN        \n",
      "276  NaN        NaN         NaN          NaN        \n",
      "277  NaN        NaN         NaN          NaN        \n",
      "278  NaN        NaN         NaN          NaN        \n",
      "279  NaN        NaN         NaN          NaN        \n",
      "280  NaN        NaN         NaN          NaN        \n",
      "281  NaN        NaN         NaN          NaN        \n",
      "282  NaN        NaN         NaN          NaN        \n",
      "283  NaN        NaN         NaN          NaN        \n",
      "284  NaN        NaN         NaN          NaN        \n",
      "285  Jerebko    2           39           2009       \n",
      "286  Jerebko    2           39           2009       \n",
      "287  Jerebko    2           39           2009       \n",
      "288  Jerebko    2           39           2009       \n",
      "289  Jerebko    2           39           2009       \n",
      "290  Jerebko    2           39           2009       \n",
      "291  Jerebko    2           39           2009       \n",
      "292  Jerebko    2           39           2009       \n",
      "293  NaN        NaN         NaN          NaN        \n",
      "294  NaN        NaN         NaN          NaN        \n",
      "295  NaN        NaN         NaN          NaN        \n",
      "296  Meeks      2           41           2009       \n",
      "297  Meeks      2           41           2009       \n",
      "298  Meeks      2           41           2009       \n",
      "299  Meeks      2           41           2009       \n",
      "300  Meeks      2           41           2009       \n",
      "301  Meeks      2           41           2009       \n",
      "302  Meeks      2           41           2009       \n",
      "303  Meeks      2           41           2009       \n",
      "304  Meeks      2           41           2009       \n",
      "305  NaN        NaN         NaN          NaN        \n",
      "306  NaN        NaN         NaN          NaN        \n",
      "307  NaN        NaN         NaN          NaN        \n",
      "308  NaN        NaN         NaN          NaN        \n",
      "309  NaN        NaN         NaN          NaN        \n",
      "310  NaN        NaN         NaN          NaN        \n",
      "311  NaN        NaN         NaN          NaN        \n",
      "312  NaN        NaN         NaN          NaN        \n",
      "313  NaN        NaN         NaN          NaN        \n",
      "314  NaN        NaN         NaN          NaN        \n",
      "315  Thornton   2           43           2009       \n",
      "316  Thornton   2           43           2009       \n",
      "317  Thornton   2           43           2009       \n",
      "318  Thornton   2           43           2009       \n",
      "319  Thornton   2           43           2009       \n",
      "320  Thornton   2           43           2009       \n",
      "321  Thornton   2           43           2009       \n",
      "322  Thornton   2           43           2009       \n",
      "323  NaN        NaN         NaN          NaN        \n",
      "324  NaN        NaN         NaN          NaN        \n",
      "325  NaN        NaN         NaN          NaN        \n",
      "326  NaN        NaN         NaN          NaN        \n",
      "327  NaN        NaN         NaN          NaN        \n",
      "328  NaN        NaN         NaN          NaN        \n",
      "329  NaN        NaN         NaN          NaN        \n",
      "330  NaN        NaN         NaN          NaN        \n",
      "331  NaN        NaN         NaN          NaN        \n",
      "332  Green      2           46           2009       \n",
      "333  Green      2           46           2009       \n",
      "334  Green      2           46           2009       \n",
      "335  Green      2           46           2009       \n",
      "336  Green      2           46           2009       \n",
      "337  Green      2           46           2009       \n",
      "338  Green      2           46           2009       \n",
      "339  Green      2           46           2009       \n",
      "340  Green      2           46           2009       \n",
      "341  Green      2           46           2009       \n",
      "342  Green      2           46           2009       \n",
      "343  Green      2           46           2009       \n",
      "344  NaN        NaN         NaN          NaN        \n",
      "345  Price      2           52           2009       \n",
      "346  Price      2           52           2009       \n",
      "347  Price      2           52           2009       \n",
      "348  Price      2           52           2009       \n",
      "349  Price      2           52           2009       \n",
      "350  Price      2           52           2009       \n",
      "351  NaN        NaN         NaN          NaN        \n",
      "352  NaN        NaN         NaN          NaN        \n",
      "353  Mills      2           55           2009       \n",
      "354  Mills      2           55           2009       \n",
      "355  Mills      2           55           2009       \n",
      "356  Mills      2           55           2009       \n",
      "357  Mills      2           55           2009       \n",
      "358  Mills      2           55           2009       \n",
      "359  Mills      2           55           2009       \n",
      "360  Mills      2           55           2009       \n",
      "361  Mills      2           55           2009       \n",
      "362  Mills      2           55           2009       \n",
      "363  Mills      2           55           2009       \n",
      "364  Mills      2           55           2009       \n",
      "365  Mills      2           55           2009       \n",
      "366  Hudson     2           58           2009       \n",
      "367  Hudson     2           58           2009       \n",
      "368  Hudson     2           58           2009       \n",
      "369  Hudson     2           58           2009       \n"
     ]
    }
   ],
   "source": [
    "import duckdb\n",
    "import pandas as pd\n",
    "\n",
    "con = duckdb.connect(database=':memory:', read_only=False)\n",
    "\n",
    "query1 = '''\n",
    "    SELECT person_id, first_name, last_name, draft_round, draft_number, draft_year\n",
    "    FROM read_csv_auto('C:/Users/Yoric/Uni/dataviz-2023/dataset/csv/common_player_info.csv')\n",
    "    WHERE draft_year = '2009'\n",
    "    ORDER BY draft_round, draft_number\n",
    "'''\n",
    "\n",
    "query2 = '''\n",
    "    SELECT game_id, eventmsgtype, eventmsgactiontype, homedescription, visitordescription, player1_id\n",
    "    FROM read_csv_auto('C:/Users/Yoric/Uni/dataviz-2023/dataset/csv/play_by_play.csv')\n",
    "    WHERE eventmsgtype = 2\n",
    "'''\n",
    "\n",
    "query3 = '''\n",
    "    SELECT person_id, season as season_id, player_name\n",
    "    FROM read_csv_auto('C:/Users/Yoric/Uni/dataviz-2023/dataset/csv/draft_history.csv')\n",
    "    WHERE season = 2009\n",
    "'''\n",
    "\n",
    "query4 = '''\n",
    "    SELECT game_id, eventmsgtype, eventmsgactiontype, homedescription, visitordescription, player1_id\n",
    "    FROM read_csv_auto('C:/Users/Yoric/Uni/dataviz-2023/dataset/csv/play_by_play.csv')\n",
    "    WHERE eventmsgtype = 1\n",
    "'''\n",
    "    \n",
    "query5 = '''\n",
    "    SELECT game_id, season_id-20000 as season_id\n",
    "    FROM read_csv_auto('C:/Users/Yoric/Uni/dataviz-2023/dataset/csv/game.csv')\n",
    "    WHERE season_id > 22008\n",
    "'''\n",
    "\n",
    "result = con.execute(query2)\n",
    "data = result.fetchdf()\n",
    "action_types = [1, 2, 5, 3, 45, 46, 47, 40, 59, 63, 66, 44, 80, 79, 78, 84, 86, 81, 95, 83, 85, 77, 103, 104, 82, 101, 105, 96, 72, 102]\n",
    "filtered_data_miss = data[~data['eventmsgactiontype'].isin(action_types)]  # Exclude eventmsgactiontype values in action_types\n",
    "\n",
    "result2 = con.execute(query4)\n",
    "data2 = result2.fetchdf()\n",
    "filtered_data_made = data2[~data2['eventmsgactiontype'].isin(action_types)]  # Exclude eventmsgactiontype values in action_types\n",
    "\n",
    "players = con.execute(query1)\n",
    "players_data = pd.DataFrame(players.fetch_df())\n",
    "players_other = con.execute(query3)\n",
    "players_other_data = pd.DataFrame(players_other.fetch_df())\n",
    "\n",
    "# Perform the merge if the 'person_id' column is present in both DataFrames\n",
    "joined_df = players_other_data.merge(players_data, how='outer', on='person_id')\n",
    "\n",
    "filtered_data_made = filtered_data_made[filtered_data_made['player1_id'].isin(joined_df['person_id'])]\n",
    "filtered_data_miss = filtered_data_miss[filtered_data_miss['player1_id'].isin(joined_df['person_id'])]\n",
    "\n",
    "# Filter game IDs based on season\n",
    "season_data = con.execute(query5).fetch_df()\n",
    "filtered_game_ids = season_data['game_id']\n",
    "\n",
    "# Merge filtered_data_made with season_data\n",
    "filtered_data_made = filtered_data_made.merge(season_data, how='inner', on='game_id')\n",
    "\n",
    "# Merge filtered_data_miss with season_data\n",
    "filtered_data_miss = filtered_data_miss.merge(season_data, how='inner', on='game_id')\n",
    "\n",
    "# Merge filtered_data_made and filtered_data_miss to create a combined DataFrame\n",
    "combined_data = pd.concat([filtered_data_made, filtered_data_miss])\n",
    "\n",
    "# Perform the merge if the 'player1_id' and 'season_id' columns are present in both DataFrames\n",
    "merged_data = combined_data.merge(joined_df, how='left', left_on='player1_id', right_on='person_id')\n",
    "\n",
    "# Count unique game appearances for made and missed shots\n",
    "game_counts = merged_data.groupby(['player1_id', 'season_id_x'])['game_id'].nunique().reset_index()\n",
    "\n",
    "# Count total shot attempts per player and season\n",
    "attempt_counts = merged_data.groupby(['player1_id', 'season_id_x'])['player1_id'].size()\n",
    "attempt_counts.columns = ['player_id', 'season_id_x', 'attempted_shots']\n",
    "\n",
    "# Count made shots per player and season\n",
    "made_counts = filtered_data_made.groupby(['player1_id', 'season_id'])['player1_id'].size()\n",
    "made_counts.columns = ['player_id', 'season_id', 'made_shots']\n",
    "\n",
    "#made_counts['player1_id'] = made_counts.index\n",
    "shot_counts = pd.concat([attempt_counts, made_counts], axis=1, keys=['attempt', 'made'])\n",
    "\n",
    "# Calculate shot percentage as made shots divided by attempted shots\n",
    "shot_counts['shot_percentage'] = shot_counts['made'] / shot_counts['attempt']\n",
    "\n",
    "shot_counts.reset_index(inplace=True)\n",
    "#shot_counts = shot_counts.pivot(index='player1_id', columns='level_1')\n",
    "\n",
    "# Merge game counts, shot counts, and joined_df\n",
    "player_game_stats2PT = pd.merge(game_counts, shot_counts, right_on=['player1_id', 'level_1'], left_on=['player1_id', 'season_id_x'], how='outer')\n",
    "player_game_stats2PT = pd.merge(player_game_stats2PT, joined_df, how='left', left_on='player1_id', right_on='person_id')\n",
    "\n",
    "print(player_game_stats2PT)\n"
   ]
  },
  {
   "cell_type": "code",
   "execution_count": 60,
   "metadata": {},
   "outputs": [],
   "source": [
    "result = con.execute(query5)\n",
    "data = result.fetchdf()"
   ]
  },
  {
   "cell_type": "code",
   "execution_count": 13,
   "metadata": {},
   "outputs": [
    {
     "data": {
      "image/png": "[encoded data removed]",
      "text/plain": [
       "<Figure size 800x600 with 2 Axes>"
      ]
     },
     "metadata": {},
     "output_type": "display_data"
    }
   ],
   "source": [
    "import seaborn as sns\n",
    "import matplotlib.pyplot as plt\n",
    "\n",
    "# Select the numeric columns for correlation\n",
    "numeric_columns = ['game_id', 'shot_percentage', 'made', 'attempt']\n",
    "\n",
    "# Subset the DataFrame with the numeric columns\n",
    "numeric_data = player_game_stats2PT[numeric_columns]\n",
    "\n",
    "# Compute the correlation matrix\n",
    "correlation_matrix = numeric_data.corr()\n",
    "\n",
    "# Create a heatmap of the correlation matrix\n",
    "plt.figure(figsize=(8, 6))\n",
    "sns.heatmap(correlation_matrix, annot=True, cmap='coolwarm')\n",
    "plt.title('Correlation Heatmap')\n",
    "plt.show()"
   ]
  },
  {
   "cell_type": "code",
   "execution_count": 99,
   "metadata": {},
   "outputs": [],
   "source": [
    "import duckdb\n",
    "import pandas as pd\n",
    "\n",
    "con = duckdb.connect(database=':memory:', read_only=False)\n",
    "\n",
    "query1 = '''\n",
    "    SELECT person_id, first_name, last_name, draft_round, draft_number, draft_year\n",
    "    FROM read_csv_auto('C:/Users/Yoric/Uni/dataviz-2023/dataset/csv/common_player_info.csv')\n",
    "    WHERE draft_year = '2009'\n",
    "    ORDER BY draft_round, draft_number\n",
    "'''\n",
    "\n",
    "query2 = '''\n",
    "    SELECT game_id, eventmsgtype, eventmsgactiontype, homedescription, visitordescription, player1_id\n",
    "    FROM read_csv_auto('C:/Users/Yoric/Uni/dataviz-2023/dataset/csv/play_by_play.csv')\n",
    "    WHERE eventmsgtype = 2\n",
    "'''\n",
    "\n",
    "query3 = '''\n",
    "    SELECT person_id, season as season_id, player_name\n",
    "    FROM read_csv_auto('C:/Users/Yoric/Uni/dataviz-2023/dataset/csv/draft_history.csv')\n",
    "    WHERE season = 2009\n",
    "'''\n",
    "\n",
    "query4 = '''\n",
    "    SELECT game_id, eventmsgtype, eventmsgactiontype, homedescription, visitordescription, player1_id\n",
    "    FROM read_csv_auto('C:/Users/Yoric/Uni/dataviz-2023/dataset/csv/play_by_play.csv')\n",
    "    WHERE eventmsgtype = 1\n",
    "'''\n",
    "    \n",
    "query5 = '''\n",
    "    SELECT game_id, season_id-20000 as season_id\n",
    "    FROM read_csv_auto('C:/Users/Yoric/Uni/dataviz-2023/dataset/csv/game.csv')\n",
    "    WHERE season_id > 22008 AND season_id < 22015\n",
    "'''\n",
    "\n",
    "result = con.execute(query2)\n",
    "data = result.fetchdf()\n",
    "action_types = [1, 2, 5, 3, 45, 46, 47, 40, 59, 63, 66, 44, 80, 79, 78, 84, 86, 81, 95, 83, 85, 77, 103, 104, 82, 101, 105, 96, 72, 102]\n",
    "filtered_data_miss = data[data['eventmsgactiontype'].isin(action_types)]\n",
    "\n",
    "result2 = con.execute(query4)\n",
    "data2 = result2.fetchdf()\n",
    "filtered_data_made = data2[data2['eventmsgactiontype'].isin(action_types)]\n",
    "\n",
    "players = con.execute(query1)\n",
    "players_data = pd.DataFrame(players.fetch_df())\n",
    "players_other = con.execute(query3)\n",
    "players_other_data = pd.DataFrame(players_other.fetch_df())\n",
    "\n",
    "# Perform the merge if the 'person_id' column is present in both DataFrames\n",
    "joined_df = players_other_data.merge(players_data, how='outer', on='person_id')\n",
    "\n",
    "filtered_data_made = filtered_data_made[filtered_data_made['player1_id'].isin(joined_df['person_id'])]\n",
    "filtered_data_miss = filtered_data_miss[filtered_data_miss['player1_id'].isin(joined_df['person_id'])]\n",
    "\n",
    "# Filter game IDs based on season\n",
    "season_data = con.execute(query5).fetch_df()\n",
    "filtered_game_ids = season_data['game_id']\n",
    "\n",
    "# Merge filtered_data_made with season_data\n",
    "filtered_data_made = filtered_data_made.merge(season_data, how='inner', on='game_id')\n",
    "\n",
    "# Merge filtered_data_miss with season_data\n",
    "filtered_data_miss = filtered_data_miss.merge(season_data, how='inner', on='game_id')\n",
    "\n",
    "# Merge filtered_data_made and filtered_data_miss to create a combined DataFrame\n",
    "combined_data = pd.concat([filtered_data_made, filtered_data_miss])\n",
    "\n",
    "# Perform the merge if the 'player1_id' and 'season_id' columns are present in both DataFrames\n",
    "merged_data = combined_data.merge(joined_df, how='left', left_on='player1_id', right_on='person_id')\n",
    "\n",
    "# Count unique game appearances for made and missed shots\n",
    "game_counts = merged_data.groupby(['player1_id', 'season_id_x'])['game_id'].nunique().reset_index()\n",
    "\n",
    "# Count total shot attempts per player and season\n",
    "attempt_counts = merged_data.groupby(['player1_id', 'season_id_x'])['player1_id'].size()\n",
    "attempt_counts.columns = ['player_id', 'season_id_x', 'attempted_shots']\n",
    "\n",
    "# Count made shots per player and season\n",
    "made_counts = filtered_data_made.groupby(['player1_id', 'season_id'])['player1_id'].size()\n",
    "made_counts.columns = ['player_id', 'season_id', 'made_shots']\n",
    "\n",
    "#made_counts['player1_id'] = made_counts.index\n",
    "shot_counts = pd.concat([attempt_counts, made_counts], axis=1, keys=['attempt', 'made'])\n",
    "\n",
    "shot_counts.reset_index(inplace=True)\n",
    "\n",
    "# Assuming df is your DataFrame with columns 'season_id', 'attempt', and 'made'\n",
    "shot_counts['attempt_zscore'] = (shot_counts['attempt'] - shot_counts.groupby('level_1')['attempt'].transform('mean')) / \\\n",
    "                        shot_counts.groupby('level_1')['attempt'].transform('std')\n",
    "\n",
    "shot_counts['made_zscore'] = (shot_counts['made'] - shot_counts.groupby('level_1')['made'].transform('mean')) / \\\n",
    "                     shot_counts.groupby('level_1')['made'].transform('std')\n",
    "\n",
    "shot_counts['z_score_shot_percentage'] = shot_counts['made_zscore'] / shot_counts['attempt_zscore']\n",
    "\n",
    "# Calculate shot percentage as made shots divided by attempted shots\n",
    "shot_counts['shot_percentage'] = shot_counts['made'] / shot_counts['attempt']\n",
    "\n",
    "#shot_counts = shot_counts.pivot(index='player1_id', columns='level_1')\n",
    "\n",
    "# Merge game counts, shot counts, and joined_df\n",
    "player_game_stats3PT = pd.merge(game_counts, shot_counts, right_on=['player1_id', 'level_1'], left_on=['player1_id', 'season_id_x'], how='outer')\n",
    "player_game_stats3PT = pd.merge(player_game_stats3PT, joined_df, how='left', left_on='player1_id', right_on='person_id')\n",
    "\n",
    "print(player_game_stats3PT)"
   ]
  },
  {
   "cell_type": "code",
   "execution_count": 97,
   "metadata": {},
   "outputs": [
    {
     "data": {
      "application/vnd.plotly.v1+json": {
       "config": {
        "plotlyServerURL": "https://plot.ly"
       },
       "data": [
        {
         "customdata": [
          [
           "Blake Griffin",
           2010
          ],
          [
           "Blake Griffin",
           2011
          ],
          [
           "Blake Griffin",
           2012
          ],
          [
           "Blake Griffin",
           2013
          ],
          [
           "Blake Griffin",
           2014
          ],
          [
           "Blake Griffin",
           2015
          ],
          [
           "Blake Griffin",
           2016
          ],
          [
           "Blake Griffin",
           2018
          ],
          [
           "Blake Griffin",
           2019
          ],
          [
           "Blake Griffin",
           2020
          ],
          [
           "Blake Griffin",
           2021
          ],
          [
           "Blake Griffin",
           2022
          ],
          [
           "Hasheem Thabeet",
           2009
          ],
          [
           "Hasheem Thabeet",
           2010
          ],
          [
           "Hasheem Thabeet",
           2011
          ],
          [
           "Hasheem Thabeet",
           2012
          ],
          [
           "Hasheem Thabeet",
           2013
          ],
          [
           "James Harden",
           2009
          ],
          [
           "James Harden",
           2010
          ],
          [
           "James Harden",
           2011
          ],
          [
           "James Harden",
           2012
          ],
          [
           "James Harden",
           2013
          ],
          [
           "James Harden",
           2014
          ],
          [
           "James Harden",
           2015
          ],
          [
           "James Harden",
           2016
          ],
          [
           "James Harden",
           2018
          ],
          [
           "James Harden",
           2019
          ],
          [
           "James Harden",
           2020
          ],
          [
           "James Harden",
           2021
          ],
          [
           "James Harden",
           2022
          ],
          [
           "Tyreke Evans",
           2009
          ],
          [
           "Tyreke Evans",
           2010
          ],
          [
           "Tyreke Evans",
           2011
          ],
          [
           "Tyreke Evans",
           2012
          ],
          [
           "Tyreke Evans",
           2013
          ],
          [
           "Tyreke Evans",
           2014
          ],
          [
           "Tyreke Evans",
           2015
          ],
          [
           "Tyreke Evans",
           2016
          ],
          [
           "Tyreke Evans",
           2018
          ],
          [
           "Ricky Rubio",
           2011
          ],
          [
           "Ricky Rubio",
           2012
          ],
          [
           "Ricky Rubio",
           2013
          ],
          [
           "Ricky Rubio",
           2014
          ],
          [
           "Ricky Rubio",
           2015
          ],
          [
           "Ricky Rubio",
           2016
          ],
          [
           "Ricky Rubio",
           2018
          ],
          [
           "Ricky Rubio",
           2019
          ],
          [
           "Ricky Rubio",
           2020
          ],
          [
           "Ricky Rubio",
           2021
          ],
          [
           "Ricky Rubio",
           2022
          ],
          [
           "Jonny Flynn",
           2009
          ],
          [
           "Jonny Flynn",
           2010
          ],
          [
           "Jonny Flynn",
           2011
          ],
          [
           "Stephen Curry",
           2009
          ],
          [
           "Stephen Curry",
           2010
          ],
          [
           "Stephen Curry",
           2011
          ],
          [
           "Stephen Curry",
           2012
          ],
          [
           "Stephen Curry",
           2013
          ],
          [
           "Stephen Curry",
           2014
          ],
          [
           "Stephen Curry",
           2015
          ],
          [
           "Stephen Curry",
           2016
          ],
          [
           "Stephen Curry",
           2018
          ],
          [
           "Stephen Curry",
           2019
          ],
          [
           "Stephen Curry",
           2020
          ],
          [
           "Stephen Curry",
           2021
          ],
          [
           "Stephen Curry",
           2022
          ],
          [
           "Jordan Hill",
           2009
          ],
          [
           "Jordan Hill",
           2010
          ],
          [
           "Jordan Hill",
           2011
          ],
          [
           "Jordan Hill",
           2012
          ],
          [
           "Jordan Hill",
           2013
          ],
          [
           "Jordan Hill",
           2014
          ],
          [
           "Jordan Hill",
           2015
          ],
          [
           "Jordan Hill",
           2016
          ],
          [
           "DeMar DeRozan",
           2009
          ],
          [
           "DeMar DeRozan",
           2010
          ],
          [
           "DeMar DeRozan",
           2011
          ],
          [
           "DeMar DeRozan",
           2012
          ],
          [
           "DeMar DeRozan",
           2013
          ],
          [
           "DeMar DeRozan",
           2014
          ],
          [
           "DeMar DeRozan",
           2015
          ],
          [
           "DeMar DeRozan",
           2016
          ],
          [
           "DeMar DeRozan",
           2018
          ],
          [
           "DeMar DeRozan",
           2019
          ],
          [
           "DeMar DeRozan",
           2020
          ],
          [
           "DeMar DeRozan",
           2021
          ],
          [
           "DeMar DeRozan",
           2022
          ],
          [
           "Brandon Jennings",
           2009
          ],
          [
           "Brandon Jennings",
           2010
          ],
          [
           "Brandon Jennings",
           2011
          ],
          [
           "Brandon Jennings",
           2012
          ],
          [
           "Brandon Jennings",
           2013
          ],
          [
           "Brandon Jennings",
           2014
          ],
          [
           "Brandon Jennings",
           2015
          ],
          [
           "Brandon Jennings",
           2016
          ],
          [
           "Terrence Williams",
           2009
          ],
          [
           "Terrence Williams",
           2010
          ],
          [
           "Terrence Williams",
           2011
          ],
          [
           "Terrence Williams",
           2012
          ],
          [
           "Gerald Henderson",
           2009
          ],
          [
           "Gerald Henderson",
           2010
          ],
          [
           "Gerald Henderson",
           2011
          ],
          [
           "Gerald Henderson",
           2012
          ],
          [
           "Gerald Henderson",
           2013
          ],
          [
           "Gerald Henderson",
           2014
          ],
          [
           "Gerald Henderson",
           2015
          ],
          [
           "Gerald Henderson",
           2016
          ],
          [
           "Tyler Hansbrough",
           2009
          ],
          [
           "Tyler Hansbrough",
           2010
          ],
          [
           "Tyler Hansbrough",
           2011
          ],
          [
           "Tyler Hansbrough",
           2012
          ],
          [
           "Tyler Hansbrough",
           2013
          ],
          [
           "Tyler Hansbrough",
           2014
          ],
          [
           "Tyler Hansbrough",
           2015
          ],
          [
           "Earl Clark",
           2009
          ],
          [
           "Earl Clark",
           2010
          ],
          [
           "Earl Clark",
           2011
          ],
          [
           "Earl Clark",
           2012
          ],
          [
           "Earl Clark",
           2013
          ],
          [
           "Earl Clark",
           2014
          ],
          [
           "Austin Daye",
           2009
          ],
          [
           "Austin Daye",
           2010
          ],
          [
           "Austin Daye",
           2011
          ],
          [
           "Austin Daye",
           2012
          ],
          [
           "Austin Daye",
           2013
          ],
          [
           "Austin Daye",
           2014
          ],
          [
           "James Johnson",
           2009
          ],
          [
           "James Johnson",
           2010
          ],
          [
           "James Johnson",
           2011
          ],
          [
           "James Johnson",
           2012
          ],
          [
           "James Johnson",
           2013
          ],
          [
           "James Johnson",
           2014
          ],
          [
           "James Johnson",
           2015
          ],
          [
           "James Johnson",
           2016
          ],
          [
           "James Johnson",
           2018
          ],
          [
           "James Johnson",
           2019
          ],
          [
           "James Johnson",
           2020
          ],
          [
           "James Johnson",
           2021
          ],
          [
           "James Johnson",
           2022
          ],
          [
           "Jrue Holiday",
           2009
          ],
          [
           "Jrue Holiday",
           2010
          ],
          [
           "Jrue Holiday",
           2011
          ],
          [
           "Jrue Holiday",
           2012
          ],
          [
           "Jrue Holiday",
           2013
          ],
          [
           "Jrue Holiday",
           2014
          ],
          [
           "Jrue Holiday",
           2015
          ],
          [
           "Jrue Holiday",
           2016
          ],
          [
           "Jrue Holiday",
           2018
          ],
          [
           "Jrue Holiday",
           2019
          ],
          [
           "Jrue Holiday",
           2020
          ],
          [
           "Jrue Holiday",
           2021
          ],
          [
           "Jrue Holiday",
           2022
          ],
          [
           "Ty Lawson",
           2009
          ],
          [
           "Ty Lawson",
           2010
          ],
          [
           "Ty Lawson",
           2011
          ],
          [
           "Ty Lawson",
           2012
          ],
          [
           "Ty Lawson",
           2013
          ],
          [
           "Ty Lawson",
           2014
          ],
          [
           "Ty Lawson",
           2015
          ],
          [
           "Ty Lawson",
           2016
          ],
          [
           "Jeff Teague",
           2009
          ],
          [
           "Jeff Teague",
           2010
          ],
          [
           "Jeff Teague",
           2011
          ],
          [
           "Jeff Teague",
           2012
          ],
          [
           "Jeff Teague",
           2013
          ],
          [
           "Jeff Teague",
           2014
          ],
          [
           "Jeff Teague",
           2015
          ],
          [
           "Jeff Teague",
           2016
          ],
          [
           "Jeff Teague",
           2018
          ],
          [
           "Jeff Teague",
           2019
          ],
          [
           "Jeff Teague",
           2020
          ],
          [
           "Eric Maynor",
           2009
          ],
          [
           "Eric Maynor",
           2010
          ],
          [
           "Eric Maynor",
           2011
          ],
          [
           "Eric Maynor",
           2012
          ],
          [
           "Eric Maynor",
           2013
          ],
          [
           "Darren Collison",
           2009
          ],
          [
           "Darren Collison",
           2010
          ],
          [
           "Darren Collison",
           2011
          ],
          [
           "Darren Collison",
           2012
          ],
          [
           "Darren Collison",
           2013
          ],
          [
           "Darren Collison",
           2014
          ],
          [
           "Darren Collison",
           2015
          ],
          [
           "Darren Collison",
           2016
          ],
          [
           "Darren Collison",
           2018
          ],
          [
           "Darren Collison",
           2021
          ],
          [
           "Omri Casspi",
           2009
          ],
          [
           "Omri Casspi",
           2010
          ],
          [
           "Omri Casspi",
           2011
          ],
          [
           "Omri Casspi",
           2012
          ],
          [
           "Omri Casspi",
           2013
          ],
          [
           "Omri Casspi",
           2014
          ],
          [
           "Omri Casspi",
           2015
          ],
          [
           "Omri Casspi",
           2016
          ],
          [
           "Omri Casspi",
           2018
          ],
          [
           "Byron Mullens",
           2009
          ],
          [
           "Byron Mullens",
           2010
          ],
          [
           "Byron Mullens",
           2011
          ],
          [
           "Byron Mullens",
           2012
          ],
          [
           "Byron Mullens",
           2013
          ],
          [
           "Rodrigue Beaubois",
           2009
          ],
          [
           "Rodrigue Beaubois",
           2010
          ],
          [
           "Rodrigue Beaubois",
           2011
          ],
          [
           "Rodrigue Beaubois",
           2012
          ],
          [
           "Taj Gibson",
           2009
          ],
          [
           "Taj Gibson",
           2010
          ],
          [
           "Taj Gibson",
           2011
          ],
          [
           "Taj Gibson",
           2012
          ],
          [
           "Taj Gibson",
           2013
          ],
          [
           "Taj Gibson",
           2014
          ],
          [
           "Taj Gibson",
           2015
          ],
          [
           "Taj Gibson",
           2016
          ],
          [
           "Taj Gibson",
           2018
          ],
          [
           "Taj Gibson",
           2019
          ],
          [
           "Taj Gibson",
           2020
          ],
          [
           "Taj Gibson",
           2021
          ],
          [
           "Taj Gibson",
           2022
          ],
          [
           "DeMarre Carroll",
           2009
          ],
          [
           "DeMarre Carroll",
           2010
          ],
          [
           "DeMarre Carroll",
           2011
          ],
          [
           "DeMarre Carroll",
           2012
          ],
          [
           "DeMarre Carroll",
           2013
          ],
          [
           "DeMarre Carroll",
           2014
          ],
          [
           "DeMarre Carroll",
           2015
          ],
          [
           "DeMarre Carroll",
           2016
          ],
          [
           "DeMarre Carroll",
           2018
          ],
          [
           "DeMarre Carroll",
           2019
          ],
          [
           "Wayne Ellington",
           2009
          ],
          [
           "Wayne Ellington",
           2010
          ],
          [
           "Wayne Ellington",
           2011
          ],
          [
           "Wayne Ellington",
           2012
          ],
          [
           "Wayne Ellington",
           2013
          ],
          [
           "Wayne Ellington",
           2014
          ],
          [
           "Wayne Ellington",
           2015
          ],
          [
           "Wayne Ellington",
           2016
          ],
          [
           "Wayne Ellington",
           2018
          ],
          [
           "Wayne Ellington",
           2019
          ],
          [
           "Wayne Ellington",
           2020
          ],
          [
           "Wayne Ellington",
           2021
          ],
          [
           "Toney Douglas",
           2009
          ],
          [
           "Toney Douglas",
           2010
          ],
          [
           "Toney Douglas",
           2011
          ],
          [
           "Toney Douglas",
           2012
          ],
          [
           "Toney Douglas",
           2013
          ],
          [
           "Toney Douglas",
           2014
          ],
          [
           "Toney Douglas",
           2015
          ],
          [
           "Toney Douglas",
           2016
          ],
          [
           "Christian Eyenga",
           2010
          ],
          [
           "Christian Eyenga",
           2011
          ],
          [
           "Victor Claver",
           2012
          ],
          [
           "Victor Claver",
           2013
          ],
          [
           "Victor Claver",
           2014
          ],
          [
           "Jeff Ayres",
           2009
          ],
          [
           "Jeff Ayres",
           2011
          ],
          [
           "Jeff Ayres",
           2012
          ],
          [
           "Jeff Ayres",
           2013
          ],
          [
           "Jeff Ayres",
           2014
          ],
          [
           "Jeff Ayres",
           2015
          ],
          [
           "Jermaine Taylor",
           2009
          ],
          [
           "Jermaine Taylor",
           2010
          ],
          [
           "Dante Cunningham",
           2009
          ],
          [
           "Dante Cunningham",
           2010
          ],
          [
           "Dante Cunningham",
           2011
          ],
          [
           "Dante Cunningham",
           2012
          ],
          [
           "Dante Cunningham",
           2013
          ],
          [
           "Dante Cunningham",
           2014
          ],
          [
           "Dante Cunningham",
           2015
          ],
          [
           "Dante Cunningham",
           2016
          ],
          [
           "Dante Cunningham",
           2018
          ],
          [
           "DaJuan Summers",
           2009
          ],
          [
           "DaJuan Summers",
           2010
          ],
          [
           "DaJuan Summers",
           2011
          ],
          [
           "DaJuan Summers",
           2012
          ],
          [
           "Sam Young",
           2009
          ],
          [
           "Sam Young",
           2010
          ],
          [
           "Sam Young",
           2011
          ],
          [
           "Sam Young",
           2012
          ],
          [
           "DeJuan Blair",
           2009
          ],
          [
           "DeJuan Blair",
           2010
          ],
          [
           "DeJuan Blair",
           2011
          ],
          [
           "DeJuan Blair",
           2012
          ],
          [
           "DeJuan Blair",
           2013
          ],
          [
           "DeJuan Blair",
           2014
          ],
          [
           "DeJuan Blair",
           2015
          ],
          [
           "Jon Brockman",
           2009
          ],
          [
           "Jon Brockman",
           2010
          ],
          [
           "Jon Brockman",
           2011
          ],
          [
           "Jonas Jerebko",
           2009
          ],
          [
           "Jonas Jerebko",
           2011
          ],
          [
           "Jonas Jerebko",
           2012
          ],
          [
           "Jonas Jerebko",
           2013
          ],
          [
           "Jonas Jerebko",
           2014
          ],
          [
           "Jonas Jerebko",
           2015
          ],
          [
           "Jonas Jerebko",
           2016
          ],
          [
           "Jonas Jerebko",
           2018
          ],
          [
           "Derrick Brown",
           2009
          ],
          [
           "Derrick Brown",
           2010
          ],
          [
           "Derrick Brown",
           2011
          ],
          [
           "Jodie Meeks",
           2009
          ],
          [
           "Jodie Meeks",
           2010
          ],
          [
           "Jodie Meeks",
           2011
          ],
          [
           "Jodie Meeks",
           2012
          ],
          [
           "Jodie Meeks",
           2013
          ],
          [
           "Jodie Meeks",
           2014
          ],
          [
           "Jodie Meeks",
           2015
          ],
          [
           "Jodie Meeks",
           2016
          ],
          [
           "Jodie Meeks",
           2018
          ],
          [
           "Patrick Beverley",
           2012
          ],
          [
           "Patrick Beverley",
           2013
          ],
          [
           "Patrick Beverley",
           2014
          ],
          [
           "Patrick Beverley",
           2015
          ],
          [
           "Patrick Beverley",
           2016
          ],
          [
           "Patrick Beverley",
           2018
          ],
          [
           "Patrick Beverley",
           2019
          ],
          [
           "Patrick Beverley",
           2020
          ],
          [
           "Patrick Beverley",
           2021
          ],
          [
           "Patrick Beverley",
           2022
          ],
          [
           "Marcus Thornton",
           2009
          ],
          [
           "Marcus Thornton",
           2010
          ],
          [
           "Marcus Thornton",
           2011
          ],
          [
           "Marcus Thornton",
           2012
          ],
          [
           "Marcus Thornton",
           2013
          ],
          [
           "Marcus Thornton",
           2014
          ],
          [
           "Marcus Thornton",
           2015
          ],
          [
           "Marcus Thornton",
           2016
          ],
          [
           "Chase Budinger",
           2009
          ],
          [
           "Chase Budinger",
           2010
          ],
          [
           "Chase Budinger",
           2011
          ],
          [
           "Chase Budinger",
           2012
          ],
          [
           "Chase Budinger",
           2013
          ],
          [
           "Chase Budinger",
           2014
          ],
          [
           "Chase Budinger",
           2015
          ],
          [
           "Nick Calathes",
           2013
          ],
          [
           "Nick Calathes",
           2014
          ],
          [
           "Danny Green",
           2009
          ],
          [
           "Danny Green",
           2010
          ],
          [
           "Danny Green",
           2011
          ],
          [
           "Danny Green",
           2012
          ],
          [
           "Danny Green",
           2013
          ],
          [
           "Danny Green",
           2014
          ],
          [
           "Danny Green",
           2015
          ],
          [
           "Danny Green",
           2016
          ],
          [
           "Danny Green",
           2018
          ],
          [
           "Danny Green",
           2019
          ],
          [
           "Danny Green",
           2020
          ],
          [
           "Danny Green",
           2021
          ],
          [
           "Danny Green",
           2022
          ],
          [
           "Taylor Griffin",
           2009
          ],
          [
           "AJ Price",
           2009
          ],
          [
           "AJ Price",
           2010
          ],
          [
           "AJ Price",
           2011
          ],
          [
           "AJ Price",
           2012
          ],
          [
           "AJ Price",
           2013
          ],
          [
           "AJ Price",
           2014
          ],
          [
           "Nando De Colo",
           2012
          ],
          [
           "Nando De Colo",
           2013
          ],
          [
           "Patty Mills",
           2009
          ],
          [
           "Patty Mills",
           2010
          ],
          [
           "Patty Mills",
           2011
          ],
          [
           "Patty Mills",
           2012
          ],
          [
           "Patty Mills",
           2013
          ],
          [
           "Patty Mills",
           2014
          ],
          [
           "Patty Mills",
           2015
          ],
          [
           "Patty Mills",
           2016
          ],
          [
           "Patty Mills",
           2018
          ],
          [
           "Patty Mills",
           2019
          ],
          [
           "Patty Mills",
           2020
          ],
          [
           "Patty Mills",
           2021
          ],
          [
           "Patty Mills",
           2022
          ],
          [
           "Lester Hudson",
           2009
          ],
          [
           "Lester Hudson",
           2010
          ],
          [
           "Lester Hudson",
           2011
          ],
          [
           "Lester Hudson",
           2014
          ]
         ],
         "hovertemplate": "shot_percentage=%{x}<br>z_score_shot_percentage=%{y}<br>player_name=%{customdata[0]}<br>level_1=%{customdata[1]}<extra></extra>",
         "legendgroup": "",
         "marker": {
          "color": "#636efa",
          "symbol": "circle"
         },
         "mode": "markers",
         "name": "",
         "orientation": "v",
         "showlegend": false,
         "text": [
          "Blake Griffin, 2010",
          "Blake Griffin, 2011",
          "Blake Griffin, 2012",
          "Blake Griffin, 2013",
          "Blake Griffin, 2014",
          "Blake Griffin, 2015",
          "Blake Griffin, 2016",
          "Blake Griffin, 2018",
          "Blake Griffin, 2019",
          "Blake Griffin, 2020",
          "Blake Griffin, 2021",
          "Blake Griffin, 2022",
          "Hasheem Thabeet, 2009",
          "Hasheem Thabeet, 2010",
          "Hasheem Thabeet, 2011",
          "Hasheem Thabeet, 2012",
          "Hasheem Thabeet, 2013",
          "James Harden, 2009",
          "James Harden, 2010",
          "James Harden, 2011",
          "James Harden, 2012",
          "James Harden, 2013",
          "James Harden, 2014",
          "James Harden, 2015",
          "James Harden, 2016",
          "James Harden, 2018",
          "James Harden, 2019",
          "James Harden, 2020",
          "James Harden, 2021",
          "James Harden, 2022",
          "Tyreke Evans, 2009",
          "Tyreke Evans, 2010",
          "Tyreke Evans, 2011",
          "Tyreke Evans, 2012",
          "Tyreke Evans, 2013",
          "Tyreke Evans, 2014",
          "Tyreke Evans, 2015",
          "Tyreke Evans, 2016",
          "Tyreke Evans, 2018",
          "Ricky Rubio, 2011",
          "Ricky Rubio, 2012",
          "Ricky Rubio, 2013",
          "Ricky Rubio, 2014",
          "Ricky Rubio, 2015",
          "Ricky Rubio, 2016",
          "Ricky Rubio, 2018",
          "Ricky Rubio, 2019",
          "Ricky Rubio, 2020",
          "Ricky Rubio, 2021",
          "Ricky Rubio, 2022",
          "Jonny Flynn, 2009",
          "Jonny Flynn, 2010",
          "Jonny Flynn, 2011",
          "Stephen Curry, 2009",
          "Stephen Curry, 2010",
          "Stephen Curry, 2011",
          "Stephen Curry, 2012",
          "Stephen Curry, 2013",
          "Stephen Curry, 2014",
          "Stephen Curry, 2015",
          "Stephen Curry, 2016",
          "Stephen Curry, 2018",
          "Stephen Curry, 2019",
          "Stephen Curry, 2020",
          "Stephen Curry, 2021",
          "Stephen Curry, 2022",
          "Jordan Hill, 2009",
          "Jordan Hill, 2010",
          "Jordan Hill, 2011",
          "Jordan Hill, 2012",
          "Jordan Hill, 2013",
          "Jordan Hill, 2014",
          "Jordan Hill, 2015",
          "Jordan Hill, 2016",
          "DeMar DeRozan, 2009",
          "DeMar DeRozan, 2010",
          "DeMar DeRozan, 2011",
          "DeMar DeRozan, 2012",
          "DeMar DeRozan, 2013",
          "DeMar DeRozan, 2014",
          "DeMar DeRozan, 2015",
          "DeMar DeRozan, 2016",
          "DeMar DeRozan, 2018",
          "DeMar DeRozan, 2019",
          "DeMar DeRozan, 2020",
          "DeMar DeRozan, 2021",
          "DeMar DeRozan, 2022",
          "Brandon Jennings, 2009",
          "Brandon Jennings, 2010",
          "Brandon Jennings, 2011",
          "Brandon Jennings, 2012",
          "Brandon Jennings, 2013",
          "Brandon Jennings, 2014",
          "Brandon Jennings, 2015",
          "Brandon Jennings, 2016",
          "Terrence Williams, 2009",
          "Terrence Williams, 2010",
          "Terrence Williams, 2011",
          "Terrence Williams, 2012",
          "Gerald Henderson, 2009",
          "Gerald Henderson, 2010",
          "Gerald Henderson, 2011",
          "Gerald Henderson, 2012",
          "Gerald Henderson, 2013",
          "Gerald Henderson, 2014",
          "Gerald Henderson, 2015",
          "Gerald Henderson, 2016",
          "Tyler Hansbrough, 2009",
          "Tyler Hansbrough, 2010",
          "Tyler Hansbrough, 2011",
          "Tyler Hansbrough, 2012",
          "Tyler Hansbrough, 2013",
          "Tyler Hansbrough, 2014",
          "Tyler Hansbrough, 2015",
          "Earl Clark, 2009",
          "Earl Clark, 2010",
          "Earl Clark, 2011",
          "Earl Clark, 2012",
          "Earl Clark, 2013",
          "Earl Clark, 2014",
          "Austin Daye, 2009",
          "Austin Daye, 2010",
          "Austin Daye, 2011",
          "Austin Daye, 2012",
          "Austin Daye, 2013",
          "Austin Daye, 2014",
          "James Johnson, 2009",
          "James Johnson, 2010",
          "James Johnson, 2011",
          "James Johnson, 2012",
          "James Johnson, 2013",
          "James Johnson, 2014",
          "James Johnson, 2015",
          "James Johnson, 2016",
          "James Johnson, 2018",
          "James Johnson, 2019",
          "James Johnson, 2020",
          "James Johnson, 2021",
          "James Johnson, 2022",
          "Jrue Holiday, 2009",
          "Jrue Holiday, 2010",
          "Jrue Holiday, 2011",
          "Jrue Holiday, 2012",
          "Jrue Holiday, 2013",
          "Jrue Holiday, 2014",
          "Jrue Holiday, 2015",
          "Jrue Holiday, 2016",
          "Jrue Holiday, 2018",
          "Jrue Holiday, 2019",
          "Jrue Holiday, 2020",
          "Jrue Holiday, 2021",
          "Jrue Holiday, 2022",
          "Ty Lawson, 2009",
          "Ty Lawson, 2010",
          "Ty Lawson, 2011",
          "Ty Lawson, 2012",
          "Ty Lawson, 2013",
          "Ty Lawson, 2014",
          "Ty Lawson, 2015",
          "Ty Lawson, 2016",
          "Jeff Teague, 2009",
          "Jeff Teague, 2010",
          "Jeff Teague, 2011",
          "Jeff Teague, 2012",
          "Jeff Teague, 2013",
          "Jeff Teague, 2014",
          "Jeff Teague, 2015",
          "Jeff Teague, 2016",
          "Jeff Teague, 2018",
          "Jeff Teague, 2019",
          "Jeff Teague, 2020",
          "Eric Maynor, 2009",
          "Eric Maynor, 2010",
          "Eric Maynor, 2011",
          "Eric Maynor, 2012",
          "Eric Maynor, 2013",
          "Darren Collison, 2009",
          "Darren Collison, 2010",
          "Darren Collison, 2011",
          "Darren Collison, 2012",
          "Darren Collison, 2013",
          "Darren Collison, 2014",
          "Darren Collison, 2015",
          "Darren Collison, 2016",
          "Darren Collison, 2018",
          "Darren Collison, 2021",
          "Omri Casspi, 2009",
          "Omri Casspi, 2010",
          "Omri Casspi, 2011",
          "Omri Casspi, 2012",
          "Omri Casspi, 2013",
          "Omri Casspi, 2014",
          "Omri Casspi, 2015",
          "Omri Casspi, 2016",
          "Omri Casspi, 2018",
          "Byron Mullens, 2009",
          "Byron Mullens, 2010",
          "Byron Mullens, 2011",
          "Byron Mullens, 2012",
          "Byron Mullens, 2013",
          "Rodrigue Beaubois, 2009",
          "Rodrigue Beaubois, 2010",
          "Rodrigue Beaubois, 2011",
          "Rodrigue Beaubois, 2012",
          "Taj Gibson, 2009",
          "Taj Gibson, 2010",
          "Taj Gibson, 2011",
          "Taj Gibson, 2012",
          "Taj Gibson, 2013",
          "Taj Gibson, 2014",
          "Taj Gibson, 2015",
          "Taj Gibson, 2016",
          "Taj Gibson, 2018",
          "Taj Gibson, 2019",
          "Taj Gibson, 2020",
          "Taj Gibson, 2021",
          "Taj Gibson, 2022",
          "DeMarre Carroll, 2009",
          "DeMarre Carroll, 2010",
          "DeMarre Carroll, 2011",
          "DeMarre Carroll, 2012",
          "DeMarre Carroll, 2013",
          "DeMarre Carroll, 2014",
          "DeMarre Carroll, 2015",
          "DeMarre Carroll, 2016",
          "DeMarre Carroll, 2018",
          "DeMarre Carroll, 2019",
          "Wayne Ellington, 2009",
          "Wayne Ellington, 2010",
          "Wayne Ellington, 2011",
          "Wayne Ellington, 2012",
          "Wayne Ellington, 2013",
          "Wayne Ellington, 2014",
          "Wayne Ellington, 2015",
          "Wayne Ellington, 2016",
          "Wayne Ellington, 2018",
          "Wayne Ellington, 2019",
          "Wayne Ellington, 2020",
          "Wayne Ellington, 2021",
          "Toney Douglas, 2009",
          "Toney Douglas, 2010",
          "Toney Douglas, 2011",
          "Toney Douglas, 2012",
          "Toney Douglas, 2013",
          "Toney Douglas, 2014",
          "Toney Douglas, 2015",
          "Toney Douglas, 2016",
          "Christian Eyenga, 2010",
          "Christian Eyenga, 2011",
          "Victor Claver, 2012",
          "Victor Claver, 2013",
          "Victor Claver, 2014",
          "Jeff Ayres, 2009",
          "Jeff Ayres, 2011",
          "Jeff Ayres, 2012",
          "Jeff Ayres, 2013",
          "Jeff Ayres, 2014",
          "Jeff Ayres, 2015",
          "Jermaine Taylor, 2009",
          "Jermaine Taylor, 2010",
          "Dante Cunningham, 2009",
          "Dante Cunningham, 2010",
          "Dante Cunningham, 2011",
          "Dante Cunningham, 2012",
          "Dante Cunningham, 2013",
          "Dante Cunningham, 2014",
          "Dante Cunningham, 2015",
          "Dante Cunningham, 2016",
          "Dante Cunningham, 2018",
          "DaJuan Summers, 2009",
          "DaJuan Summers, 2010",
          "DaJuan Summers, 2011",
          "DaJuan Summers, 2012",
          "Sam Young, 2009",
          "Sam Young, 2010",
          "Sam Young, 2011",
          "Sam Young, 2012",
          "DeJuan Blair, 2009",
          "DeJuan Blair, 2010",
          "DeJuan Blair, 2011",
          "DeJuan Blair, 2012",
          "DeJuan Blair, 2013",
          "DeJuan Blair, 2014",
          "DeJuan Blair, 2015",
          "Jon Brockman, 2009",
          "Jon Brockman, 2010",
          "Jon Brockman, 2011",
          "Jonas Jerebko, 2009",
          "Jonas Jerebko, 2011",
          "Jonas Jerebko, 2012",
          "Jonas Jerebko, 2013",
          "Jonas Jerebko, 2014",
          "Jonas Jerebko, 2015",
          "Jonas Jerebko, 2016",
          "Jonas Jerebko, 2018",
          "Derrick Brown, 2009",
          "Derrick Brown, 2010",
          "Derrick Brown, 2011",
          "Jodie Meeks, 2009",
          "Jodie Meeks, 2010",
          "Jodie Meeks, 2011",
          "Jodie Meeks, 2012",
          "Jodie Meeks, 2013",
          "Jodie Meeks, 2014",
          "Jodie Meeks, 2015",
          "Jodie Meeks, 2016",
          "Jodie Meeks, 2018",
          "Patrick Beverley, 2012",
          "Patrick Beverley, 2013",
          "Patrick Beverley, 2014",
          "Patrick Beverley, 2015",
          "Patrick Beverley, 2016",
          "Patrick Beverley, 2018",
          "Patrick Beverley, 2019",
          "Patrick Beverley, 2020",
          "Patrick Beverley, 2021",
          "Patrick Beverley, 2022",
          "Marcus Thornton, 2009",
          "Marcus Thornton, 2010",
          "Marcus Thornton, 2011",
          "Marcus Thornton, 2012",
          "Marcus Thornton, 2013",
          "Marcus Thornton, 2014",
          "Marcus Thornton, 2015",
          "Marcus Thornton, 2016",
          "Chase Budinger, 2009",
          "Chase Budinger, 2010",
          "Chase Budinger, 2011",
          "Chase Budinger, 2012",
          "Chase Budinger, 2013",
          "Chase Budinger, 2014",
          "Chase Budinger, 2015",
          "Nick Calathes, 2013",
          "Nick Calathes, 2014",
          "Danny Green, 2009",
          "Danny Green, 2010",
          "Danny Green, 2011",
          "Danny Green, 2012",
          "Danny Green, 2013",
          "Danny Green, 2014",
          "Danny Green, 2015",
          "Danny Green, 2016",
          "Danny Green, 2018",
          "Danny Green, 2019",
          "Danny Green, 2020",
          "Danny Green, 2021",
          "Danny Green, 2022",
          "Taylor Griffin, 2009",
          "AJ Price, 2009",
          "AJ Price, 2010",
          "AJ Price, 2011",
          "AJ Price, 2012",
          "AJ Price, 2013",
          "AJ Price, 2014",
          "Nando De Colo, 2012",
          "Nando De Colo, 2013",
          "Patty Mills, 2009",
          "Patty Mills, 2010",
          "Patty Mills, 2011",
          "Patty Mills, 2012",
          "Patty Mills, 2013",
          "Patty Mills, 2014",
          "Patty Mills, 2015",
          "Patty Mills, 2016",
          "Patty Mills, 2018",
          "Patty Mills, 2019",
          "Patty Mills, 2020",
          "Patty Mills, 2021",
          "Patty Mills, 2022",
          "Lester Hudson, 2009",
          "Lester Hudson, 2010",
          "Lester Hudson, 2011",
          "Lester Hudson, 2014"
         ],
         "type": "scatter",
         "x": [
          0.4029511918274688,
          0.42194744976816073,
          0.4002932551319648,
          0.4166666666666667,
          0.43847874720357943,
          0.4175365344467641,
          0.4,
          0.38839285714285715,
          0.29347826086956524,
          0.3346153846153846,
          0.34408602150537637,
          0.373134328358209,
          0.5,
          0.23809523809523808,
          0.375,
          0.4666666666666667,
          0.5789473684210527,
          0.34615384615384615,
          0.35372848948374763,
          0.38913043478260867,
          0.3628865979381443,
          0.38084632516703787,
          0.3614678899082569,
          0.37182637182637185,
          0.3619047619047619,
          0.39364844903988183,
          0.38591549295774646,
          0.41825095057034223,
          0.3673469387755102,
          0.4141048824593128,
          0.335978835978836,
          0.3385093167701863,
          0.34590163934426227,
          0.3619402985074627,
          0.3163934426229508,
          0.328537170263789,
          0.2961165048543689,
          0.31800766283524906,
          0.34108527131782945,
          0.31528662420382164,
          0.3005050505050505,
          0.29067245119305857,
          0.36312849162011174,
          0.32461873638344224,
          0.36507936507936506,
          0.36084452975047987,
          0.375,
          0.3384615384615385,
          0.3525423728813559,
          0.3465346534653465,
          0.3553826199740597,
          0.3372093023255814,
          0.3391304347826087,
          0.42322834645669294,
          0.4465065502183406,
          0.4603174603174603,
          0.43243243243243246,
          0.4413904607922393,
          0.43482224247948953,
          0.4394800974817222,
          0.4106830122591944,
          0.4393226716839135,
          0.359375,
          0.4340382678751259,
          0.40209424083769635,
          0.44462540716612375,
          0.381294964028777,
          0.44313725490196076,
          0.4306569343065693,
          0.40594059405940597,
          0.4743935309973046,
          0.4056291390728477,
          0.43544303797468353,
          0.3333333333333333,
          0.4246987951807229,
          0.4167636786961583,
          0.3678474114441417,
          0.39920948616600793,
          0.37436762225969644,
          0.36895674300254455,
          0.3918406072106262,
          0.42329778506972926,
          0.4226069246435845,
          0.4745762711864407,
          0.4581430745814307,
          0.4759576202118989,
          0.4675642594859241,
          0.34825425246195163,
          0.34438775510204084,
          0.3964620187304891,
          0.3747645951035782,
          0.33059548254620125,
          0.34405940594059403,
          0.3308270676691729,
          0.31322505800464034,
          0.3123644251626898,
          0.30666666666666664,
          0.37662337662337664,
          0.4027777777777778,
          0.25925925925925924,
          0.3915929203539823,
          0.3976510067114094,
          0.4031563845050215,
          0.38107098381070986,
          0.38980509745127434,
          0.39243498817966904,
          0.367032967032967,
          0.32989690721649484,
          0.4321223709369025,
          0.36792452830188677,
          0.41118421052631576,
          0.41935483870967744,
          0.41304347826086957,
          0.40476190476190477,
          0.3458646616541353,
          0.32456140350877194,
          0.29464285714285715,
          0.3605015673981191,
          0.35,
          0.4444444444444444,
          0.4309623430962343,
          0.40654205607476634,
          0.3351063829787234,
          0.41397849462365593,
          0.328125,
          0.3629032258064516,
          0.31788079470198677,
          0.3419354838709677,
          0.3726027397260274,
          0.32057416267942584,
          0.3582089552238806,
          0.481651376146789,
          0.32592592592592595,
          0.3996316758747698,
          0.3521739130434783,
          0.36036036036036034,
          0.3413173652694611,
          0.31851851851851853,
          0.3333333333333333,
          0.3835294117647059,
          0.3895939086294416,
          0.38227146814404434,
          0.36901408450704226,
          0.4106666666666667,
          0.3982102908277405,
          0.3576248313090418,
          0.3826086956521739,
          0.3769035532994924,
          0.375,
          0.4422735346358792,
          0.464,
          0.4473684210526316,
          0.43359375,
          0.41914893617021276,
          0.4295190713101161,
          0.39185393258426965,
          0.36486486486486486,
          0.375,
          0.3142857142857143,
          0.3721518987341772,
          0.2789115646258503,
          0.3615023474178404,
          0.3607305936073059,
          0.3792134831460674,
          0.36363636363636365,
          0.3772954924874791,
          0.3683409436834094,
          0.4058641975308642,
          0.38686131386861317,
          0.380327868852459,
          0.4044943820224719,
          0.3979933110367893,
          0.3853820598006645,
          0.34285714285714286,
          0.36929460580912865,
          0.2916666666666667,
          0.424287856071964,
          0.40796703296703296,
          0.3959731543624161,
          0.39526411657559196,
          0.38011695906432746,
          0.4043956043956044,
          0.41385135135135137,
          0.4312617702448211,
          0.4300202839756592,
          null,
          0.39644970414201186,
          0.357630979498861,
          0.3595505617977528,
          0.35714285714285715,
          0.3895705521472393,
          0.391304347826087,
          0.4025695931477516,
          0.3300970873786408,
          0.39285714285714285,
          0.25,
          0.2222222222222222,
          0.36929460580912865,
          0.33760683760683763,
          0.4097222222222222,
          0.4304932735426009,
          0.3496932515337423,
          0.36627906976744184,
          0.3161764705882353,
          0.4369565217391304,
          0.38642297650130547,
          0.41479099678456594,
          0.4069400630914827,
          0.4170403587443946,
          0.4281437125748503,
          0.4230769230769231,
          0.4468937875751503,
          0.49221183800623053,
          0.5301204819277109,
          0.4942528735632184,
          0.43636363636363634,
          0.40298507462686567,
          0.3689839572192513,
          0.36363636363636365,
          0.3894736842105263,
          0.41754385964912283,
          0.4269005847953216,
          0.44808743169398907,
          0.35648148148148145,
          0.3792325056433409,
          0.37585421412300685,
          0.3404255319148936,
          0.38,
          0.37110481586402266,
          0.36428571428571427,
          0.4050632911392405,
          0.38392857142857145,
          0.3805970149253731,
          0.35,
          0.3949416342412451,
          0.38701298701298703,
          0.32413793103448274,
          0.39436619718309857,
          0.391705069124424,
          0.40390879478827363,
          0.37101910828025475,
          0.2868217054263566,
          0.38403990024937656,
          0.3333333333333333,
          0.2727272727272727,
          0.3641025641025641,
          0.33695652173913043,
          0.3510204081632653,
          0.15,
          0.3561643835616438,
          0.3684210526315789,
          0.47058823529411764,
          0.5238095238095238,
          0.2692307692307692,
          0.4639175257731959,
          0.46788990825688076,
          0.5254237288135594,
          0.4444444444444444,
          0.3076923076923077,
          0.3712121212121212,
          0.46632124352331605,
          0.4317617866004963,
          0.441747572815534,
          0.41798941798941797,
          0.4247191011235955,
          0.42810457516339867,
          0.3617021276595745,
          0.40569395017793597,
          0.39622641509433965,
          0.30701754385964913,
          0.3870967741935484,
          0.42857142857142855,
          0.25,
          0.3685800604229607,
          0.39646464646464646,
          0.30357142857142855,
          0.34710743801652894,
          0.5053763440860215,
          0.46522781774580335,
          0.5071090047393365,
          0.4955357142857143,
          0.5196078431372549,
          0.4318181818181818,
          0.36065573770491804,
          0.5441176470588235,
          0.45,
          0.30952380952380953,
          0.42696629213483145,
          0.40298507462686567,
          0.3930131004366812,
          0.41899441340782123,
          0.41198501872659177,
          0.3417085427135678,
          0.3804878048780488,
          0.41044776119402987,
          0.2840909090909091,
          0.27941176470588236,
          0.4208754208754209,
          0.33620689655172414,
          0.38969072164948454,
          0.37906976744186044,
          0.3572938689217759,
          0.4051841746248295,
          0.39344262295081966,
          0.3157894736842105,
          0.3799126637554585,
          0.5,
          0.3698630136986301,
          0.37467700258397935,
          0.36666666666666664,
          0.40606060606060607,
          0.37203791469194314,
          0.3926553672316384,
          0.40145985401459855,
          0.4069767441860465,
          0.3770491803278688,
          0.3761467889908257,
          0.41733333333333333,
          0.40253565768621236,
          0.41040462427745666,
          0.40226628895184136,
          0.3715277777777778,
          0.3829787234042553,
          0.35526315789473684,
          0.3442622950819672,
          0.40397350993377484,
          0.37168141592920356,
          0.39948453608247425,
          0.3373493975903614,
          0.345,
          0.39087947882736157,
          0.3372093023255814,
          0.41729323308270677,
          0.3826530612244898,
          0.3684210526315789,
          0.375,
          0.4253731343283582,
          0.43272727272727274,
          0.41755888650963596,
          0.4156804733727811,
          0.34024896265560167,
          0.3734015345268542,
          0.4588477366255144,
          0.39855072463768115,
          0.40210526315789474,
          0.3875432525951557,
          0.38095238095238093,
          0.25,
          0.3715170278637771,
          0.3440514469453376,
          0.3373493975903614,
          0.3756476683937824,
          0.36585365853658536,
          0.37037037037037035,
          0.41711229946524064,
          0.3902439024390244,
          0.4444444444444444,
          0.37992831541218636,
          0.4596774193548387,
          0.46153846153846156,
          0.45395799676898224,
          0.3770491803278688,
          0.391304347826087,
          0.4034749034749035,
          0.37842778793418647,
          0.40286298568507156,
          0.38866396761133604,
          0.3923076923076923,
          0.38181818181818183,
          0.3333333333333333,
          0.2777777777777778,
          0.3333333333333333,
          0.3333333333333333
         ],
         "xaxis": "x",
         "y": [
          1.0108884432752185,
          1.1333548698139309,
          1.0572271067453565,
          1.1122936759873678,
          1.200090280694271,
          1.7765281031223608,
          1.0420504253725253,
          0.9054298360504315,
          1.227747885614574,
          1.2324971651263321,
          1.1494099676647649,
          0.9730114376870567,
          0.9005472905031094,
          0.9766690277751069,
          0.9637919306205379,
          0.949604988162582,
          0.9645265400163114,
          0.6778998237196003,
          0.6568353023904998,
          0.974205785594198,
          0.8680478869798026,
          0.9352298036961328,
          0.8649202845687874,
          0.9009924856823438,
          0.8336381994723496,
          0.9476632212263696,
          0.9226446452462178,
          0.9673450801108064,
          0.44177441648477295,
          0.8552068294708813,
          0.7703886070887961,
          0.6618115218567454,
          0.7402603757645094,
          0.6793273970264341,
          0.3373582861549037,
          0.6756543720647168,
          1.124015451196908,
          1.1512712231825548,
          1.482723543206418,
          6.0927496227302385,
          5.391540470822478,
          -3.1083718495500072,
          1.0549517756826636,
          -1.009932605989952,
          -0.3922122131924389,
          -1.5242466380920634,
          0.7334048398897971,
          1.630411213979573,
          1.418095876916121,
          1.0315206958897052,
          0.8572167472293505,
          1.2525752037461326,
          1.0291718821312885,
          1.1281454160987607,
          1.1880062323752985,
          0.34160140830833746,
          1.1527834153116632,
          1.1801744335010163,
          1.1582358010026075,
          1.155108042807035,
          1.0381732272436761,
          1.1519726571944489,
          0.9850029649234798,
          0.9921512969541705,
          0.8057496215708998,
          0.9911757681660923,
          1.0054776345836007,
          0.6599995776865764,
          0.8854562348432506,
          0.9688853324660135,
          -0.27768251776531316,
          1.0851249980555309,
          -0.7516032493362205,
          0.94964182981505,
          2.651004789109696,
          1.0712540637354793,
          0.8740460545077192,
          1.0274235410964416,
          0.9189234223707098,
          0.8659320441393555,
          0.9805931226849625,
          1.0849484254014674,
          1.0826657763231813,
          1.3469116984596536,
          1.1699260420312525,
          1.0845656137934623,
          1.0588057993449562,
          0.8556109602897886,
          0.7454903333793576,
          0.9954725109175534,
          0.9244172854195281,
          0.7109146232936311,
          -68.93841197587712,
          1.1316491990029853,
          2.5058159572025547,
          0.39840048776052345,
          1.0060806406119465,
          0.9879919372031979,
          0.9753793273089664,
          1.10847301307149,
          0.9819197341638315,
          1.016764418619753,
          1.0727559736690802,
          0.9301574819321934,
          0.9694908424987912,
          -2.3889077268239753,
          1.8490784027051608,
          1.233585681398249,
          1.3083735458907535,
          0.7515110307553072,
          0.8293044615852929,
          0.9578734198698899,
          0.9790736853278145,
          0.9254115757282966,
          1.0719694529102084,
          1.025460713873647,
          1.0846193046356924,
          1.2179401201931503,
          1.0941562623666297,
          0.9875966375812549,
          0.6271612124675268,
          1.255999808694237,
          1.1425343911883905,
          0.9313257128873396,
          1.013929712412837,
          1.0279813408103742,
          1.1595888721596295,
          1.0387685243849456,
          0.6183243928495379,
          1.1568636351890949,
          1.0587768203510972,
          0.7319929699505955,
          0.9934233334989273,
          1.1764376016965268,
          1.0812099394067398,
          1.0050884054703737,
          1.0239109964736335,
          1.1079429102912441,
          0.9522251196201614,
          0.9600962400555566,
          0.9546290027848844,
          0.9379984044450401,
          0.9006689311193261,
          0.6682975237825008,
          1.1130918854741096,
          0.8022637481112087,
          0.8950131258613416,
          0.8134171600583983,
          0.8308662342567535,
          1.1395668908186536,
          1.1132715295416276,
          1.0032694250667482,
          0.4525953938811113,
          1.2915398941621137,
          1.18768701564157,
          1.0013030621526764,
          0.7959771214664031,
          0.8854167154903285,
          1.2395231580545638,
          1.133771278576234,
          1.2401225411172903,
          1.04808117079733,
          0.7023436596521958,
          0.9244361739533035,
          0.8239656287841712,
          0.8677762788086678,
          0.8500037403911196,
          1.1068470121011493,
          1.0222714640720598,
          1.192284718543596,
          0.9246075154827627,
          0.37310964094620147,
          0.9992179270236708,
          0.9764590996679902,
          1.050670358744995,
          1.0579336264130774,
          1.1739855541364237,
          1.0458926022272197,
          1.0373184958919766,
          1.0501738599031212,
          0.8061044272232014,
          1.233780750177203,
          1.2291351491092477,
          2.0613880365112087,
          -3.688036756375819,
          null,
          1.0570700274872251,
          0.4655372421356314,
          0.15667896863941835,
          1.0233599533269007,
          0.9999361999259867,
          1.0163592473487735,
          1.5744610740661809,
          0.9860599006702234,
          0.9829454577990395,
          1.01273305165276,
          0.9753005222741474,
          0.8218543888878082,
          -0.18302944777893693,
          0.963130095308102,
          0.7157785569993985,
          1.031532520732109,
          -0.005947735252904425,
          1.071923762323832,
          1.394138270710905,
          0.7493780371200918,
          -0.523198267182138,
          0.836072101621546,
          1.1694003052529907,
          0.5729229986542445,
          0.6454623797621034,
          5.089343048943044,
          0.583631470000375,
          0.6906736088740677,
          0.8603340646211741,
          0.9882719574290038,
          0.95403426425699,
          1.062617005121345,
          0.9562215181122871,
          0.9612782487863789,
          0.8247959804564906,
          1.5568643713833172,
          1.5120082775698724,
          0.9912437484698795,
          1.2183359633358755,
          1.428875017397545,
          0.985803382111703,
          0.9115331455968593,
          1.9599117893910085,
          1.3262008466615887,
          1.318869350649875,
          0.9927856503017974,
          0.8612271913929738,
          0.26615627331421804,
          1.1775908523075722,
          1.0977717928866926,
          1.0846629727195654,
          1.0081867966632623,
          1.1003856574360589,
          -1.3851592967516997,
          0.8444636005736175,
          1.9282743241507099,
          1.3038245388107568,
          1.0712652267684368,
          1.0309599977209578,
          1.345899045120976,
          0.976974032546346,
          1.1408638612538502,
          1.0017087877375668,
          1.027377170881212,
          0.9918198636907055,
          0.9850399369518197,
          0.9392286207532511,
          0.9885911722917441,
          0.9250480496802636,
          0.9212419816847314,
          0.9365559976649569,
          0.9250718382879243,
          1.0773799133718132,
          0.9792662705613056,
          0.6650604348986011,
          2.1750240589583125,
          0.7311557647108977,
          1.259843075878993,
          3.965424845301084,
          0.7194335285068795,
          1.083335177943985,
          0.8904402479127405,
          0.9821765887217138,
          1.1116421138010595,
          0.9554703047139756,
          0.9419173618072998,
          0.9861758496439307,
          0.1428399220339871,
          1.2023998707920291,
          1.072962428865304,
          1.0259949165446742,
          2.897653790345314,
          2.560092389256419,
          2.2521454280521995,
          0.6681094450014926,
          0.20392445883012097,
          0.9817737199046609,
          0.939955589010633,
          0.8815921885979059,
          0.9132306808616495,
          0.99183607759314,
          1.3387396439013186,
          2.2286394314954086,
          0.9697513701787823,
          0.937035472725629,
          0.902564649135559,
          1.0141511216941523,
          0.9624894198541183,
          0.9539142059025641,
          1.0972881251607391,
          1.0152451651416021,
          0.09264092095054871,
          1.3691367252778854,
          0.9560545314102477,
          0.8741393840896995,
          0.3212410501680359,
          1.0713234110797991,
          0.98733576804849,
          0.9393650679789932,
          0.9671973343010921,
          0.9644136458847395,
          1.0086570662491032,
          1.3440007660719286,
          0.5685163835523828,
          1.3953326100582257,
          1.2381891481485412,
          1.0316985197586432,
          0.9344752093478256,
          0.9196375983775736,
          1.339925613400402,
          1.2727018937345917,
          1.1273352319390193,
          1.0310406902231777,
          1.0688113769250218,
          1.065610578863624,
          0.7858962150571364,
          1.055828342882185,
          -0.019641087403869457,
          1.0137849525333031,
          1.1344235961688336,
          0.8284249067306935,
          1.1416711087490115,
          1.0691168366653925,
          1.086749095262867,
          1.0153376476734606,
          1.0029343558275745,
          0.8817327061459702,
          1.0196808838165354,
          1.0003567310160848,
          0.9558851783402057,
          1.450170944162129,
          1.4386005713546932,
          1.8789169957977,
          1.1318875545438465,
          0.07858131376076173,
          1.110695191269046,
          -3.7568891338799095,
          0.9855746257215006,
          0.7740317735582807,
          1.2372506501295588,
          0.9443258162145644,
          1.0029954460961652,
          -0.24127658581519035,
          1.5532442134943145,
          1.093777207466881,
          1.4100416234917608,
          0.9929829669722146,
          1.0230807061085196,
          0.924356270743117,
          0.9873555953795232,
          0.9847429204612211,
          1.027226494439628,
          0.8528998557433481,
          0.83981048263852,
          1.509821494636707,
          1.1231122746601563,
          1.0748953214793926,
          1.4527536729010473,
          0.315641658696287,
          1.0150661165485342,
          0.6431338219849864,
          0.6288105619791077,
          1.0718855486619414,
          1.0187533193575016,
          0.968317463642113,
          1.0590859924889522,
          0.9982602666463964
         ],
         "yaxis": "y"
        }
       ],
       "layout": {
        "legend": {
         "tracegroupgap": 0
        },
        "margin": {
         "t": 60
        },
        "template": {
         "data": {
          "bar": [
           {
            "error_x": {
             "color": "#2a3f5f"
            },
            "error_y": {
             "color": "#2a3f5f"
            },
            "marker": {
             "line": {
              "color": "#E5ECF6",
              "width": 0.5
             },
             "pattern": {
              "fillmode": "overlay",
              "size": 10,
              "solidity": 0.2
             }
            },
            "type": "bar"
           }
          ],
          "barpolar": [
           {
            "marker": {
             "line": {
              "color": "#E5ECF6",
              "width": 0.5
             },
             "pattern": {
              "fillmode": "overlay",
              "size": 10,
              "solidity": 0.2
             }
            },
            "type": "barpolar"
           }
          ],
          "carpet": [
           {
            "aaxis": {
             "endlinecolor": "#2a3f5f",
             "gridcolor": "white",
             "linecolor": "white",
             "minorgridcolor": "white",
             "startlinecolor": "#2a3f5f"
            },
            "baxis": {
             "endlinecolor": "#2a3f5f",
             "gridcolor": "white",
             "linecolor": "white",
             "minorgridcolor": "white",
             "startlinecolor": "#2a3f5f"
            },
            "type": "carpet"
           }
          ],
          "choropleth": [
           {
            "colorbar": {
             "outlinewidth": 0,
             "ticks": ""
            },
            "type": "choropleth"
           }
          ],
          "contour": [
           {
            "colorbar": {
             "outlinewidth": 0,
             "ticks": ""
            },
            "colorscale": [
             [
              0,
              "#0d0887"
             ],
             [
              0.1111111111111111,
              "#46039f"
             ],
             [
              0.2222222222222222,
              "#7201a8"
             ],
             [
              0.3333333333333333,
              "#9c179e"
             ],
             [
              0.4444444444444444,
              "#bd3786"
             ],
             [
              0.5555555555555556,
              "#d8576b"
             ],
             [
              0.6666666666666666,
              "#ed7953"
             ],
             [
              0.7777777777777778,
              "#fb9f3a"
             ],
             [
              0.8888888888888888,
              "#fdca26"
             ],
             [
              1,
              "#f0f921"
             ]
            ],
            "type": "contour"
           }
          ],
          "contourcarpet": [
           {
            "colorbar": {
             "outlinewidth": 0,
             "ticks": ""
            },
            "type": "contourcarpet"
           }
          ],
          "heatmap": [
           {
            "colorbar": {
             "outlinewidth": 0,
             "ticks": ""
            },
            "colorscale": [
             [
              0,
              "#0d0887"
             ],
             [
              0.1111111111111111,
              "#46039f"
             ],
             [
              0.2222222222222222,
              "#7201a8"
             ],
             [
              0.3333333333333333,
              "#9c179e"
             ],
             [
              0.4444444444444444,
              "#bd3786"
             ],
             [
              0.5555555555555556,
              "#d8576b"
             ],
             [
              0.6666666666666666,
              "#ed7953"
             ],
             [
              0.7777777777777778,
              "#fb9f3a"
             ],
             [
              0.8888888888888888,
              "#fdca26"
             ],
             [
              1,
              "#f0f921"
             ]
            ],
            "type": "heatmap"
           }
          ],
          "heatmapgl": [
           {
            "colorbar": {
             "outlinewidth": 0,
             "ticks": ""
            },
            "colorscale": [
             [
              0,
              "#0d0887"
             ],
             [
              0.1111111111111111,
              "#46039f"
             ],
             [
              0.2222222222222222,
              "#7201a8"
             ],
             [
              0.3333333333333333,
              "#9c179e"
             ],
             [
              0.4444444444444444,
              "#bd3786"
             ],
             [
              0.5555555555555556,
              "#d8576b"
             ],
             [
              0.6666666666666666,
              "#ed7953"
             ],
             [
              0.7777777777777778,
              "#fb9f3a"
             ],
             [
              0.8888888888888888,
              "#fdca26"
             ],
             [
              1,
              "#f0f921"
             ]
            ],
            "type": "heatmapgl"
           }
          ],
          "histogram": [
           {
            "marker": {
             "pattern": {
              "fillmode": "overlay",
              "size": 10,
              "solidity": 0.2
             }
            },
            "type": "histogram"
           }
          ],
          "histogram2d": [
           {
            "colorbar": {
             "outlinewidth": 0,
             "ticks": ""
            },
            "colorscale": [
             [
              0,
              "#0d0887"
             ],
             [
              0.1111111111111111,
              "#46039f"
             ],
             [
              0.2222222222222222,
              "#7201a8"
             ],
             [
              0.3333333333333333,
              "#9c179e"
             ],
             [
              0.4444444444444444,
              "#bd3786"
             ],
             [
              0.5555555555555556,
              "#d8576b"
             ],
             [
              0.6666666666666666,
              "#ed7953"
             ],
             [
              0.7777777777777778,
              "#fb9f3a"
             ],
             [
              0.8888888888888888,
              "#fdca26"
             ],
             [
              1,
              "#f0f921"
             ]
            ],
            "type": "histogram2d"
           }
          ],
          "histogram2dcontour": [
           {
            "colorbar": {
             "outlinewidth": 0,
             "ticks": ""
            },
            "colorscale": [
             [
              0,
              "#0d0887"
             ],
             [
              0.1111111111111111,
              "#46039f"
             ],
             [
              0.2222222222222222,
              "#7201a8"
             ],
             [
              0.3333333333333333,
              "#9c179e"
             ],
             [
              0.4444444444444444,
              "#bd3786"
             ],
             [
              0.5555555555555556,
              "#d8576b"
             ],
             [
              0.6666666666666666,
              "#ed7953"
             ],
             [
              0.7777777777777778,
              "#fb9f3a"
             ],
             [
              0.8888888888888888,
              "#fdca26"
             ],
             [
              1,
              "#f0f921"
             ]
            ],
            "type": "histogram2dcontour"
           }
          ],
          "mesh3d": [
           {
            "colorbar": {
             "outlinewidth": 0,
             "ticks": ""
            },
            "type": "mesh3d"
           }
          ],
          "parcoords": [
           {
            "line": {
             "colorbar": {
              "outlinewidth": 0,
              "ticks": ""
             }
            },
            "type": "parcoords"
           }
          ],
          "pie": [
           {
            "automargin": true,
            "type": "pie"
           }
          ],
          "scatter": [
           {
            "fillpattern": {
             "fillmode": "overlay",
             "size": 10,
             "solidity": 0.2
            },
            "type": "scatter"
           }
          ],
          "scatter3d": [
           {
            "line": {
             "colorbar": {
              "outlinewidth": 0,
              "ticks": ""
             }
            },
            "marker": {
             "colorbar": {
              "outlinewidth": 0,
              "ticks": ""
             }
            },
            "type": "scatter3d"
           }
          ],
          "scattercarpet": [
           {
            "marker": {
             "colorbar": {
              "outlinewidth": 0,
              "ticks": ""
             }
            },
            "type": "scattercarpet"
           }
          ],
          "scattergeo": [
           {
            "marker": {
             "colorbar": {
              "outlinewidth": 0,
              "ticks": ""
             }
            },
            "type": "scattergeo"
           }
          ],
          "scattergl": [
           {
            "marker": {
             "colorbar": {
              "outlinewidth": 0,
              "ticks": ""
             }
            },
            "type": "scattergl"
           }
          ],
          "scattermapbox": [
           {
            "marker": {
             "colorbar": {
              "outlinewidth": 0,
              "ticks": ""
             }
            },
            "type": "scattermapbox"
           }
          ],
          "scatterpolar": [
           {
            "marker": {
             "colorbar": {
              "outlinewidth": 0,
              "ticks": ""
             }
            },
            "type": "scatterpolar"
           }
          ],
          "scatterpolargl": [
           {
            "marker": {
             "colorbar": {
              "outlinewidth": 0,
              "ticks": ""
             }
            },
            "type": "scatterpolargl"
           }
          ],
          "scatterternary": [
           {
            "marker": {
             "colorbar": {
              "outlinewidth": 0,
              "ticks": ""
             }
            },
            "type": "scatterternary"
           }
          ],
          "surface": [
           {
            "colorbar": {
             "outlinewidth": 0,
             "ticks": ""
            },
            "colorscale": [
             [
              0,
              "#0d0887"
             ],
             [
              0.1111111111111111,
              "#46039f"
             ],
             [
              0.2222222222222222,
              "#7201a8"
             ],
             [
              0.3333333333333333,
              "#9c179e"
             ],
             [
              0.4444444444444444,
              "#bd3786"
             ],
             [
              0.5555555555555556,
              "#d8576b"
             ],
             [
              0.6666666666666666,
              "#ed7953"
             ],
             [
              0.7777777777777778,
              "#fb9f3a"
             ],
             [
              0.8888888888888888,
              "#fdca26"
             ],
             [
              1,
              "#f0f921"
             ]
            ],
            "type": "surface"
           }
          ],
          "table": [
           {
            "cells": {
             "fill": {
              "color": "#EBF0F8"
             },
             "line": {
              "color": "white"
             }
            },
            "header": {
             "fill": {
              "color": "#C8D4E3"
             },
             "line": {
              "color": "white"
             }
            },
            "type": "table"
           }
          ]
         },
         "layout": {
          "annotationdefaults": {
           "arrowcolor": "#2a3f5f",
           "arrowhead": 0,
           "arrowwidth": 1
          },
          "autotypenumbers": "strict",
          "coloraxis": {
           "colorbar": {
            "outlinewidth": 0,
            "ticks": ""
           }
          },
          "colorscale": {
           "diverging": [
            [
             0,
             "#8e0152"
            ],
            [
             0.1,
             "#c51b7d"
            ],
            [
             0.2,
             "#de77ae"
            ],
            [
             0.3,
             "#f1b6da"
            ],
            [
             0.4,
             "#fde0ef"
            ],
            [
             0.5,
             "#f7f7f7"
            ],
            [
             0.6,
             "#e6f5d0"
            ],
            [
             0.7,
             "#b8e186"
            ],
            [
             0.8,
             "#7fbc41"
            ],
            [
             0.9,
             "#4d9221"
            ],
            [
             1,
             "#276419"
            ]
           ],
           "sequential": [
            [
             0,
             "#0d0887"
            ],
            [
             0.1111111111111111,
             "#46039f"
            ],
            [
             0.2222222222222222,
             "#7201a8"
            ],
            [
             0.3333333333333333,
             "#9c179e"
            ],
            [
             0.4444444444444444,
             "#bd3786"
            ],
            [
             0.5555555555555556,
             "#d8576b"
            ],
            [
             0.6666666666666666,
             "#ed7953"
            ],
            [
             0.7777777777777778,
             "#fb9f3a"
            ],
            [
             0.8888888888888888,
             "#fdca26"
            ],
            [
             1,
             "#f0f921"
            ]
           ],
           "sequentialminus": [
            [
             0,
             "#0d0887"
            ],
            [
             0.1111111111111111,
             "#46039f"
            ],
            [
             0.2222222222222222,
             "#7201a8"
            ],
            [
             0.3333333333333333,
             "#9c179e"
            ],
            [
             0.4444444444444444,
             "#bd3786"
            ],
            [
             0.5555555555555556,
             "#d8576b"
            ],
            [
             0.6666666666666666,
             "#ed7953"
            ],
            [
             0.7777777777777778,
             "#fb9f3a"
            ],
            [
             0.8888888888888888,
             "#fdca26"
            ],
            [
             1,
             "#f0f921"
            ]
           ]
          },
          "colorway": [
           "#636efa",
           "#EF553B",
           "#00cc96",
           "#ab63fa",
           "#FFA15A",
           "#19d3f3",
           "#FF6692",
           "#B6E880",
           "#FF97FF",
           "#FECB52"
          ],
          "font": {
           "color": "#2a3f5f"
          },
          "geo": {
           "bgcolor": "white",
           "lakecolor": "white",
           "landcolor": "#E5ECF6",
           "showlakes": true,
           "showland": true,
           "subunitcolor": "white"
          },
          "hoverlabel": {
           "align": "left"
          },
          "hovermode": "closest",
          "mapbox": {
           "style": "light"
          },
          "paper_bgcolor": "white",
          "plot_bgcolor": "#E5ECF6",
          "polar": {
           "angularaxis": {
            "gridcolor": "white",
            "linecolor": "white",
            "ticks": ""
           },
           "bgcolor": "#E5ECF6",
           "radialaxis": {
            "gridcolor": "white",
            "linecolor": "white",
            "ticks": ""
           }
          },
          "scene": {
           "xaxis": {
            "backgroundcolor": "#E5ECF6",
            "gridcolor": "white",
            "gridwidth": 2,
            "linecolor": "white",
            "showbackground": true,
            "ticks": "",
            "zerolinecolor": "white"
           },
           "yaxis": {
            "backgroundcolor": "#E5ECF6",
            "gridcolor": "white",
            "gridwidth": 2,
            "linecolor": "white",
            "showbackground": true,
            "ticks": "",
            "zerolinecolor": "white"
           },
           "zaxis": {
            "backgroundcolor": "#E5ECF6",
            "gridcolor": "white",
            "gridwidth": 2,
            "linecolor": "white",
            "showbackground": true,
            "ticks": "",
            "zerolinecolor": "white"
           }
          },
          "shapedefaults": {
           "line": {
            "color": "#2a3f5f"
           }
          },
          "ternary": {
           "aaxis": {
            "gridcolor": "white",
            "linecolor": "white",
            "ticks": ""
           },
           "baxis": {
            "gridcolor": "white",
            "linecolor": "white",
            "ticks": ""
           },
           "bgcolor": "#E5ECF6",
           "caxis": {
            "gridcolor": "white",
            "linecolor": "white",
            "ticks": ""
           }
          },
          "title": {
           "x": 0.05
          },
          "xaxis": {
           "automargin": true,
           "gridcolor": "white",
           "linecolor": "white",
           "ticks": "",
           "title": {
            "standoff": 15
           },
           "zerolinecolor": "white",
           "zerolinewidth": 2
          },
          "yaxis": {
           "automargin": true,
           "gridcolor": "white",
           "linecolor": "white",
           "ticks": "",
           "title": {
            "standoff": 15
           },
           "zerolinecolor": "white",
           "zerolinewidth": 2
          }
         }
        },
        "title": {
         "text": "Scatter Plot: Shot Percentage vs Z-Score Shot Percentage"
        },
        "xaxis": {
         "anchor": "y",
         "domain": [
          0,
          1
         ],
         "title": {
          "text": "Shot Percentage"
         }
        },
        "yaxis": {
         "anchor": "x",
         "domain": [
          0,
          1
         ],
         "title": {
          "text": "Z-Score Shot Percentage"
         }
        }
       }
      }
     },
     "metadata": {},
     "output_type": "display_data"
    }
   ],
   "source": [
    "import plotly.express as px\n",
    "\n",
    "# Assuming your dataset is stored in a DataFrame called 'player_game_stats3PT'\n",
    "shot_percentage = player_game_stats3PT['shot_percentage']\n",
    "z_score_shot_percentage = player_game_stats3PT['z_score_shot_percentage']\n",
    "player_names = player_game_stats3PT['player_name']\n",
    "season_ids = player_game_stats3PT['level_1']\n",
    "\n",
    "# Create a scatter plot using Plotly Express\n",
    "fig = px.scatter(player_game_stats3PT, x=shot_percentage, y=z_score_shot_percentage,\n",
    "                 hover_data={'player_name': True, 'level_1': True})\n",
    "\n",
    "# Update the hover tooltip labels\n",
    "fig.update_traces(text=[f\"{name}, {season}\" for name, season in zip(player_names, season_ids)])\n",
    "\n",
    "# Customize axes labels and plot title\n",
    "fig.update_layout(\n",
    "    xaxis_title='Shot Percentage',\n",
    "    yaxis_title='Z-Score Shot Percentage',\n",
    "    title='Scatter Plot: Shot Percentage vs Z-Score Shot Percentage'\n",
    ")\n",
    "\n",
    "# Display the plot\n",
    "fig.show()\n"
   ]
  },
  {
   "cell_type": "code",
   "execution_count": 17,
   "metadata": {},
   "outputs": [
    {
     "data": {
      "image/png": "[encoded data removed]",
      "text/plain": [
       "<Figure size 800x600 with 2 Axes>"
      ]
     },
     "metadata": {},
     "output_type": "display_data"
    }
   ],
   "source": [
    "import seaborn as sns\n",
    "import matplotlib.pyplot as plt\n",
    "\n",
    "# Select the numeric columns for correlation\n",
    "numeric_columns = ['game_id', 'shot_percentage', 'made', 'attempt']\n",
    "\n",
    "# Subset the DataFrame with the numeric columns\n",
    "numeric_data = player_game_stats3PT[numeric_columns]\n",
    "\n",
    "# Compute the correlation matrix\n",
    "correlation_matrix = numeric_data.corr()\n",
    "\n",
    "# Create a heatmap of the correlation matrix\n",
    "plt.figure(figsize=(8, 6))\n",
    "sns.heatmap(correlation_matrix, annot=True, cmap='coolwarm')\n",
    "plt.title('Correlation Heatmap')\n",
    "plt.show()"
   ]
  },
  {
   "attachments": {},
   "cell_type": "markdown",
   "metadata": {},
   "source": [
    "Findings:\n",
    "    \n",
    "    Missing two total seasons 1988 and 2017 \n",
    "\n",
    "    only the games since the last team relocation are stored e. g. Golden State Warriors\n",
    "        --> TeamID in the query solves this \n",
    "    investigate seasons 1998 further\n",
    "    \n",
    "    timely investigation reasonable since 1966 beforehand the were no fixed amount of games per team and year\n",
    "    \n",
    "    Season games are only in the table check it for another season then 02/03\n",
    "    "
   ]
  },
  {
   "cell_type": "code",
   "execution_count": 98,
   "metadata": {},
   "outputs": [
    {
     "data": {
      "text/html": [
       "<div>\n",
       "<style scoped>\n",
       "    .dataframe tbody tr th:only-of-type {\n",
       "        vertical-align: middle;\n",
       "    }\n",
       "\n",
       "    .dataframe tbody tr th {\n",
       "        vertical-align: top;\n",
       "    }\n",
       "\n",
       "    .dataframe thead th {\n",
       "        text-align: right;\n",
       "    }\n",
       "</style>\n",
       "<table border=\"1\" class=\"dataframe\">\n",
       "  <thead>\n",
       "    <tr style=\"text-align: right;\">\n",
       "      <th></th>\n",
       "      <th>player1_id</th>\n",
       "      <th>season_id_x</th>\n",
       "      <th>game_id</th>\n",
       "      <th>level_1</th>\n",
       "      <th>attempt</th>\n",
       "      <th>made</th>\n",
       "      <th>attempt_zscore</th>\n",
       "      <th>made_zscore</th>\n",
       "      <th>z_score_shot_percentage</th>\n",
       "      <th>shot_percentage</th>\n",
       "      <th>person_id</th>\n",
       "      <th>season_id</th>\n",
       "    </tr>\n",
       "  </thead>\n",
       "  <tbody>\n",
       "    <tr>\n",
       "      <th>count</th>\n",
       "      <td>30.000000</td>\n",
       "      <td>30.000000</td>\n",
       "      <td>30.000000</td>\n",
       "      <td>30.000000</td>\n",
       "      <td>30.000000</td>\n",
       "      <td>30.000000</td>\n",
       "      <td>30.000000</td>\n",
       "      <td>30.000000</td>\n",
       "      <td>30.000000</td>\n",
       "      <td>30.000000</td>\n",
       "      <td>30.000000</td>\n",
       "      <td>30.0</td>\n",
       "    </tr>\n",
       "    <tr>\n",
       "      <th>mean</th>\n",
       "      <td>201960.833333</td>\n",
       "      <td>2013.400000</td>\n",
       "      <td>62.933333</td>\n",
       "      <td>2013.400000</td>\n",
       "      <td>422.333333</td>\n",
       "      <td>170.733333</td>\n",
       "      <td>0.056906</td>\n",
       "      <td>0.107510</td>\n",
       "      <td>2.289387</td>\n",
       "      <td>0.398328</td>\n",
       "      <td>201960.833333</td>\n",
       "      <td>2009.0</td>\n",
       "    </tr>\n",
       "    <tr>\n",
       "      <th>std</th>\n",
       "      <td>17.561877</td>\n",
       "      <td>3.233446</td>\n",
       "      <td>13.232492</td>\n",
       "      <td>3.233446</td>\n",
       "      <td>86.949186</td>\n",
       "      <td>50.404525</td>\n",
       "      <td>0.246595</td>\n",
       "      <td>0.434006</td>\n",
       "      <td>1.239865</td>\n",
       "      <td>0.056816</td>\n",
       "      <td>17.561877</td>\n",
       "      <td>0.0</td>\n",
       "    </tr>\n",
       "    <tr>\n",
       "      <th>min</th>\n",
       "      <td>201933.000000</td>\n",
       "      <td>2009.000000</td>\n",
       "      <td>32.000000</td>\n",
       "      <td>2009.000000</td>\n",
       "      <td>258.000000</td>\n",
       "      <td>74.000000</td>\n",
       "      <td>-0.382861</td>\n",
       "      <td>-0.567149</td>\n",
       "      <td>1.410042</td>\n",
       "      <td>0.286822</td>\n",
       "      <td>201933.000000</td>\n",
       "      <td>2009.0</td>\n",
       "    </tr>\n",
       "    <tr>\n",
       "      <th>25%</th>\n",
       "      <td>201943.500000</td>\n",
       "      <td>2011.000000</td>\n",
       "      <td>57.500000</td>\n",
       "      <td>2011.000000</td>\n",
       "      <td>357.750000</td>\n",
       "      <td>132.750000</td>\n",
       "      <td>-0.093891</td>\n",
       "      <td>-0.283527</td>\n",
       "      <td>1.510368</td>\n",
       "      <td>0.356165</td>\n",
       "      <td>201943.500000</td>\n",
       "      <td>2009.0</td>\n",
       "    </tr>\n",
       "    <tr>\n",
       "      <th>50%</th>\n",
       "      <td>201960.500000</td>\n",
       "      <td>2013.000000</td>\n",
       "      <td>66.000000</td>\n",
       "      <td>2013.000000</td>\n",
       "      <td>419.500000</td>\n",
       "      <td>172.500000</td>\n",
       "      <td>0.063532</td>\n",
       "      <td>0.180143</td>\n",
       "      <td>1.863998</td>\n",
       "      <td>0.410506</td>\n",
       "      <td>201960.500000</td>\n",
       "      <td>2009.0</td>\n",
       "    </tr>\n",
       "    <tr>\n",
       "      <th>75%</th>\n",
       "      <td>201972.500000</td>\n",
       "      <td>2016.000000</td>\n",
       "      <td>71.750000</td>\n",
       "      <td>2016.000000</td>\n",
       "      <td>476.000000</td>\n",
       "      <td>206.750000</td>\n",
       "      <td>0.177698</td>\n",
       "      <td>0.369956</td>\n",
       "      <td>2.442398</td>\n",
       "      <td>0.431637</td>\n",
       "      <td>201972.500000</td>\n",
       "      <td>2009.0</td>\n",
       "    </tr>\n",
       "    <tr>\n",
       "      <th>max</th>\n",
       "      <td>201988.000000</td>\n",
       "      <td>2021.000000</td>\n",
       "      <td>79.000000</td>\n",
       "      <td>2021.000000</td>\n",
       "      <td>619.000000</td>\n",
       "      <td>281.000000</td>\n",
       "      <td>0.572545</td>\n",
       "      <td>0.958456</td>\n",
       "      <td>6.092750</td>\n",
       "      <td>0.507109</td>\n",
       "      <td>201988.000000</td>\n",
       "      <td>2009.0</td>\n",
       "    </tr>\n",
       "  </tbody>\n",
       "</table>\n",
       "</div>"
      ],
      "text/plain": [
       "          player1_id  season_id_x    game_id      level_1     attempt  \\\n",
       "count  30.000000      30.000000    30.000000  30.000000    30.000000    \n",
       "mean   201960.833333  2013.400000  62.933333  2013.400000  422.333333   \n",
       "std    17.561877      3.233446     13.232492  3.233446     86.949186    \n",
       "min    201933.000000  2009.000000  32.000000  2009.000000  258.000000   \n",
       "25%    201943.500000  2011.000000  57.500000  2011.000000  357.750000   \n",
       "50%    201960.500000  2013.000000  66.000000  2013.000000  419.500000   \n",
       "75%    201972.500000  2016.000000  71.750000  2016.000000  476.000000   \n",
       "max    201988.000000  2021.000000  79.000000  2021.000000  619.000000   \n",
       "\n",
       "             made  attempt_zscore  made_zscore  z_score_shot_percentage  \\\n",
       "count  30.000000   30.000000       30.000000    30.000000                 \n",
       "mean   170.733333  0.056906        0.107510     2.289387                  \n",
       "std    50.404525   0.246595        0.434006     1.239865                  \n",
       "min    74.000000  -0.382861       -0.567149     1.410042                  \n",
       "25%    132.750000 -0.093891       -0.283527     1.510368                  \n",
       "50%    172.500000  0.063532        0.180143     1.863998                  \n",
       "75%    206.750000  0.177698        0.369956     2.442398                  \n",
       "max    281.000000  0.572545        0.958456     6.092750                  \n",
       "\n",
       "       shot_percentage      person_id  season_id  \n",
       "count  30.000000        30.000000      30.0       \n",
       "mean   0.398328         201960.833333  2009.0     \n",
       "std    0.056816         17.561877      0.0        \n",
       "min    0.286822         201933.000000  2009.0     \n",
       "25%    0.356165         201943.500000  2009.0     \n",
       "50%    0.410506         201960.500000  2009.0     \n",
       "75%    0.431637         201972.500000  2009.0     \n",
       "max    0.507109         201988.000000  2009.0     "
      ]
     },
     "execution_count": 98,
     "metadata": {},
     "output_type": "execute_result"
    }
   ],
   "source": [
    "players_to_consider = player_game_stats3PT\n",
    "top_players = players_to_consider.sort_values('z_score_shot_percentage', ascending=False).groupby('season_id').head(30)\n",
    "top_players.describe()"
   ]
  },
  {
   "cell_type": "code",
   "execution_count": 64,
   "metadata": {},
   "outputs": [
    {
     "data": {
      "text/html": [
       "<div>\n",
       "<style scoped>\n",
       "    .dataframe tbody tr th:only-of-type {\n",
       "        vertical-align: middle;\n",
       "    }\n",
       "\n",
       "    .dataframe tbody tr th {\n",
       "        vertical-align: top;\n",
       "    }\n",
       "\n",
       "    .dataframe thead th {\n",
       "        text-align: right;\n",
       "    }\n",
       "</style>\n",
       "<table border=\"1\" class=\"dataframe\">\n",
       "  <thead>\n",
       "    <tr style=\"text-align: right;\">\n",
       "      <th></th>\n",
       "      <th>player1_id</th>\n",
       "      <th>season_id_x</th>\n",
       "      <th>game_id</th>\n",
       "      <th>level_1</th>\n",
       "      <th>attempt</th>\n",
       "      <th>made</th>\n",
       "      <th>shot_percentage</th>\n",
       "      <th>person_id</th>\n",
       "      <th>season_id</th>\n",
       "      <th>player_name</th>\n",
       "      <th>first_name</th>\n",
       "      <th>last_name</th>\n",
       "      <th>draft_round</th>\n",
       "      <th>draft_number</th>\n",
       "      <th>draft_year</th>\n",
       "    </tr>\n",
       "  </thead>\n",
       "  <tbody>\n",
       "    <tr>\n",
       "      <th>194</th>\n",
       "      <td>201974</td>\n",
       "      <td>2010</td>\n",
       "      <td>31</td>\n",
       "      <td>2010</td>\n",
       "      <td>55</td>\n",
       "      <td>49.0</td>\n",
       "      <td>0.890909</td>\n",
       "      <td>201974</td>\n",
       "      <td>2009</td>\n",
       "      <td>Derrick Brown</td>\n",
       "      <td>NaN</td>\n",
       "      <td>NaN</td>\n",
       "      <td>NaN</td>\n",
       "      <td>NaN</td>\n",
       "      <td>NaN</td>\n",
       "    </tr>\n",
       "    <tr>\n",
       "      <th>176</th>\n",
       "      <td>201970</td>\n",
       "      <td>2010</td>\n",
       "      <td>38</td>\n",
       "      <td>2010</td>\n",
       "      <td>67</td>\n",
       "      <td>59.0</td>\n",
       "      <td>0.880597</td>\n",
       "      <td>201970</td>\n",
       "      <td>2009</td>\n",
       "      <td>Sam Young</td>\n",
       "      <td>Sam</td>\n",
       "      <td>Young</td>\n",
       "      <td>2</td>\n",
       "      <td>36</td>\n",
       "      <td>2009</td>\n",
       "    </tr>\n",
       "    <tr>\n",
       "      <th>170</th>\n",
       "      <td>201967</td>\n",
       "      <td>2013</td>\n",
       "      <td>32</td>\n",
       "      <td>2013</td>\n",
       "      <td>48</td>\n",
       "      <td>42.0</td>\n",
       "      <td>0.875000</td>\n",
       "      <td>201967</td>\n",
       "      <td>2009</td>\n",
       "      <td>Dante Cunningham</td>\n",
       "      <td>NaN</td>\n",
       "      <td>NaN</td>\n",
       "      <td>NaN</td>\n",
       "      <td>NaN</td>\n",
       "      <td>NaN</td>\n",
       "    </tr>\n",
       "    <tr>\n",
       "      <th>148</th>\n",
       "      <td>201962</td>\n",
       "      <td>2009</td>\n",
       "      <td>27</td>\n",
       "      <td>2009</td>\n",
       "      <td>44</td>\n",
       "      <td>38.0</td>\n",
       "      <td>0.863636</td>\n",
       "      <td>201962</td>\n",
       "      <td>2009</td>\n",
       "      <td>Toney Douglas</td>\n",
       "      <td>NaN</td>\n",
       "      <td>NaN</td>\n",
       "      <td>NaN</td>\n",
       "      <td>NaN</td>\n",
       "      <td>NaN</td>\n",
       "    </tr>\n",
       "    <tr>\n",
       "      <th>142</th>\n",
       "      <td>201961</td>\n",
       "      <td>2009</td>\n",
       "      <td>30</td>\n",
       "      <td>2009</td>\n",
       "      <td>41</td>\n",
       "      <td>35.0</td>\n",
       "      <td>0.853659</td>\n",
       "      <td>201961</td>\n",
       "      <td>2009</td>\n",
       "      <td>Wayne Ellington</td>\n",
       "      <td>Wayne</td>\n",
       "      <td>Ellington</td>\n",
       "      <td>1</td>\n",
       "      <td>28</td>\n",
       "      <td>2009</td>\n",
       "    </tr>\n",
       "    <tr>\n",
       "      <th>120</th>\n",
       "      <td>201956</td>\n",
       "      <td>2014</td>\n",
       "      <td>47</td>\n",
       "      <td>2014</td>\n",
       "      <td>94</td>\n",
       "      <td>80.0</td>\n",
       "      <td>0.851064</td>\n",
       "      <td>201956</td>\n",
       "      <td>2009</td>\n",
       "      <td>Omri Casspi</td>\n",
       "      <td>NaN</td>\n",
       "      <td>NaN</td>\n",
       "      <td>NaN</td>\n",
       "      <td>NaN</td>\n",
       "      <td>NaN</td>\n",
       "    </tr>\n",
       "    <tr>\n",
       "      <th>2</th>\n",
       "      <td>201933</td>\n",
       "      <td>2012</td>\n",
       "      <td>73</td>\n",
       "      <td>2012</td>\n",
       "      <td>303</td>\n",
       "      <td>257.0</td>\n",
       "      <td>0.848185</td>\n",
       "      <td>201933</td>\n",
       "      <td>2009</td>\n",
       "      <td>Blake Griffin</td>\n",
       "      <td>Blake</td>\n",
       "      <td>Griffin</td>\n",
       "      <td>1</td>\n",
       "      <td>1</td>\n",
       "      <td>2009</td>\n",
       "    </tr>\n",
       "    <tr>\n",
       "      <th>109</th>\n",
       "      <td>201954</td>\n",
       "      <td>2009</td>\n",
       "      <td>51</td>\n",
       "      <td>2009</td>\n",
       "      <td>97</td>\n",
       "      <td>82.0</td>\n",
       "      <td>0.845361</td>\n",
       "      <td>201954</td>\n",
       "      <td>2009</td>\n",
       "      <td>Darren Collison</td>\n",
       "      <td>NaN</td>\n",
       "      <td>NaN</td>\n",
       "      <td>NaN</td>\n",
       "      <td>NaN</td>\n",
       "      <td>NaN</td>\n",
       "    </tr>\n",
       "    <tr>\n",
       "      <th>195</th>\n",
       "      <td>201974</td>\n",
       "      <td>2011</td>\n",
       "      <td>49</td>\n",
       "      <td>2011</td>\n",
       "      <td>88</td>\n",
       "      <td>74.0</td>\n",
       "      <td>0.840909</td>\n",
       "      <td>201974</td>\n",
       "      <td>2009</td>\n",
       "      <td>Derrick Brown</td>\n",
       "      <td>NaN</td>\n",
       "      <td>NaN</td>\n",
       "      <td>NaN</td>\n",
       "      <td>NaN</td>\n",
       "      <td>NaN</td>\n",
       "    </tr>\n",
       "    <tr>\n",
       "      <th>113</th>\n",
       "      <td>201954</td>\n",
       "      <td>2013</td>\n",
       "      <td>57</td>\n",
       "      <td>2013</td>\n",
       "      <td>113</td>\n",
       "      <td>95.0</td>\n",
       "      <td>0.840708</td>\n",
       "      <td>201954</td>\n",
       "      <td>2009</td>\n",
       "      <td>Darren Collison</td>\n",
       "      <td>NaN</td>\n",
       "      <td>NaN</td>\n",
       "      <td>NaN</td>\n",
       "      <td>NaN</td>\n",
       "      <td>NaN</td>\n",
       "    </tr>\n",
       "    <tr>\n",
       "      <th>12</th>\n",
       "      <td>201935</td>\n",
       "      <td>2011</td>\n",
       "      <td>50</td>\n",
       "      <td>2011</td>\n",
       "      <td>137</td>\n",
       "      <td>115.0</td>\n",
       "      <td>0.839416</td>\n",
       "      <td>201935</td>\n",
       "      <td>2009</td>\n",
       "      <td>James Harden</td>\n",
       "      <td>James</td>\n",
       "      <td>Harden</td>\n",
       "      <td>1</td>\n",
       "      <td>3</td>\n",
       "      <td>2009</td>\n",
       "    </tr>\n",
       "    <tr>\n",
       "      <th>90</th>\n",
       "      <td>201950</td>\n",
       "      <td>2012</td>\n",
       "      <td>66</td>\n",
       "      <td>2012</td>\n",
       "      <td>170</td>\n",
       "      <td>142.0</td>\n",
       "      <td>0.835294</td>\n",
       "      <td>201950</td>\n",
       "      <td>2009</td>\n",
       "      <td>Jrue Holiday</td>\n",
       "      <td>NaN</td>\n",
       "      <td>NaN</td>\n",
       "      <td>NaN</td>\n",
       "      <td>NaN</td>\n",
       "      <td>NaN</td>\n",
       "    </tr>\n",
       "    <tr>\n",
       "      <th>197</th>\n",
       "      <td>201975</td>\n",
       "      <td>2010</td>\n",
       "      <td>28</td>\n",
       "      <td>2010</td>\n",
       "      <td>42</td>\n",
       "      <td>35.0</td>\n",
       "      <td>0.833333</td>\n",
       "      <td>201975</td>\n",
       "      <td>2009</td>\n",
       "      <td>Jodie Meeks</td>\n",
       "      <td>Jodie</td>\n",
       "      <td>Meeks</td>\n",
       "      <td>2</td>\n",
       "      <td>41</td>\n",
       "      <td>2009</td>\n",
       "    </tr>\n",
       "    <tr>\n",
       "      <th>61</th>\n",
       "      <td>201945</td>\n",
       "      <td>2013</td>\n",
       "      <td>50</td>\n",
       "      <td>2013</td>\n",
       "      <td>95</td>\n",
       "      <td>79.0</td>\n",
       "      <td>0.831579</td>\n",
       "      <td>201945</td>\n",
       "      <td>2009</td>\n",
       "      <td>Gerald Henderson</td>\n",
       "      <td>Gerald</td>\n",
       "      <td>Henderson</td>\n",
       "      <td>1</td>\n",
       "      <td>12</td>\n",
       "      <td>2009</td>\n",
       "    </tr>\n",
       "    <tr>\n",
       "      <th>3</th>\n",
       "      <td>201933</td>\n",
       "      <td>2013</td>\n",
       "      <td>73</td>\n",
       "      <td>2013</td>\n",
       "      <td>358</td>\n",
       "      <td>294.0</td>\n",
       "      <td>0.821229</td>\n",
       "      <td>201933</td>\n",
       "      <td>2009</td>\n",
       "      <td>Blake Griffin</td>\n",
       "      <td>Blake</td>\n",
       "      <td>Griffin</td>\n",
       "      <td>1</td>\n",
       "      <td>1</td>\n",
       "      <td>2009</td>\n",
       "    </tr>\n",
       "    <tr>\n",
       "      <th>1</th>\n",
       "      <td>201933</td>\n",
       "      <td>2011</td>\n",
       "      <td>61</td>\n",
       "      <td>2011</td>\n",
       "      <td>313</td>\n",
       "      <td>257.0</td>\n",
       "      <td>0.821086</td>\n",
       "      <td>201933</td>\n",
       "      <td>2009</td>\n",
       "      <td>Blake Griffin</td>\n",
       "      <td>Blake</td>\n",
       "      <td>Griffin</td>\n",
       "      <td>1</td>\n",
       "      <td>1</td>\n",
       "      <td>2009</td>\n",
       "    </tr>\n",
       "    <tr>\n",
       "      <th>72</th>\n",
       "      <td>201947</td>\n",
       "      <td>2012</td>\n",
       "      <td>31</td>\n",
       "      <td>2012</td>\n",
       "      <td>67</td>\n",
       "      <td>55.0</td>\n",
       "      <td>0.820896</td>\n",
       "      <td>201947</td>\n",
       "      <td>2009</td>\n",
       "      <td>Earl Clark</td>\n",
       "      <td>NaN</td>\n",
       "      <td>NaN</td>\n",
       "      <td>NaN</td>\n",
       "      <td>NaN</td>\n",
       "      <td>NaN</td>\n",
       "    </tr>\n",
       "    <tr>\n",
       "      <th>200</th>\n",
       "      <td>201975</td>\n",
       "      <td>2013</td>\n",
       "      <td>54</td>\n",
       "      <td>2013</td>\n",
       "      <td>126</td>\n",
       "      <td>103.0</td>\n",
       "      <td>0.817460</td>\n",
       "      <td>201975</td>\n",
       "      <td>2009</td>\n",
       "      <td>Jodie Meeks</td>\n",
       "      <td>Jodie</td>\n",
       "      <td>Meeks</td>\n",
       "      <td>2</td>\n",
       "      <td>41</td>\n",
       "      <td>2009</td>\n",
       "    </tr>\n",
       "    <tr>\n",
       "      <th>169</th>\n",
       "      <td>201967</td>\n",
       "      <td>2012</td>\n",
       "      <td>54</td>\n",
       "      <td>2012</td>\n",
       "      <td>87</td>\n",
       "      <td>71.0</td>\n",
       "      <td>0.816092</td>\n",
       "      <td>201967</td>\n",
       "      <td>2009</td>\n",
       "      <td>Dante Cunningham</td>\n",
       "      <td>NaN</td>\n",
       "      <td>NaN</td>\n",
       "      <td>NaN</td>\n",
       "      <td>NaN</td>\n",
       "      <td>NaN</td>\n",
       "    </tr>\n",
       "    <tr>\n",
       "      <th>132</th>\n",
       "      <td>201959</td>\n",
       "      <td>2011</td>\n",
       "      <td>42</td>\n",
       "      <td>2011</td>\n",
       "      <td>84</td>\n",
       "      <td>68.0</td>\n",
       "      <td>0.809524</td>\n",
       "      <td>201959</td>\n",
       "      <td>2009</td>\n",
       "      <td>Taj Gibson</td>\n",
       "      <td>NaN</td>\n",
       "      <td>NaN</td>\n",
       "      <td>NaN</td>\n",
       "      <td>NaN</td>\n",
       "      <td>NaN</td>\n",
       "    </tr>\n",
       "    <tr>\n",
       "      <th>65</th>\n",
       "      <td>201946</td>\n",
       "      <td>2011</td>\n",
       "      <td>33</td>\n",
       "      <td>2011</td>\n",
       "      <td>42</td>\n",
       "      <td>34.0</td>\n",
       "      <td>0.809524</td>\n",
       "      <td>201946</td>\n",
       "      <td>2009</td>\n",
       "      <td>Tyler Hansbrough</td>\n",
       "      <td>NaN</td>\n",
       "      <td>NaN</td>\n",
       "      <td>NaN</td>\n",
       "      <td>NaN</td>\n",
       "      <td>NaN</td>\n",
       "    </tr>\n",
       "    <tr>\n",
       "      <th>45</th>\n",
       "      <td>201942</td>\n",
       "      <td>2013</td>\n",
       "      <td>68</td>\n",
       "      <td>2013</td>\n",
       "      <td>173</td>\n",
       "      <td>140.0</td>\n",
       "      <td>0.809249</td>\n",
       "      <td>201942</td>\n",
       "      <td>2009</td>\n",
       "      <td>DeMar DeRozan</td>\n",
       "      <td>NaN</td>\n",
       "      <td>NaN</td>\n",
       "      <td>NaN</td>\n",
       "      <td>NaN</td>\n",
       "      <td>NaN</td>\n",
       "    </tr>\n",
       "    <tr>\n",
       "      <th>208</th>\n",
       "      <td>201977</td>\n",
       "      <td>2012</td>\n",
       "      <td>32</td>\n",
       "      <td>2012</td>\n",
       "      <td>52</td>\n",
       "      <td>42.0</td>\n",
       "      <td>0.807692</td>\n",
       "      <td>201977</td>\n",
       "      <td>2009</td>\n",
       "      <td>Marcus Thornton</td>\n",
       "      <td>Marcus</td>\n",
       "      <td>Thornton</td>\n",
       "      <td>2</td>\n",
       "      <td>43</td>\n",
       "      <td>2009</td>\n",
       "    </tr>\n",
       "    <tr>\n",
       "      <th>162</th>\n",
       "      <td>201965</td>\n",
       "      <td>2013</td>\n",
       "      <td>36</td>\n",
       "      <td>2013</td>\n",
       "      <td>52</td>\n",
       "      <td>42.0</td>\n",
       "      <td>0.807692</td>\n",
       "      <td>201965</td>\n",
       "      <td>2009</td>\n",
       "      <td>Jeff Ayres</td>\n",
       "      <td>NaN</td>\n",
       "      <td>NaN</td>\n",
       "      <td>NaN</td>\n",
       "      <td>NaN</td>\n",
       "      <td>NaN</td>\n",
       "    </tr>\n",
       "    <tr>\n",
       "      <th>62</th>\n",
       "      <td>201945</td>\n",
       "      <td>2014</td>\n",
       "      <td>48</td>\n",
       "      <td>2014</td>\n",
       "      <td>104</td>\n",
       "      <td>84.0</td>\n",
       "      <td>0.807692</td>\n",
       "      <td>201945</td>\n",
       "      <td>2009</td>\n",
       "      <td>Gerald Henderson</td>\n",
       "      <td>Gerald</td>\n",
       "      <td>Henderson</td>\n",
       "      <td>1</td>\n",
       "      <td>12</td>\n",
       "      <td>2009</td>\n",
       "    </tr>\n",
       "    <tr>\n",
       "      <th>59</th>\n",
       "      <td>201945</td>\n",
       "      <td>2011</td>\n",
       "      <td>48</td>\n",
       "      <td>2011</td>\n",
       "      <td>106</td>\n",
       "      <td>85.0</td>\n",
       "      <td>0.801887</td>\n",
       "      <td>201945</td>\n",
       "      <td>2009</td>\n",
       "      <td>Gerald Henderson</td>\n",
       "      <td>Gerald</td>\n",
       "      <td>Henderson</td>\n",
       "      <td>1</td>\n",
       "      <td>12</td>\n",
       "      <td>2009</td>\n",
       "    </tr>\n",
       "    <tr>\n",
       "      <th>89</th>\n",
       "      <td>201950</td>\n",
       "      <td>2011</td>\n",
       "      <td>50</td>\n",
       "      <td>2011</td>\n",
       "      <td>100</td>\n",
       "      <td>80.0</td>\n",
       "      <td>0.800000</td>\n",
       "      <td>201950</td>\n",
       "      <td>2009</td>\n",
       "      <td>Jrue Holiday</td>\n",
       "      <td>NaN</td>\n",
       "      <td>NaN</td>\n",
       "      <td>NaN</td>\n",
       "      <td>NaN</td>\n",
       "      <td>NaN</td>\n",
       "    </tr>\n",
       "    <tr>\n",
       "      <th>114</th>\n",
       "      <td>201954</td>\n",
       "      <td>2014</td>\n",
       "      <td>40</td>\n",
       "      <td>2014</td>\n",
       "      <td>95</td>\n",
       "      <td>76.0</td>\n",
       "      <td>0.800000</td>\n",
       "      <td>201954</td>\n",
       "      <td>2009</td>\n",
       "      <td>Darren Collison</td>\n",
       "      <td>NaN</td>\n",
       "      <td>NaN</td>\n",
       "      <td>NaN</td>\n",
       "      <td>NaN</td>\n",
       "      <td>NaN</td>\n",
       "    </tr>\n",
       "    <tr>\n",
       "      <th>92</th>\n",
       "      <td>201950</td>\n",
       "      <td>2014</td>\n",
       "      <td>32</td>\n",
       "      <td>2014</td>\n",
       "      <td>64</td>\n",
       "      <td>51.0</td>\n",
       "      <td>0.796875</td>\n",
       "      <td>201950</td>\n",
       "      <td>2009</td>\n",
       "      <td>Jrue Holiday</td>\n",
       "      <td>NaN</td>\n",
       "      <td>NaN</td>\n",
       "      <td>NaN</td>\n",
       "      <td>NaN</td>\n",
       "      <td>NaN</td>\n",
       "    </tr>\n",
       "    <tr>\n",
       "      <th>81</th>\n",
       "      <td>201949</td>\n",
       "      <td>2009</td>\n",
       "      <td>35</td>\n",
       "      <td>2009</td>\n",
       "      <td>59</td>\n",
       "      <td>47.0</td>\n",
       "      <td>0.796610</td>\n",
       "      <td>201949</td>\n",
       "      <td>2009</td>\n",
       "      <td>James Johnson</td>\n",
       "      <td>James</td>\n",
       "      <td>Johnson</td>\n",
       "      <td>1</td>\n",
       "      <td>16</td>\n",
       "      <td>2009</td>\n",
       "    </tr>\n",
       "  </tbody>\n",
       "</table>\n",
       "</div>"
      ],
      "text/plain": [
       "     player1_id  season_id_x  game_id  level_1  attempt   made  \\\n",
       "194  201974      2010         31       2010     55       49.0    \n",
       "176  201970      2010         38       2010     67       59.0    \n",
       "170  201967      2013         32       2013     48       42.0    \n",
       "148  201962      2009         27       2009     44       38.0    \n",
       "142  201961      2009         30       2009     41       35.0    \n",
       "120  201956      2014         47       2014     94       80.0    \n",
       "2    201933      2012         73       2012     303      257.0   \n",
       "109  201954      2009         51       2009     97       82.0    \n",
       "195  201974      2011         49       2011     88       74.0    \n",
       "113  201954      2013         57       2013     113      95.0    \n",
       "12   201935      2011         50       2011     137      115.0   \n",
       "90   201950      2012         66       2012     170      142.0   \n",
       "197  201975      2010         28       2010     42       35.0    \n",
       "61   201945      2013         50       2013     95       79.0    \n",
       "3    201933      2013         73       2013     358      294.0   \n",
       "1    201933      2011         61       2011     313      257.0   \n",
       "72   201947      2012         31       2012     67       55.0    \n",
       "200  201975      2013         54       2013     126      103.0   \n",
       "169  201967      2012         54       2012     87       71.0    \n",
       "132  201959      2011         42       2011     84       68.0    \n",
       "65   201946      2011         33       2011     42       34.0    \n",
       "45   201942      2013         68       2013     173      140.0   \n",
       "208  201977      2012         32       2012     52       42.0    \n",
       "162  201965      2013         36       2013     52       42.0    \n",
       "62   201945      2014         48       2014     104      84.0    \n",
       "59   201945      2011         48       2011     106      85.0    \n",
       "89   201950      2011         50       2011     100      80.0    \n",
       "114  201954      2014         40       2014     95       76.0    \n",
       "92   201950      2014         32       2014     64       51.0    \n",
       "81   201949      2009         35       2009     59       47.0    \n",
       "\n",
       "     shot_percentage  person_id  season_id       player_name first_name  \\\n",
       "194  0.890909         201974     2009       Derrick Brown     NaN         \n",
       "176  0.880597         201970     2009       Sam Young         Sam         \n",
       "170  0.875000         201967     2009       Dante Cunningham  NaN         \n",
       "148  0.863636         201962     2009       Toney Douglas     NaN         \n",
       "142  0.853659         201961     2009       Wayne Ellington   Wayne       \n",
       "120  0.851064         201956     2009       Omri Casspi       NaN         \n",
       "2    0.848185         201933     2009       Blake Griffin     Blake       \n",
       "109  0.845361         201954     2009       Darren Collison   NaN         \n",
       "195  0.840909         201974     2009       Derrick Brown     NaN         \n",
       "113  0.840708         201954     2009       Darren Collison   NaN         \n",
       "12   0.839416         201935     2009       James Harden      James       \n",
       "90   0.835294         201950     2009       Jrue Holiday      NaN         \n",
       "197  0.833333         201975     2009       Jodie Meeks       Jodie       \n",
       "61   0.831579         201945     2009       Gerald Henderson  Gerald      \n",
       "3    0.821229         201933     2009       Blake Griffin     Blake       \n",
       "1    0.821086         201933     2009       Blake Griffin     Blake       \n",
       "72   0.820896         201947     2009       Earl Clark        NaN         \n",
       "200  0.817460         201975     2009       Jodie Meeks       Jodie       \n",
       "169  0.816092         201967     2009       Dante Cunningham  NaN         \n",
       "132  0.809524         201959     2009       Taj Gibson        NaN         \n",
       "65   0.809524         201946     2009       Tyler Hansbrough  NaN         \n",
       "45   0.809249         201942     2009       DeMar DeRozan     NaN         \n",
       "208  0.807692         201977     2009       Marcus Thornton   Marcus      \n",
       "162  0.807692         201965     2009       Jeff Ayres        NaN         \n",
       "62   0.807692         201945     2009       Gerald Henderson  Gerald      \n",
       "59   0.801887         201945     2009       Gerald Henderson  Gerald      \n",
       "89   0.800000         201950     2009       Jrue Holiday      NaN         \n",
       "114  0.800000         201954     2009       Darren Collison   NaN         \n",
       "92   0.796875         201950     2009       Jrue Holiday      NaN         \n",
       "81   0.796610         201949     2009       James Johnson     James       \n",
       "\n",
       "     last_name draft_round draft_number draft_year  \n",
       "194  NaN        NaN         NaN          NaN        \n",
       "176  Young      2           36           2009       \n",
       "170  NaN        NaN         NaN          NaN        \n",
       "148  NaN        NaN         NaN          NaN        \n",
       "142  Ellington  1           28           2009       \n",
       "120  NaN        NaN         NaN          NaN        \n",
       "2    Griffin    1           1            2009       \n",
       "109  NaN        NaN         NaN          NaN        \n",
       "195  NaN        NaN         NaN          NaN        \n",
       "113  NaN        NaN         NaN          NaN        \n",
       "12   Harden     1           3            2009       \n",
       "90   NaN        NaN         NaN          NaN        \n",
       "197  Meeks      2           41           2009       \n",
       "61   Henderson  1           12           2009       \n",
       "3    Griffin    1           1            2009       \n",
       "1    Griffin    1           1            2009       \n",
       "72   NaN        NaN         NaN          NaN        \n",
       "200  Meeks      2           41           2009       \n",
       "169  NaN        NaN         NaN          NaN        \n",
       "132  NaN        NaN         NaN          NaN        \n",
       "65   NaN        NaN         NaN          NaN        \n",
       "45   NaN        NaN         NaN          NaN        \n",
       "208  Thornton   2           43           2009       \n",
       "162  NaN        NaN         NaN          NaN        \n",
       "62   Henderson  1           12           2009       \n",
       "59   Henderson  1           12           2009       \n",
       "89   NaN        NaN         NaN          NaN        \n",
       "114  NaN        NaN         NaN          NaN        \n",
       "92   NaN        NaN         NaN          NaN        \n",
       "81   Johnson    1           16           2009       "
      ]
     },
     "execution_count": 64,
     "metadata": {},
     "output_type": "execute_result"
    }
   ],
   "source": [
    "players_to_consider = player_game_stats2PT[player_game_stats2PT['attempt']>=40]\n",
    "top_players = players_to_consider.sort_values('shot_percentage', ascending=False).groupby('season_id').head(30)\n",
    "top_players "
   ]
  },
  {
   "cell_type": "code",
   "execution_count": null,
   "metadata": {},
   "outputs": [],
   "source": []
  }
 ],
 "metadata": {
  "kernelspec": {
   "display_name": "mlia",
   "language": "python",
   "name": "python3"
  },
  "language_info": {
   "codemirror_mode": {
    "name": "ipython",
    "version": 3
   },
   "file_extension": ".py",
   "mimetype": "text/x-python",
   "name": "python",
   "nbconvert_exporter": "python",
   "pygments_lexer": "ipython3",
   "version": "3.10.11"
  },
  "orig_nbformat": 4
 },
 "nbformat": 4,
 "nbformat_minor": 2
}
