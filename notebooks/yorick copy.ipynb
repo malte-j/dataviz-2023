{
 "cells": [
  {
   "cell_type": "code",
   "execution_count": 1,
   "metadata": {},
   "outputs": [
    {
     "name": "stdout",
     "output_type": "stream",
     "text": [
      "\u001b[33mThere's a new jupysql version available (0.7.9), you're running 0.7.8. To upgrade: pip install jupysql --upgrade\u001b[0m\n",
      "The sql extension is already loaded. To reload it, use:\n",
      "  %reload_ext sql\n"
     ]
    }
   ],
   "source": [
    "import duckdb\n",
    "import pandas as pd\n",
    "# No need to import duckdb_engine\n",
    "#  jupysql will auto-detect the driver needed based on the connection string!\n",
    "\n",
    "# Import jupysql Jupyter extension to create SQL cells\n",
    "%reload_ext sql\n",
    "%load_ext sql\n",
    "%config SqlMagic.autopandas = True\n",
    "%config SqlMagic.feedback = False\n",
    "%config SqlMagic.displaycon = False\n",
    "%sql duckdb:///:default:"
   ]
  },
  {
   "cell_type": "code",
   "execution_count": 47,
   "metadata": {},
   "outputs": [
    {
     "name": "stdout",
     "output_type": "stream",
     "text": [
      "   season_id  team_id_home team_abbreviation_home           team_name_home  \\\n",
      "0      21946    1610610035                    HUS          Toronto Huskies   \n",
      "1      21946    1610610034                    BOM        St. Louis Bombers   \n",
      "2      21946    1610610032                    PRO  Providence Steamrollers   \n",
      "3      21946    1610610025                    CHS            Chicago Stags   \n",
      "4      21946    1610610028                    DEF          Detroit Falcons   \n",
      "\n",
      "      game_id  game_date matchup_home wl_home  min  fgm_home  fga_home  \\\n",
      "0  0024600001 1946-11-01  HUS vs. NYK       L    0      25.0       NaN   \n",
      "1  0024600003 1946-11-02  BOM vs. PIT       W    0      20.0      59.0   \n",
      "2  0024600002 1946-11-02  PRO vs. BOS       W    0      21.0       NaN   \n",
      "3  0024600004 1946-11-02  CHS vs. NYK       W    0      21.0       NaN   \n",
      "4  0024600005 1946-11-02  DEF vs. WAS       L    0      10.0       NaN   \n",
      "\n",
      "   fg_pct_home  fg3m_home  fg3a_home  fg3_pct_home  ftm_home  fta_home  \\\n",
      "0          NaN        NaN        NaN           NaN      16.0      29.0   \n",
      "1        0.339        NaN        NaN           NaN      16.0       NaN   \n",
      "2          NaN        NaN        NaN           NaN      17.0       NaN   \n",
      "3          NaN        NaN        NaN           NaN      21.0       NaN   \n",
      "4          NaN        NaN        NaN           NaN      13.0       NaN   \n",
      "\n",
      "   ft_pct_home  oreb_home  dreb_home  reb_home  ast_home  stl_home  blk_home  \\\n",
      "0        0.552        NaN        NaN       NaN       NaN       NaN       NaN   \n",
      "1          NaN        NaN        NaN       NaN       NaN       NaN       NaN   \n",
      "2          NaN        NaN        NaN       NaN       NaN       NaN       NaN   \n",
      "3          NaN        NaN        NaN       NaN       NaN       NaN       NaN   \n",
      "4          NaN        NaN        NaN       NaN       NaN       NaN       NaN   \n",
      "\n",
      "   tov_home  pf_home  pts_home  plus_minus_home  video_available_home  \\\n",
      "0       NaN      NaN        66               -2                     0   \n",
      "1       NaN     21.0        56                5                     0   \n",
      "2       NaN      NaN        59                6                     0   \n",
      "3       NaN     20.0        63               16                     0   \n",
      "4       NaN      NaN        33              -17                     0   \n",
      "\n",
      "   team_id_away team_abbreviation_away       team_name_away matchup_away  \\\n",
      "0    1610612752                    NYK      New York Knicks    NYK @ HUS   \n",
      "1    1610610031                    PIT   Pittsburgh Ironmen    PIT @ BOM   \n",
      "2    1610612738                    BOS       Boston Celtics    BOS @ PRO   \n",
      "3    1610612752                    NYK      New York Knicks    NYK @ CHS   \n",
      "4    1610610036                    WAS  Washington Capitols    WAS @ DEF   \n",
      "\n",
      "  wl_away  fgm_away  fga_away  fg_pct_away  fg3m_away  fg3a_away  \\\n",
      "0       W      24.0       NaN          NaN        NaN        NaN   \n",
      "1       L      16.0      72.0        0.222        NaN        NaN   \n",
      "2       L      21.0       NaN          NaN        NaN        NaN   \n",
      "3       L      16.0       NaN          NaN        NaN        NaN   \n",
      "4       W      18.0       NaN          NaN        NaN        NaN   \n",
      "\n",
      "   fg3_pct_away  ftm_away  fta_away  ft_pct_away  oreb_away  dreb_away  \\\n",
      "0           NaN      20.0      26.0        0.769        NaN        NaN   \n",
      "1           NaN      19.0       NaN          NaN        NaN        NaN   \n",
      "2           NaN      11.0       NaN          NaN        NaN        NaN   \n",
      "3           NaN      15.0       NaN          NaN        NaN        NaN   \n",
      "4           NaN      14.0       NaN          NaN        NaN        NaN   \n",
      "\n",
      "   reb_away  ast_away  stl_away  blk_away  tov_away  pf_away  pts_away  \\\n",
      "0       NaN       NaN       NaN       NaN       NaN      NaN        68   \n",
      "1       NaN       NaN       NaN       NaN       NaN     25.0        51   \n",
      "2       NaN       NaN       NaN       NaN       NaN      NaN        53   \n",
      "3       NaN       NaN       NaN       NaN       NaN     22.0        47   \n",
      "4       NaN       NaN       NaN       NaN       NaN      NaN        50   \n",
      "\n",
      "   plus_minus_away  video_available_away  \n",
      "0                2                     0  \n",
      "1               -5                     0  \n",
      "2               -6                     0  \n",
      "3              -16                     0  \n",
      "4               17                     0  \n"
     ]
    }
   ],
   "source": [
    "import matplotlib.pyplot as plt \n",
    "\n",
    "query2 = '''\n",
    "    SELECT \n",
    "    *\n",
    "    FROM read_csv_auto('C:/Users/Yoric/Uni/dataviz-2023/dataset/csv/game.csv')\n",
    "    LIMIT 5\n",
    "'''\n",
    "\n",
    "result = con.execute(query2)\n",
    "data = result.fetchdf()\n",
    "pd.set_option('display.max_columns', 54)\n",
    "print(data)"
   ]
  },
  {
   "attachments": {},
   "cell_type": "markdown",
   "metadata": {},
   "source": [
    "%sql top_schools << SELECT school, count(*) as count FROM read_csv_auto('../dataset/csv/common_player_info.csv') AS common_player_info GROUP BY school ORDER BY count DESC LIMIT 40;\n",
    "top_schools"
   ]
  },
  {
   "cell_type": "code",
   "execution_count": 2,
   "metadata": {},
   "outputs": [
    {
     "data": {
      "application/vnd.plotly.v1+json": {
       "config": {
        "plotlyServerURL": "https://plot.ly"
       },
       "data": [
        {
         "hovertemplate": "season=%{x}<br>home_win_percentage=%{y}<extra></extra>",
         "legendgroup": "",
         "line": {
          "color": "#636efa",
          "dash": "solid"
         },
         "marker": {
          "symbol": "circle"
         },
         "mode": "lines",
         "name": "",
         "orientation": "v",
         "showlegend": false,
         "type": "scatter",
         "x": [
          "1946",
          "1947",
          "1948",
          "1949",
          "1950",
          "1951",
          "1952",
          "1953",
          "1954",
          "1955",
          "1956",
          "1957",
          "1958",
          "1959",
          "1960",
          "1961",
          "1962",
          "1963",
          "1964",
          "1965",
          "1966",
          "1967",
          "1968",
          "1969",
          "1970",
          "1971",
          "1972",
          "1973",
          "1974",
          "1975",
          "1976",
          "1977",
          "1978",
          "1979",
          "1980",
          "1981",
          "1982",
          "1983",
          "1984",
          "1985",
          "1986",
          "1987",
          "1989",
          "1990",
          "1991",
          "1992",
          "1993",
          "1994",
          "1995",
          "1996",
          "1997",
          "1998",
          "1999",
          "2000",
          "2001",
          "2002",
          "2003",
          "2004",
          "2005",
          "2006",
          "2007",
          "2008",
          "2009",
          "2010",
          "2011",
          "2012",
          "2013",
          "2014",
          "2015",
          "2016",
          "2018",
          "2019",
          "2020",
          "2021",
          "2022"
         ],
         "xaxis": "x",
         "y": [
          61.63,
          57.22,
          63.33,
          69.63,
          74.86,
          75.45,
          75.21,
          73.37,
          75.35,
          70,
          77.59,
          70.83,
          70.83,
          69,
          71.66,
          68.35,
          68.33,
          63.33,
          63.33,
          74.17,
          64.94,
          60.98,
          61.85,
          63.24,
          61.12,
          58.25,
          58.82,
          62.12,
          64.09,
          65.31,
          68.51,
          67.63,
          66.52,
          65.3,
          62.14,
          59.92,
          62.04,
          67.87,
          63.73,
          65.43,
          66.49,
          67.87,
          64.41,
          65.94,
          63.14,
          61.07,
          61.16,
          59.71,
          60.39,
          57.49,
          59.55,
          62.34,
          61.06,
          59.8,
          59.13,
          62.83,
          61.4,
          60.49,
          60.33,
          59.11,
          60.08,
          60.81,
          59.43,
          60.41,
          58.59,
          61.14,
          58.05,
          57.48,
          58.86,
          58.37,
          59.27,
          55.15,
          54.35,
          54.39,
          58.45
         ],
         "yaxis": "y"
        }
       ],
       "layout": {
        "legend": {
         "tracegroupgap": 0
        },
        "template": {
         "data": {
          "bar": [
           {
            "error_x": {
             "color": "#2a3f5f"
            },
            "error_y": {
             "color": "#2a3f5f"
            },
            "marker": {
             "line": {
              "color": "#E5ECF6",
              "width": 0.5
             },
             "pattern": {
              "fillmode": "overlay",
              "size": 10,
              "solidity": 0.2
             }
            },
            "type": "bar"
           }
          ],
          "barpolar": [
           {
            "marker": {
             "line": {
              "color": "#E5ECF6",
              "width": 0.5
             },
             "pattern": {
              "fillmode": "overlay",
              "size": 10,
              "solidity": 0.2
             }
            },
            "type": "barpolar"
           }
          ],
          "carpet": [
           {
            "aaxis": {
             "endlinecolor": "#2a3f5f",
             "gridcolor": "white",
             "linecolor": "white",
             "minorgridcolor": "white",
             "startlinecolor": "#2a3f5f"
            },
            "baxis": {
             "endlinecolor": "#2a3f5f",
             "gridcolor": "white",
             "linecolor": "white",
             "minorgridcolor": "white",
             "startlinecolor": "#2a3f5f"
            },
            "type": "carpet"
           }
          ],
          "choropleth": [
           {
            "colorbar": {
             "outlinewidth": 0,
             "ticks": ""
            },
            "type": "choropleth"
           }
          ],
          "contour": [
           {
            "colorbar": {
             "outlinewidth": 0,
             "ticks": ""
            },
            "colorscale": [
             [
              0,
              "#0d0887"
             ],
             [
              0.1111111111111111,
              "#46039f"
             ],
             [
              0.2222222222222222,
              "#7201a8"
             ],
             [
              0.3333333333333333,
              "#9c179e"
             ],
             [
              0.4444444444444444,
              "#bd3786"
             ],
             [
              0.5555555555555556,
              "#d8576b"
             ],
             [
              0.6666666666666666,
              "#ed7953"
             ],
             [
              0.7777777777777778,
              "#fb9f3a"
             ],
             [
              0.8888888888888888,
              "#fdca26"
             ],
             [
              1,
              "#f0f921"
             ]
            ],
            "type": "contour"
           }
          ],
          "contourcarpet": [
           {
            "colorbar": {
             "outlinewidth": 0,
             "ticks": ""
            },
            "type": "contourcarpet"
           }
          ],
          "heatmap": [
           {
            "colorbar": {
             "outlinewidth": 0,
             "ticks": ""
            },
            "colorscale": [
             [
              0,
              "#0d0887"
             ],
             [
              0.1111111111111111,
              "#46039f"
             ],
             [
              0.2222222222222222,
              "#7201a8"
             ],
             [
              0.3333333333333333,
              "#9c179e"
             ],
             [
              0.4444444444444444,
              "#bd3786"
             ],
             [
              0.5555555555555556,
              "#d8576b"
             ],
             [
              0.6666666666666666,
              "#ed7953"
             ],
             [
              0.7777777777777778,
              "#fb9f3a"
             ],
             [
              0.8888888888888888,
              "#fdca26"
             ],
             [
              1,
              "#f0f921"
             ]
            ],
            "type": "heatmap"
           }
          ],
          "heatmapgl": [
           {
            "colorbar": {
             "outlinewidth": 0,
             "ticks": ""
            },
            "colorscale": [
             [
              0,
              "#0d0887"
             ],
             [
              0.1111111111111111,
              "#46039f"
             ],
             [
              0.2222222222222222,
              "#7201a8"
             ],
             [
              0.3333333333333333,
              "#9c179e"
             ],
             [
              0.4444444444444444,
              "#bd3786"
             ],
             [
              0.5555555555555556,
              "#d8576b"
             ],
             [
              0.6666666666666666,
              "#ed7953"
             ],
             [
              0.7777777777777778,
              "#fb9f3a"
             ],
             [
              0.8888888888888888,
              "#fdca26"
             ],
             [
              1,
              "#f0f921"
             ]
            ],
            "type": "heatmapgl"
           }
          ],
          "histogram": [
           {
            "marker": {
             "pattern": {
              "fillmode": "overlay",
              "size": 10,
              "solidity": 0.2
             }
            },
            "type": "histogram"
           }
          ],
          "histogram2d": [
           {
            "colorbar": {
             "outlinewidth": 0,
             "ticks": ""
            },
            "colorscale": [
             [
              0,
              "#0d0887"
             ],
             [
              0.1111111111111111,
              "#46039f"
             ],
             [
              0.2222222222222222,
              "#7201a8"
             ],
             [
              0.3333333333333333,
              "#9c179e"
             ],
             [
              0.4444444444444444,
              "#bd3786"
             ],
             [
              0.5555555555555556,
              "#d8576b"
             ],
             [
              0.6666666666666666,
              "#ed7953"
             ],
             [
              0.7777777777777778,
              "#fb9f3a"
             ],
             [
              0.8888888888888888,
              "#fdca26"
             ],
             [
              1,
              "#f0f921"
             ]
            ],
            "type": "histogram2d"
           }
          ],
          "histogram2dcontour": [
           {
            "colorbar": {
             "outlinewidth": 0,
             "ticks": ""
            },
            "colorscale": [
             [
              0,
              "#0d0887"
             ],
             [
              0.1111111111111111,
              "#46039f"
             ],
             [
              0.2222222222222222,
              "#7201a8"
             ],
             [
              0.3333333333333333,
              "#9c179e"
             ],
             [
              0.4444444444444444,
              "#bd3786"
             ],
             [
              0.5555555555555556,
              "#d8576b"
             ],
             [
              0.6666666666666666,
              "#ed7953"
             ],
             [
              0.7777777777777778,
              "#fb9f3a"
             ],
             [
              0.8888888888888888,
              "#fdca26"
             ],
             [
              1,
              "#f0f921"
             ]
            ],
            "type": "histogram2dcontour"
           }
          ],
          "mesh3d": [
           {
            "colorbar": {
             "outlinewidth": 0,
             "ticks": ""
            },
            "type": "mesh3d"
           }
          ],
          "parcoords": [
           {
            "line": {
             "colorbar": {
              "outlinewidth": 0,
              "ticks": ""
             }
            },
            "type": "parcoords"
           }
          ],
          "pie": [
           {
            "automargin": true,
            "type": "pie"
           }
          ],
          "scatter": [
           {
            "fillpattern": {
             "fillmode": "overlay",
             "size": 10,
             "solidity": 0.2
            },
            "type": "scatter"
           }
          ],
          "scatter3d": [
           {
            "line": {
             "colorbar": {
              "outlinewidth": 0,
              "ticks": ""
             }
            },
            "marker": {
             "colorbar": {
              "outlinewidth": 0,
              "ticks": ""
             }
            },
            "type": "scatter3d"
           }
          ],
          "scattercarpet": [
           {
            "marker": {
             "colorbar": {
              "outlinewidth": 0,
              "ticks": ""
             }
            },
            "type": "scattercarpet"
           }
          ],
          "scattergeo": [
           {
            "marker": {
             "colorbar": {
              "outlinewidth": 0,
              "ticks": ""
             }
            },
            "type": "scattergeo"
           }
          ],
          "scattergl": [
           {
            "marker": {
             "colorbar": {
              "outlinewidth": 0,
              "ticks": ""
             }
            },
            "type": "scattergl"
           }
          ],
          "scattermapbox": [
           {
            "marker": {
             "colorbar": {
              "outlinewidth": 0,
              "ticks": ""
             }
            },
            "type": "scattermapbox"
           }
          ],
          "scatterpolar": [
           {
            "marker": {
             "colorbar": {
              "outlinewidth": 0,
              "ticks": ""
             }
            },
            "type": "scatterpolar"
           }
          ],
          "scatterpolargl": [
           {
            "marker": {
             "colorbar": {
              "outlinewidth": 0,
              "ticks": ""
             }
            },
            "type": "scatterpolargl"
           }
          ],
          "scatterternary": [
           {
            "marker": {
             "colorbar": {
              "outlinewidth": 0,
              "ticks": ""
             }
            },
            "type": "scatterternary"
           }
          ],
          "surface": [
           {
            "colorbar": {
             "outlinewidth": 0,
             "ticks": ""
            },
            "colorscale": [
             [
              0,
              "#0d0887"
             ],
             [
              0.1111111111111111,
              "#46039f"
             ],
             [
              0.2222222222222222,
              "#7201a8"
             ],
             [
              0.3333333333333333,
              "#9c179e"
             ],
             [
              0.4444444444444444,
              "#bd3786"
             ],
             [
              0.5555555555555556,
              "#d8576b"
             ],
             [
              0.6666666666666666,
              "#ed7953"
             ],
             [
              0.7777777777777778,
              "#fb9f3a"
             ],
             [
              0.8888888888888888,
              "#fdca26"
             ],
             [
              1,
              "#f0f921"
             ]
            ],
            "type": "surface"
           }
          ],
          "table": [
           {
            "cells": {
             "fill": {
              "color": "#EBF0F8"
             },
             "line": {
              "color": "white"
             }
            },
            "header": {
             "fill": {
              "color": "#C8D4E3"
             },
             "line": {
              "color": "white"
             }
            },
            "type": "table"
           }
          ]
         },
         "layout": {
          "annotationdefaults": {
           "arrowcolor": "#2a3f5f",
           "arrowhead": 0,
           "arrowwidth": 1
          },
          "autotypenumbers": "strict",
          "coloraxis": {
           "colorbar": {
            "outlinewidth": 0,
            "ticks": ""
           }
          },
          "colorscale": {
           "diverging": [
            [
             0,
             "#8e0152"
            ],
            [
             0.1,
             "#c51b7d"
            ],
            [
             0.2,
             "#de77ae"
            ],
            [
             0.3,
             "#f1b6da"
            ],
            [
             0.4,
             "#fde0ef"
            ],
            [
             0.5,
             "#f7f7f7"
            ],
            [
             0.6,
             "#e6f5d0"
            ],
            [
             0.7,
             "#b8e186"
            ],
            [
             0.8,
             "#7fbc41"
            ],
            [
             0.9,
             "#4d9221"
            ],
            [
             1,
             "#276419"
            ]
           ],
           "sequential": [
            [
             0,
             "#0d0887"
            ],
            [
             0.1111111111111111,
             "#46039f"
            ],
            [
             0.2222222222222222,
             "#7201a8"
            ],
            [
             0.3333333333333333,
             "#9c179e"
            ],
            [
             0.4444444444444444,
             "#bd3786"
            ],
            [
             0.5555555555555556,
             "#d8576b"
            ],
            [
             0.6666666666666666,
             "#ed7953"
            ],
            [
             0.7777777777777778,
             "#fb9f3a"
            ],
            [
             0.8888888888888888,
             "#fdca26"
            ],
            [
             1,
             "#f0f921"
            ]
           ],
           "sequentialminus": [
            [
             0,
             "#0d0887"
            ],
            [
             0.1111111111111111,
             "#46039f"
            ],
            [
             0.2222222222222222,
             "#7201a8"
            ],
            [
             0.3333333333333333,
             "#9c179e"
            ],
            [
             0.4444444444444444,
             "#bd3786"
            ],
            [
             0.5555555555555556,
             "#d8576b"
            ],
            [
             0.6666666666666666,
             "#ed7953"
            ],
            [
             0.7777777777777778,
             "#fb9f3a"
            ],
            [
             0.8888888888888888,
             "#fdca26"
            ],
            [
             1,
             "#f0f921"
            ]
           ]
          },
          "colorway": [
           "#636efa",
           "#EF553B",
           "#00cc96",
           "#ab63fa",
           "#FFA15A",
           "#19d3f3",
           "#FF6692",
           "#B6E880",
           "#FF97FF",
           "#FECB52"
          ],
          "font": {
           "color": "#2a3f5f"
          },
          "geo": {
           "bgcolor": "white",
           "lakecolor": "white",
           "landcolor": "#E5ECF6",
           "showlakes": true,
           "showland": true,
           "subunitcolor": "white"
          },
          "hoverlabel": {
           "align": "left"
          },
          "hovermode": "closest",
          "mapbox": {
           "style": "light"
          },
          "paper_bgcolor": "white",
          "plot_bgcolor": "#E5ECF6",
          "polar": {
           "angularaxis": {
            "gridcolor": "white",
            "linecolor": "white",
            "ticks": ""
           },
           "bgcolor": "#E5ECF6",
           "radialaxis": {
            "gridcolor": "white",
            "linecolor": "white",
            "ticks": ""
           }
          },
          "scene": {
           "xaxis": {
            "backgroundcolor": "#E5ECF6",
            "gridcolor": "white",
            "gridwidth": 2,
            "linecolor": "white",
            "showbackground": true,
            "ticks": "",
            "zerolinecolor": "white"
           },
           "yaxis": {
            "backgroundcolor": "#E5ECF6",
            "gridcolor": "white",
            "gridwidth": 2,
            "linecolor": "white",
            "showbackground": true,
            "ticks": "",
            "zerolinecolor": "white"
           },
           "zaxis": {
            "backgroundcolor": "#E5ECF6",
            "gridcolor": "white",
            "gridwidth": 2,
            "linecolor": "white",
            "showbackground": true,
            "ticks": "",
            "zerolinecolor": "white"
           }
          },
          "shapedefaults": {
           "line": {
            "color": "#2a3f5f"
           }
          },
          "ternary": {
           "aaxis": {
            "gridcolor": "white",
            "linecolor": "white",
            "ticks": ""
           },
           "baxis": {
            "gridcolor": "white",
            "linecolor": "white",
            "ticks": ""
           },
           "bgcolor": "#E5ECF6",
           "caxis": {
            "gridcolor": "white",
            "linecolor": "white",
            "ticks": ""
           }
          },
          "title": {
           "x": 0.05
          },
          "xaxis": {
           "automargin": true,
           "gridcolor": "white",
           "linecolor": "white",
           "ticks": "",
           "title": {
            "standoff": 15
           },
           "zerolinecolor": "white",
           "zerolinewidth": 2
          },
          "yaxis": {
           "automargin": true,
           "gridcolor": "white",
           "linecolor": "white",
           "ticks": "",
           "title": {
            "standoff": 15
           },
           "zerolinecolor": "white",
           "zerolinewidth": 2
          }
         }
        },
        "title": {
         "text": "Overall win percentage from 1946-2022"
        },
        "xaxis": {
         "anchor": "y",
         "domain": [
          0,
          1
         ],
         "title": {
          "text": "season"
         }
        },
        "yaxis": {
         "anchor": "x",
         "domain": [
          0,
          1
         ],
         "title": {
          "text": "home_win_percentage"
         }
        }
       }
      }
     },
     "metadata": {},
     "output_type": "display_data"
    }
   ],
   "source": [
    "import sqlite3\n",
    "import pandas as pd\n",
    "import plotly.express as px\n",
    "import duckdb \n",
    "\n",
    "#cnx = sqlite3.connect(r'C:\\Users\\Yoric\\Uni\\dataviz-2023\\dataset\\nba.sqlite')\n",
    "# Connect to DuckDB and specify the folder path containing CSV files\n",
    "con = duckdb.connect(database=':memory:', read_only=False)\n",
    "# Register the CSV files as DuckDB tables\n",
    "#con.execute(\"CREATE EXTERNAL TABLE Game USING csv_auto('C:/Users/Yoric/Uni/dataviz-2023/dataset/csv/game.csv')\")\n",
    "\n",
    "query = '''\n",
    "    SELECT \n",
    "        SEASON_ID AS season,\n",
    "        COUNT(DISTINCT GAME_ID) AS total_game_count,\n",
    "        SUM(CASE WL_HOME \n",
    "                WHEN'W' THEN 1\n",
    "                ELSE 0\n",
    "            END) AS home_win_count\n",
    "    FROM read_csv_auto('C:/Users/Yoric/Uni/dataviz-2023/dataset/csv/game.csv')\n",
    "    GROUP BY SEASON\n",
    "    ORDER BY SEASON\n",
    "'''\n",
    "\n",
    "#df_summary = pd.read_sql_query(query2, cnx)\n",
    "#%sql df_summary << SELECT SEASON_ID AS season, COUNT(DISTINCT GAME_ID) AS total_game_count, SUM(CASE WL_HOME WHEN'W' THEN 1 ELSE 0 END) AS home_win_count FROM read_csv_auto('../dataset/csv/game.csv') GROUP BY SEASON ORDER BY SEASON;\n",
    "result = con.execute(query)\n",
    "df_summary = result.fetchdf()\n",
    "df_summary['home_win_percentage'] = round(100*df_summary['home_win_count'] / df_summary['total_game_count'], 2)\n",
    "df_summary['season'] = df_summary['season'].astype(str).str[1:]\n",
    "\n",
    "df_summary\n",
    "px.line(df_summary, y=\"home_win_percentage\", x=\"season\", title=\"Overall win percentage from 1946-2022\")"
   ]
  },
  {
   "cell_type": "code",
   "execution_count": 25,
   "metadata": {},
   "outputs": [
    {
     "data": {
      "image/png": "[encoded data removed]",
      "text/plain": [
       "<Figure size 1200x600 with 1 Axes>"
      ]
     },
     "metadata": {},
     "output_type": "display_data"
    }
   ],
   "source": [
    "import matplotlib.pyplot as plt \n",
    "\n",
    "query2 = '''\n",
    "    SELECT \n",
    "    *\n",
    "    FROM read_csv_auto('C:/Users/Yoric/Uni/dataviz-2023/dataset/csv/game.csv')\n",
    "'''\n",
    "\n",
    "result = con.execute(query2)\n",
    "data = result.fetchdf()\n",
    "\n",
    "# Get unique team IDs\n",
    "unique_team_ids = set(data['team_id_home'].unique()).union(set(data['team_id_away'].unique()))\n",
    "\n",
    "# Define the expected number of games in a season (adjust according to your data)\n",
    "expected_games_per_season = 82\n",
    "\n",
    "# Create dictionaries to store missing game counts per team and year\n",
    "missing_games_per_team = {}\n",
    "missing_games_per_year = {}\n",
    "\n",
    "# Iterate over each team ID\n",
    "for team_id in unique_team_ids:\n",
    "    # Retrieve unique season IDs for the specified team (both home and away games)\n",
    "    team_season_ids_home = data.loc[data['team_id_home'] == team_id, 'season_id'].unique()\n",
    "    team_season_ids_away = data.loc[data['team_id_away'] == team_id, 'season_id'].unique()\n",
    "    team_season_ids = set(team_season_ids_home).union(set(team_season_ids_away))\n",
    "\n",
    "    # Iterate through each season ID for the specified team\n",
    "    for season_id in team_season_ids:\n",
    "        # Retrieve unique game IDs for the current team and season (both home and away games)\n",
    "        team_season_games_home = data.loc[(data['team_id_home'] == team_id) & (data['season_id'] == season_id), 'game_id'].unique()\n",
    "        team_season_games_away = data.loc[(data['team_id_away'] == team_id) & (data['season_id'] == season_id), 'game_id'].unique()\n",
    "        team_season_games = set(team_season_games_home).union(set(team_season_games_away))\n",
    "\n",
    "        # Check if the count of unique game IDs is less than the expected number of games\n",
    "        if len(team_season_games) < expected_games_per_season:\n",
    "            missing_games = expected_games_per_season - len(team_season_games)\n",
    "\n",
    "            # Update missing game count per team\n",
    "            if team_id in missing_games_per_team:\n",
    "                missing_games_per_team[team_id] += missing_games\n",
    "            else:\n",
    "                missing_games_per_team[team_id] = missing_games\n",
    "\n",
    "            # Update missing game count per year\n",
    "            if season_id in missing_games_per_year:\n",
    "                missing_games_per_year[season_id] += missing_games\n",
    "            else:\n",
    "                missing_games_per_year[season_id] = missing_games\n",
    "\n",
    "# Create lists for season IDs and missing game counts\n",
    "season_ids = list(missing_games_per_year.keys())\n",
    "missing_game_counts_per_year = list(missing_games_per_year.values())\n",
    "\n",
    "# Plot the amount of missing games per year\n",
    "plt.figure(figsize=(12, 6))\n",
    "plt.bar(season_ids, missing_game_counts_per_year)\n",
    "plt.xlabel('Season ID')\n",
    "plt.ylabel('Missing Game Count')\n",
    "plt.title('Missing Games per Year')\n",
    "plt.xticks(rotation=90)\n",
    "plt.tight_layout()\n",
    "plt.show()"
   ]
  },
  {
   "cell_type": "code",
   "execution_count": 49,
   "metadata": {},
   "outputs": [
    {
     "data": {
      "image/png": "[encoded data removed]",
      "text/plain": [
       "<Figure size 1200x600 with 1 Axes>"
      ]
     },
     "metadata": {},
     "output_type": "display_data"
    }
   ],
   "source": [
    "import matplotlib.pyplot as plt\n",
    "\n",
    "query2 = '''\n",
    "    SELECT \n",
    "    *\n",
    "    FROM read_csv_auto('C:/Users/Yoric/Uni/dataviz-2023/dataset/csv/game.csv')\n",
    "'''\n",
    "\n",
    "result = con.execute(query2)\n",
    "data = result.fetchdf()\n",
    "\n",
    "# Get unique team IDs\n",
    "unique_team_ids = set(data['team_id_home'].unique()).union(set(data['team_id_away'].unique()))\n",
    "\n",
    "# Define the expected number of games in a season (adjust according to your data)\n",
    "expected_games_per_season = 82\n",
    "\n",
    "# Create dictionaries to store missing game counts per team and year\n",
    "missing_games_per_team = {}\n",
    "missing_games_per_year = {}\n",
    "\n",
    "# Iterate over each team ID\n",
    "for team_id in unique_team_ids:\n",
    "    # Retrieve unique season IDs for the specified team (both home and away games)\n",
    "    team_season_ids_home = data.loc[data['team_id_home'] == team_id, 'season_id'].unique()\n",
    "    team_season_ids_away = data.loc[data['team_id_away'] == team_id, 'season_id'].unique()\n",
    "    team_season_ids = set(team_season_ids_home).union(set(team_season_ids_away))\n",
    "\n",
    "    # Iterate through each season ID for the specified team\n",
    "    for season_id in team_season_ids:\n",
    "        # Retrieve unique game IDs for the current team and season (both home and away games)\n",
    "        team_season_games_home = data.loc[(data['team_id_home'] == team_id) & (data['season_id'] == season_id), 'game_id'].unique()\n",
    "        team_season_games_away = data.loc[(data['team_id_away'] == team_id) & (data['season_id'] == season_id), 'game_id'].unique()\n",
    "        team_season_games = set(team_season_games_home).union(set(team_season_games_away))\n",
    "\n",
    "        # Check if the count of unique game IDs is less than the expected number of games\n",
    "        if len(team_season_games) < expected_games_per_season:\n",
    "            missing_games = expected_games_per_season - len(team_season_games)\n",
    "\n",
    "            # Update missing game count per team\n",
    "            if team_id in missing_games_per_team:\n",
    "                missing_games_per_team[team_id] += missing_games\n",
    "            else:\n",
    "                missing_games_per_team[team_id] = missing_games\n",
    "\n",
    "            # Update missing game count per year\n",
    "            if season_id in missing_games_per_year:\n",
    "                missing_games_per_year[season_id] += missing_games\n",
    "            else:\n",
    "                missing_games_per_year[season_id] = missing_games\n",
    "\n",
    "# Create lists for team IDs and missing game counts\n",
    "team_ids = list(missing_games_per_team.keys())\n",
    "missing_game_counts = list(missing_games_per_team.values())\n",
    "\n",
    "plt.figure(figsize=(12, 6))\n",
    "plt.bar(range(len(team_ids)), missing_game_counts)\n",
    "plt.xlabel('Team ID')\n",
    "plt.ylabel('Missing Game Count')\n",
    "plt.title('Missing Games per Team')\n",
    "plt.xticks(range(len(team_ids)), team_ids, rotation=90)\n",
    "plt.tight_layout()\n",
    "plt.show()\n",
    "\n",
    "#Probably all the oldest team have more \"missing\" games because in the beginnign in 1940s there were no fixed amount of games"
   ]
  },
  {
   "cell_type": "code",
   "execution_count": 85,
   "metadata": {},
   "outputs": [
    {
     "data": {
      "image/png": "[encoded data removed]",
      "text/plain": [
       "<Figure size 1200x600 with 1 Axes>"
      ]
     },
     "metadata": {},
     "output_type": "display_data"
    }
   ],
   "source": [
    "import pandas as pd\n",
    "import matplotlib.pyplot as plt\n",
    "\n",
    "query2 = '''\n",
    "    SELECT \n",
    "    *\n",
    "    FROM read_csv_auto('C:/Users/Yoric/Uni/dataviz-2023/dataset/csv/game.csv')\n",
    "'''\n",
    "\n",
    "result = con.execute(query2)\n",
    "data = result.fetchdf()\n",
    "\n",
    "# Define the team ID for which you want to plot the games\n",
    "team_id = 1610612763  # Replace with the desired team ID\n",
    "\n",
    "# Filter the data for the specified team\n",
    "team_data = data[(data['team_id_home'] == team_id) | (data['team_id_away'] == team_id)]\n",
    "\n",
    "# Get unique season IDs for the specified team\n",
    "team_season_ids = team_data['season_id'].unique()\n",
    "\n",
    "# Count the number of games played by the team in each season\n",
    "games_per_season = team_data['season_id'].value_counts()\n",
    "\n",
    "# Create a bar plot for the games per season\n",
    "plt.figure(figsize=(12, 6))\n",
    "plt.bar(games_per_season.index, games_per_season.values)\n",
    "plt.xlabel('Season ID')\n",
    "plt.ylabel('Number of Games')\n",
    "plt.title(f'Number of Games per Season - Team ID: {team_id}')\n",
    "plt.xticks(team_season_ids, rotation=90)\n",
    "plt.tight_layout()\n",
    "plt.show()"
   ]
  },
  {
   "cell_type": "code",
   "execution_count": 77,
   "metadata": {},
   "outputs": [
    {
     "name": "stdout",
     "output_type": "stream",
     "text": [
      "           team_name_home          team_name_away  plus_minus_away  game_date\n",
      "0          Boston Celtics         Detroit Pistons               -7 2003-04-16\n",
      "1     Cleveland Cavaliers         Toronto Raptors              -10 2003-04-16\n",
      "2     New Orleans Hornets           Atlanta Hawks              -15 2003-04-16\n",
      "3     Seattle SuperSonics            Phoenix Suns              -14 2003-04-16\n",
      "4          Denver Nuggets         Houston Rockets                5 2003-04-16\n",
      "5       Memphis Grizzlies  Minnesota Timberwolves                8 2003-04-16\n",
      "6       San Antonio Spurs        Dallas Mavericks               21 2003-04-16\n",
      "7        Sacramento Kings               Utah Jazz              -11 2003-04-16\n",
      "8          Indiana Pacers         New Jersey Nets               -7 2003-04-16\n",
      "9      Philadelphia 76ers      Washington Wizards              -20 2003-04-16\n",
      "10   Los Angeles Clippers  Portland Trail Blazers              -14 2003-04-16\n",
      "11  Golden State Warriors      Los Angeles Lakers                6 2003-04-16\n",
      "12        Milwaukee Bucks           Orlando Magic               -6 2003-04-16\n"
     ]
    }
   ],
   "source": [
    "import pandas as pd\n",
    "import matplotlib.pyplot as plt\n",
    "\n",
    "con = duckdb.connect(database=':memory:', read_only=False)\n",
    "# Load your table into a DataFrame (assuming it's named 'data')\n",
    "query2 = '''\n",
    "    SELECT\n",
    "    team_name_home,\n",
    "    team_name_away,\n",
    "    plus_minus_away,\n",
    "    game_date\n",
    "    FROM read_csv_auto('C:/Users/Yoric/Uni/dataviz-2023/dataset/csv/game.csv')\n",
    "    WHERE game_date='2003-04-16'\n",
    "'''\n",
    "    \n",
    "result = con.execute(query2)\n",
    "data = result.fetchdf()\n",
    "\n",
    "print(data)\n"
   ]
  },
  {
   "cell_type": "code",
   "execution_count": 114,
   "metadata": {},
   "outputs": [
    {
     "name": "stderr",
     "output_type": "stream",
     "text": [
      "C:\\Users\\Yoric\\AppData\\Local\\Temp\\ipykernel_20112\\4273947542.py:44: FutureWarning:\n",
      "\n",
      "The default value of numeric_only in DataFrameGroupBy.sum is deprecated. In a future version, numeric_only will default to False. Either specify numeric_only or select only columns which should be valid for the function.\n",
      "\n"
     ]
    },
    {
     "data": {
      "image/png": "[encoded data removed]",
      "text/plain": [
       "<Figure size 1200x600 with 1 Axes>"
      ]
     },
     "metadata": {},
     "output_type": "display_data"
    }
   ],
   "source": [
    "import pandas as pd\n",
    "import matplotlib.pyplot as plt\n",
    "import random\n",
    "\n",
    "con = duckdb.connect(database=':memory:', read_only=False)\n",
    "# Load your table into a DataFrame (assuming it's named 'data')\n",
    "query2 = '''\n",
    "   SELECT \n",
    "        SEASON_IDcd AS season,\n",
    "        TEAM_ID_HOME AS team_id,\n",
    "        TEAM_NAME_HOME AS team_name,\n",
    "        FG3m_HOME AS made_threepointers,\n",
    "        FG3a_HOME AS attempted_threepointers,\n",
    "        FG3_PCT_HOME AS three_point_percentage,\n",
    "        COUNT(TEAM_ID_HOME) AS team_game_count,\n",
    "    FROM read_csv_auto('C:/Users/Yoric/Uni/dataviz-2023/dataset/csv/game.csv')\n",
    "    GROUP BY SEASON_ID, TEAM_ID_HOME, TEAM_NAME_HOME, FG3_PCT_HOME, FG3m_HOME, FG3a_HOME\n",
    "    \n",
    "    UNION\n",
    "    \n",
    "    SELECT \n",
    "        SEASON_ID AS season,\n",
    "        TEAM_ID_AWAY AS team_id,\n",
    "        TEAM_NAME_AWAY AS team_name,        \n",
    "        FG3m_AWAY AS made_threepointers,\n",
    "        FG3a_AWAY AS attempted_threepointers,\n",
    "        FG3_PCT_AWAY AS three_point_percentage,\n",
    "        COUNT(TEAM_ID_AWAY) AS team_game_count,\n",
    "    FROM read_csv_auto('C:/Users/Yoric/Uni/dataviz-2023/dataset/csv/game.csv')\n",
    "    GROUP BY SEASON_ID, TEAM_ID_AWAY, TEAM_NAME_AWAY, FG3_PCT_AWAY, FG3m_AWAY, FG3a_AWAY\n",
    "'''\n",
    "    \n",
    "result = con.execute(query2)\n",
    "data = result.fetchdf()\n",
    "\n",
    "team_ids = list(set(data['team_id']))\n",
    "# Select one random team ID\n",
    "random_team_id = random.choice(team_ids)\n",
    "\n",
    "# Filter the DataFrame for the selected team\n",
    "random_team = data[data['team_id'] == random_team_id]\n",
    "\n",
    "# Group by season and sum the made and attempted threepointers\n",
    "grouped_df = random_team.groupby('season').sum()\n",
    "\n",
    "# Plot stacked bar plot for made and attempted threepointers per season\n",
    "plt.figure(figsize=(12, 6))\n",
    "plt.bar(grouped_df.index, grouped_df['attempted_threepointers'], label='Attempted Threepointers')\n",
    "plt.bar(grouped_df.index, grouped_df['made_threepointers'], label='Made Threepointers')\n",
    "plt.xlabel('Season')\n",
    "plt.ylabel('Count')\n",
    "plt.title('Threepointers per Season - Team: {}'.format(random_team['team_name'].values[0]))\n",
    "plt.legend()\n",
    "plt.xticks(rotation=90)\n",
    "plt.tight_layout()\n",
    "plt.show()\n"
   ]
  },
  {
   "cell_type": "code",
   "execution_count": 107,
   "metadata": {},
   "outputs": [
    {
     "name": "stdout",
     "output_type": "stream",
     "text": [
      "           team_id  made_threepointers  attempted_threepointers\n",
      "season                                                         \n",
      "1945    8053063759                 0.0                      0.0\n",
      "1946    8053063759                 7.0                     17.0\n",
      "1947    8053063759                 0.0                      0.0\n",
      "1948    8053063759                 0.0                      0.0\n",
      "1949    8053063759                 0.0                      0.0\n",
      "...            ...                 ...                      ...\n",
      "2019    8053063759                 0.0                      0.0\n",
      "2020    8053063759                 0.0                      0.0\n",
      "2021    8053063759                 0.0                      0.0\n",
      "2022    8053063759                 0.0                      0.0\n",
      "2023    8053063759                 0.0                      0.0\n",
      "\n",
      "[79 rows x 3 columns]\n"
     ]
    }
   ],
   "source": [
    "print(grouped_df)"
   ]
  },
  {
   "attachments": {},
   "cell_type": "markdown",
   "metadata": {},
   "source": [
    "Findings:\n",
    "    \n",
    "    Missing two total seasons 1988 and 2017 \n",
    "\n",
    "    only the games since the last team relocation are stored e. g. Golden State Warriors\n",
    "        --> TeamID in the query solves this \n",
    "    investigate seasons 1998 further\n",
    "    \n",
    "    timely investigation reasonable since 1966 beforehand the were no fixed amount of games per team and year\n",
    "    \n",
    "    Season games are only in the table check it for another season then 02/03\n",
    "    "
   ]
  }
 ],
 "metadata": {
  "kernelspec": {
   "display_name": "mlia",
   "language": "python",
   "name": "python3"
  },
  "language_info": {
   "codemirror_mode": {
    "name": "ipython",
    "version": 3
   },
   "file_extension": ".py",
   "mimetype": "text/x-python",
   "name": "python",
   "nbconvert_exporter": "python",
   "pygments_lexer": "ipython3",
   "version": "3.10.11"
  },
  "orig_nbformat": 4
 },
 "nbformat": 4,
 "nbformat_minor": 2
}
