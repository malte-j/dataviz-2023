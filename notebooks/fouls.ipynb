{
 "cells": [
  {
   "cell_type": "code",
   "execution_count": null,
   "metadata": {},
   "outputs": [],
   "source": [
    "# import duckdb\n",
    "import pandas as pd\n",
    "# No need to import duckdb_engine\n",
    "#  jupysql will auto-detect the driver needed based on the connection string!\n",
    "\n",
    "# Import jupysql Jupyter extension to create SQL cells\n",
    "%reload_ext sql\n",
    "%load_ext sql\n",
    "%config SqlMagic.autopandas = True\n",
    "%config SqlMagic.feedback = False\n",
    "%config SqlMagic.displaycon = False\n",
    "%sql duckdb:///:default:\n",
    "\n",
    "# Plot display settings\n",
    "import matplotlib.pyplot as plt\n",
    "import matplotlib\n",
    "\n",
    "plt.rcParams['figure.dpi'] = 300\n",
    "matplotlib.rcParams['font.family'] = ['Inter', 'sans-serif']\n",
    "\n",
    "pd.set_option('display.max_colwidth', 3000)\n",
    "pd.set_option(\"display.max_columns\", None)\n",
    "pd.set_option(\"display.max_rows\", None)"
   ]
  }
 ],
 "metadata": {
  "language_info": {
   "name": "python"
  },
  "orig_nbformat": 4
 },
 "nbformat": 4,
 "nbformat_minor": 2
}
